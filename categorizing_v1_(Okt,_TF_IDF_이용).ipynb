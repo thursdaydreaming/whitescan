{
  "nbformat": 4,
  "nbformat_minor": 0,
  "metadata": {
    "colab": {
      "name": "categorizing v1 (Okt, TF-IDF  이용)",
      "provenance": [],
      "authorship_tag": "ABX9TyMEjveIlhCrA8tRxrDTBTKy",
      "include_colab_link": true
    },
    "kernelspec": {
      "name": "python3",
      "display_name": "Python 3"
    },
    "language_info": {
      "name": "python"
    }
  },
  "cells": [
    {
      "cell_type": "markdown",
      "metadata": {
        "id": "view-in-github",
        "colab_type": "text"
      },
      "source": [
        "<a href=\"https://colab.research.google.com/github/thursdaydreaming/whitescan/blob/main/categorizing_v1_(Okt%2C_TF_IDF_%EC%9D%B4%EC%9A%A9).ipynb\" target=\"_parent\"><img src=\"https://colab.research.google.com/assets/colab-badge.svg\" alt=\"Open In Colab\"/></a>"
      ]
    },
    {
      "cell_type": "code",
      "metadata": {
        "id": "VBcOR92T0_D6",
        "colab": {
          "base_uri": "https://localhost:8080/"
        },
        "outputId": "72c9c6db-57ec-4653-cf37-e532931d161f"
      },
      "source": [
        "%matplotlib inline\n",
        "\n",
        "!pip install scikit-learn==0.21.1\n",
        "!pip install konlpy"
      ],
      "execution_count": 158,
      "outputs": [
        {
          "output_type": "stream",
          "text": [
            "Requirement already satisfied: scikit-learn==0.21.1 in /usr/local/lib/python3.7/dist-packages (0.21.1)\n",
            "Requirement already satisfied: numpy>=1.11.0 in /usr/local/lib/python3.7/dist-packages (from scikit-learn==0.21.1) (1.19.5)\n",
            "Requirement already satisfied: joblib>=0.11 in /usr/local/lib/python3.7/dist-packages (from scikit-learn==0.21.1) (1.0.1)\n",
            "Requirement already satisfied: scipy>=0.17.0 in /usr/local/lib/python3.7/dist-packages (from scikit-learn==0.21.1) (1.4.1)\n",
            "Requirement already satisfied: konlpy in /usr/local/lib/python3.7/dist-packages (0.5.2)\n",
            "Requirement already satisfied: colorama in /usr/local/lib/python3.7/dist-packages (from konlpy) (0.4.4)\n",
            "Requirement already satisfied: JPype1>=0.7.0 in /usr/local/lib/python3.7/dist-packages (from konlpy) (1.3.0)\n",
            "Requirement already satisfied: numpy>=1.6 in /usr/local/lib/python3.7/dist-packages (from konlpy) (1.19.5)\n",
            "Requirement already satisfied: lxml>=4.1.0 in /usr/local/lib/python3.7/dist-packages (from konlpy) (4.2.6)\n",
            "Requirement already satisfied: tweepy>=3.7.0 in /usr/local/lib/python3.7/dist-packages (from konlpy) (3.10.0)\n",
            "Requirement already satisfied: beautifulsoup4==4.6.0 in /usr/local/lib/python3.7/dist-packages (from konlpy) (4.6.0)\n",
            "Requirement already satisfied: typing-extensions; python_version < \"3.8\" in /usr/local/lib/python3.7/dist-packages (from JPype1>=0.7.0->konlpy) (3.7.4.3)\n",
            "Requirement already satisfied: requests[socks]>=2.11.1 in /usr/local/lib/python3.7/dist-packages (from tweepy>=3.7.0->konlpy) (2.23.0)\n",
            "Requirement already satisfied: requests-oauthlib>=0.7.0 in /usr/local/lib/python3.7/dist-packages (from tweepy>=3.7.0->konlpy) (1.3.0)\n",
            "Requirement already satisfied: six>=1.10.0 in /usr/local/lib/python3.7/dist-packages (from tweepy>=3.7.0->konlpy) (1.15.0)\n",
            "Requirement already satisfied: idna<3,>=2.5 in /usr/local/lib/python3.7/dist-packages (from requests[socks]>=2.11.1->tweepy>=3.7.0->konlpy) (2.10)\n",
            "Requirement already satisfied: chardet<4,>=3.0.2 in /usr/local/lib/python3.7/dist-packages (from requests[socks]>=2.11.1->tweepy>=3.7.0->konlpy) (3.0.4)\n",
            "Requirement already satisfied: certifi>=2017.4.17 in /usr/local/lib/python3.7/dist-packages (from requests[socks]>=2.11.1->tweepy>=3.7.0->konlpy) (2021.5.30)\n",
            "Requirement already satisfied: urllib3!=1.25.0,!=1.25.1,<1.26,>=1.21.1 in /usr/local/lib/python3.7/dist-packages (from requests[socks]>=2.11.1->tweepy>=3.7.0->konlpy) (1.24.3)\n",
            "Requirement already satisfied: PySocks!=1.5.7,>=1.5.6; extra == \"socks\" in /usr/local/lib/python3.7/dist-packages (from requests[socks]>=2.11.1->tweepy>=3.7.0->konlpy) (1.7.1)\n",
            "Requirement already satisfied: oauthlib>=3.0.0 in /usr/local/lib/python3.7/dist-packages (from requests-oauthlib>=0.7.0->tweepy>=3.7.0->konlpy) (3.1.1)\n"
          ],
          "name": "stdout"
        }
      ]
    },
    {
      "cell_type": "code",
      "metadata": {
        "id": "jIbmiX9H9mzm"
      },
      "source": [
        "import pandas as pd\n",
        "import matplotlib.pyplot as plt\n",
        "import urllib.request\n",
        "import csv\n",
        "import warnings\n",
        "warnings.filterwarnings(\"ignore\")\n",
        "from konlpy.tag import Okt\n",
        "import numpy as np"
      ],
      "execution_count": 159,
      "outputs": []
    },
    {
      "cell_type": "code",
      "metadata": {
        "colab": {
          "base_uri": "https://localhost:8080/"
        },
        "id": "a-WafkPu-A8u",
        "outputId": "f0bfe1c0-63d1-4e32-a3e8-e99f776536eb"
      },
      "source": [
        "from google.colab import drive\n",
        "drive.mount('/content/drive')"
      ],
      "execution_count": 160,
      "outputs": [
        {
          "output_type": "stream",
          "text": [
            "Drive already mounted at /content/drive; to attempt to forcibly remount, call drive.mount(\"/content/drive\", force_remount=True).\n"
          ],
          "name": "stdout"
        }
      ]
    },
    {
      "cell_type": "markdown",
      "metadata": {
        "id": "AErwNRUzJx8F"
      },
      "source": [
        "# 테스트하려면 주신 데이터셋(xlrx)를 csv로 변환해서 새로 저장해야 함! Sheet1만 추출!"
      ]
    },
    {
      "cell_type": "code",
      "metadata": {
        "colab": {
          "base_uri": "https://localhost:8080/"
        },
        "id": "_3gbqLVX-Y0F",
        "outputId": "569948e3-e25a-44cf-9abc-b4aa048dc926"
      },
      "source": [
        "data = pd.read_csv(\"drive/MyDrive/Sheet1.csv\", sep=',')\n",
        "print(data)"
      ],
      "execution_count": 161,
      "outputs": [
        {
          "output_type": "stream",
          "text": [
            "       카테고리          키워드\n",
            "0     의류/잡화          원피스\n",
            "1     의류/잡화  써스데이아일랜드원피스\n",
            "2     의류/잡화        여름원피스\n",
            "3     의류/잡화         블라우스\n",
            "4     의류/잡화        남자반팔티\n",
            "...     ...          ...\n",
            "2995    화장품         프라이머\n",
            "2996    화장품    vdl아이프라이머\n",
            "2997    화장품       아이프라이머\n",
            "2998    화장품   맥라이트풀c프라이머\n",
            "2999    화장품       모공프라이머\n",
            "\n",
            "[3000 rows x 2 columns]\n"
          ],
          "name": "stdout"
        }
      ]
    },
    {
      "cell_type": "code",
      "metadata": {
        "colab": {
          "base_uri": "https://localhost:8080/"
        },
        "id": "bnCPwm2q_lyR",
        "outputId": "ad305e03-8d02-4408-b72f-df83dc2949a5"
      },
      "source": [
        "from sklearn.feature_extraction.text import TfidfVectorizer\n",
        "\n",
        "tfidf_vectorizer = TfidfVectorizer(min_df=1)\n",
        "tfidf_matrix = tfidf_vectorizer.fit_transform(data['키워드'])\n",
        "doc_similarities = (tfidf_matrix * tfidf_matrix.T)\n",
        "\n",
        "print(doc_similarities.toarray())\n",
        "#여기서 1은 자기 자신과의 유사도, 1은 완전 일치 0은 완전 불일치"
      ],
      "execution_count": 162,
      "outputs": [
        {
          "output_type": "stream",
          "text": [
            "[[1. 0. 0. ... 0. 0. 0.]\n",
            " [0. 1. 0. ... 0. 0. 0.]\n",
            " [0. 0. 1. ... 0. 0. 0.]\n",
            " ...\n",
            " [0. 0. 0. ... 1. 0. 0.]\n",
            " [0. 0. 0. ... 0. 1. 0.]\n",
            " [0. 0. 0. ... 0. 0. 1.]]\n"
          ],
          "name": "stdout"
        }
      ]
    },
    {
      "cell_type": "code",
      "metadata": {
        "colab": {
          "base_uri": "https://localhost:8080/"
        },
        "id": "x1rhLa5cABjy",
        "outputId": "9e74e655-d500-481e-e552-fa8dcbcbcead"
      },
      "source": [
        "#명사 추출 후 유사도 재검사 (개선)\n",
        "\n",
        "okt = Okt()\n",
        "\n",
        "doc_nouns_list = [' '.join(okt.nouns(doc)) for doc in data['키워드']]\n",
        "print(doc_nouns_list)\n",
        "\n",
        "tfidf_vectorizer = TfidfVectorizer(min_df=1)\n",
        "tfidf_matrix = tfidf_vectorizer.fit_transform(doc_nouns_list)\n",
        "doc_nouns_similarities = (tfidf_matrix * tfidf_matrix.T)\n",
        "\n",
        "print(doc_nouns_similarities.toarray())"
      ],
      "execution_count": 163,
      "outputs": [
        {
          "output_type": "stream",
            "[[1.         0.38630541 0.61523159 ... 0.         0.         0.        ]\n",
            " [0.38630541 1.         0.23766729 ... 0.         0.         0.        ]\n",
            " [0.61523159 0.23766729 1.         ... 0.         0.         0.        ]\n",
            " ...\n",
            " [0.         0.         0.         ... 1.         0.57759718 0.83653504]\n",
            " [0.         0.         0.         ... 0.57759718 1.         0.69046382]\n",
            " [0.         0.         0.         ... 0.83653504 0.69046382 1.        ]]\n"
          ],
          "name": "stdout"
        }
      ]
    },
    {
      "cell_type": "markdown",
      "metadata": {
        "id": "x1N1YFOAJTZ-"
      },
      "source": [
        "#**위의 것은 테스트용, 지금부터가 진짜**\n"
      ]
    },
    {
      "cell_type": "code",
      "metadata": {
        "colab": {
          "base_uri": "https://localhost:8080/",
          "height": 359
        },
        "id": "kTFzJk11ASvm",
        "outputId": "2f880d15-e831-497d-a6f4-33f8a601dec4"
      },
      "source": [
        "# 3개의 카테고리, 개별 카테고리마다 1000개의 샘플데이터\n",
        "# 상호 간 유사도 측정 뒤, 총 3000개의 샘플 데이터 중 유사도 상위 100개의 일치 비율 파악\n",
        "\n",
        "# 데이터 프레임에 행추가해서 ID 값 부여\n",
        "ID=[]\n",
        "\n",
        "for i in range(1,len(data)+1):\n",
        "  ID.append(i)\n",
        "  i+=1\n",
        "#print(ID)\n",
        "\n",
        "data['ID']=ID\n",
        "#data.head(10)\n",
        "\n",
        "#ID 인덱스화\n",
        "#data=data.set_index('ID')\n",
        "data.head(10)"
      ],
      "execution_count": 164,
      "outputs": [
        {
          "output_type": "execute_result",
          "data": {
            "text/html": [
              "<div>\n",
              "<style scoped>\n",
              "    .dataframe tbody tr th:only-of-type {\n",
              "        vertical-align: middle;\n",
              "    }\n",
              "\n",
              "    .dataframe tbody tr th {\n",
              "        vertical-align: top;\n",
              "    }\n",
              "\n",
              "    .dataframe thead th {\n",
              "        text-align: right;\n",
              "    }\n",
              "</style>\n",
              "<table border=\"1\" class=\"dataframe\">\n",
              "  <thead>\n",
              "    <tr style=\"text-align: right;\">\n",
              "      <th></th>\n",
              "      <th>카테고리</th>\n",
              "      <th>키워드</th>\n",
              "      <th>ID</th>\n",
              "    </tr>\n",
              "  </thead>\n",
              "  <tbody>\n",
              "    <tr>\n",
              "      <th>0</th>\n",
              "      <td>의류/잡화</td>\n",
              "      <td>원피스</td>\n",
              "      <td>1</td>\n",
              "    </tr>\n",
              "    <tr>\n",
              "      <th>1</th>\n",
              "      <td>의류/잡화</td>\n",
              "      <td>써스데이아일랜드원피스</td>\n",
              "      <td>2</td>\n",
              "    </tr>\n",
              "    <tr>\n",
              "      <th>2</th>\n",
              "      <td>의류/잡화</td>\n",
              "      <td>여름원피스</td>\n",
              "      <td>3</td>\n",
              "    </tr>\n",
              "    <tr>\n",
              "      <th>3</th>\n",
              "      <td>의류/잡화</td>\n",
              "      <td>블라우스</td>\n",
              "      <td>4</td>\n",
              "    </tr>\n",
              "    <tr>\n",
              "      <th>4</th>\n",
              "      <td>의류/잡화</td>\n",
              "      <td>남자반팔티</td>\n",
              "      <td>5</td>\n",
              "    </tr>\n",
              "    <tr>\n",
              "      <th>5</th>\n",
              "      <td>의류/잡화</td>\n",
              "      <td>롱원피스</td>\n",
              "      <td>6</td>\n",
              "    </tr>\n",
              "    <tr>\n",
              "      <th>6</th>\n",
              "      <td>의류/잡화</td>\n",
              "      <td>여성점프수트</td>\n",
              "      <td>7</td>\n",
              "    </tr>\n",
              "    <tr>\n",
              "      <th>7</th>\n",
              "      <td>의류/잡화</td>\n",
              "      <td>라코스테원피스</td>\n",
              "      <td>8</td>\n",
              "    </tr>\n",
              "    <tr>\n",
              "      <th>8</th>\n",
              "      <td>의류/잡화</td>\n",
              "      <td>메종키츠네반팔</td>\n",
              "      <td>9</td>\n",
              "    </tr>\n",
              "    <tr>\n",
              "      <th>9</th>\n",
              "      <td>의류/잡화</td>\n",
              "      <td>쥬시쥬디</td>\n",
              "      <td>10</td>\n",
              "    </tr>\n",
              "  </tbody>\n",
              "</table>\n",
              "</div>"
            ],
            "text/plain": [
              "    카테고리          키워드  ID\n",
              "0  의류/잡화          원피스   1\n",
              "1  의류/잡화  써스데이아일랜드원피스   2\n",
              "2  의류/잡화        여름원피스   3\n",
              "3  의류/잡화         블라우스   4\n",
              "4  의류/잡화        남자반팔티   5\n",
              "5  의류/잡화         롱원피스   6\n",
              "6  의류/잡화       여성점프수트   7\n",
              "7  의류/잡화      라코스테원피스   8\n",
              "8  의류/잡화      메종키츠네반팔   9\n",
              "9  의류/잡화         쥬시쥬디  10"
            ]
          },
          "metadata": {
            "tags": []
          },
          "execution_count": 164
        }
      ]
    },
    {
      "cell_type": "code",
      "metadata": {
        "colab": {
          "base_uri": "https://localhost:8080/",
          "height": 359
        },
        "id": "Mq8vFPINEDBk",
        "outputId": "b4e05307-44d2-421a-8eea-4f5a7f77cd04"
      },
      "source": [
        "# 명사 추출한 데이터만 df에 남기고 모두 삭제\n",
        "\n",
        "#data['keyword']=doc_nouns_list\n",
        "#del data['키워드']\n",
        "\n",
        "# 유사도도 df에 넣었다가 일단 뺌\n",
        "#data['similarity']=doc_nouns_similarities\n",
        "#del data['similarity']\n",
        "\n",
        "data.head(10)"
      ],
      "execution_count": 165,
      "outputs": [
        {
          "output_type": "execute_result",
          "data": {
            "text/html": [
              "<div>\n",
              "<style scoped>\n",
              "    .dataframe tbody tr th:only-of-type {\n",
              "        vertical-align: middle;\n",
              "    }\n",
              "\n",
              "    .dataframe tbody tr th {\n",
              "        vertical-align: top;\n",
              "    }\n",
              "\n",
              "    .dataframe thead th {\n",
              "        text-align: right;\n",
              "    }\n",
              "</style>\n",
              "<table border=\"1\" class=\"dataframe\">\n",
              "  <thead>\n",
              "    <tr style=\"text-align: right;\">\n",
              "      <th></th>\n",
              "      <th>카테고리</th>\n",
              "      <th>키워드</th>\n",
              "      <th>ID</th>\n",
              "    </tr>\n",
              "  </thead>\n",
              "  <tbody>\n",
              "    <tr>\n",
              "      <th>0</th>\n",
              "      <td>의류/잡화</td>\n",
              "      <td>원피스</td>\n",
              "      <td>1</td>\n",
              "    </tr>\n",
              "    <tr>\n",
              "      <th>1</th>\n",
              "      <td>의류/잡화</td>\n",
              "      <td>써스데이아일랜드원피스</td>\n",
              "      <td>2</td>\n",
              "    </tr>\n",
              "    <tr>\n",
              "      <th>2</th>\n",
              "      <td>의류/잡화</td>\n",
              "      <td>여름원피스</td>\n",
              "      <td>3</td>\n",
              "    </tr>\n",
              "    <tr>\n",
              "      <th>3</th>\n",
              "      <td>의류/잡화</td>\n",
              "      <td>블라우스</td>\n",
              "      <td>4</td>\n",
              "    </tr>\n",
              "    <tr>\n",
              "      <th>4</th>\n",
              "      <td>의류/잡화</td>\n",
              "      <td>남자반팔티</td>\n",
              "      <td>5</td>\n",
              "    </tr>\n",
              "    <tr>\n",
              "      <th>5</th>\n",
              "      <td>의류/잡화</td>\n",
              "      <td>롱원피스</td>\n",
              "      <td>6</td>\n",
              "    </tr>\n",
              "    <tr>\n",
              "      <th>6</th>\n",
              "      <td>의류/잡화</td>\n",
              "      <td>여성점프수트</td>\n",
              "      <td>7</td>\n",
              "    </tr>\n",
              "    <tr>\n",
              "      <th>7</th>\n",
              "      <td>의류/잡화</td>\n",
              "      <td>라코스테원피스</td>\n",
              "      <td>8</td>\n",
              "    </tr>\n",
              "    <tr>\n",
              "      <th>8</th>\n",
              "      <td>의류/잡화</td>\n",
              "      <td>메종키츠네반팔</td>\n",
              "      <td>9</td>\n",
              "    </tr>\n",
              "    <tr>\n",
              "      <th>9</th>\n",
              "      <td>의류/잡화</td>\n",
              "      <td>쥬시쥬디</td>\n",
              "      <td>10</td>\n",
              "    </tr>\n",
              "  </tbody>\n",
              "</table>\n",
              "</div>"
            ],
            "text/plain": [
              "    카테고리          키워드  ID\n",
              "0  의류/잡화          원피스   1\n",
              "1  의류/잡화  써스데이아일랜드원피스   2\n",
              "2  의류/잡화        여름원피스   3\n",
              "3  의류/잡화         블라우스   4\n",
              "4  의류/잡화        남자반팔티   5\n",
              "5  의류/잡화         롱원피스   6\n",
              "6  의류/잡화       여성점프수트   7\n",
              "7  의류/잡화      라코스테원피스   8\n",
              "8  의류/잡화      메종키츠네반팔   9\n",
              "9  의류/잡화         쥬시쥬디  10"
            ]
          },
          "metadata": {
            "tags": []
          },
          "execution_count": 165
        }
      ]
    },
    {
      "cell_type": "code",
      "metadata": {
        "id": "1vhLOw8XGAqz"
      },
      "source": [
        "# 카테고리 값 코드화(의류/잡화:0, 음식:1, 화장품:2)\n",
        "#data.loc[(data.카테고리 == '의류/잡화'), '카테고리']=0\n",
        "#data.loc[(data.카테고리 == '음식'), '카테고리']=1\n",
        "#data.loc[(data.카테고리 == '화장품'), '카테고리']=2\n",
        "#data.head(10)\n",
        "\n",
        "#생각해보니 코드화하면 카테고리와의 유사도분류가 힘든가? 이 부분은 생각해봐야 할 듯"
      ],
      "execution_count": 166,
      "outputs": []
    },
    {
      "cell_type": "code",
      "metadata": {
        "colab": {
          "base_uri": "https://localhost:8080/"
        },
        "id": "asgJ2uAyJ79-",
        "outputId": "cc49c962-87a5-4b08-edbc-6c5e91e6139d"
      },
      "source": [
        "#위에 만들어둔거 활용해서 id와 similarity 뽑아 상위 10개 리스트에 정리하는 함수 다시 짜야함\n",
        "\n",
        "import numpy as np \n",
        "print(type(data))\n",
        "\n",
        "#이렇게 하면 dataframe (명사화시킨 열 추가 안한다면)"
      ],
      "execution_count": 167,
      "outputs": [
        {
          "output_type": "stream",
          "text": [
            "<class 'pandas.core.frame.DataFrame'>\n"
          ],
          "name": "stdout"
        }
      ]
    },
    {
      "cell_type": "code",
      "metadata": {
        "colab": {
          "base_uri": "https://localhost:8080/"
        },
        "id": "5gtnmNXjzkZ5",
        "outputId": "4f182f6f-5711-4067-8dce-7817fbbf13d9"
      },
      "source": [
        "#명사 추출 후 유사도 재검사 (개선)\n",
        "\n",
        "okt = Okt()\n",
        "\n",
        "doc_nouns_list = [' '.join(okt.nouns(doc)) for doc in data['키워드']]\n",
        "#print(doc_nouns_list)\n",
        "\n",
        "tfidf_vectorizer = TfidfVectorizer(min_df=1)\n",
        "tfidf_matrix = tfidf_vectorizer.fit_transform(doc_nouns_list)\n",
        "doc_similarities = (tfidf_matrix * tfidf_matrix.T) #여기까지 밑에 그대로 씀\n",
        "\n",
        "print(doc_similarities.toarray())"
      ],
      "execution_count": 168,
      "outputs": [
        {
          "output_type": "stream",
          "text": [
            "[[1.         0.38630541 0.61523159 ... 0.         0.         0.        ]\n",
            " [0.38630541 1.         0.23766729 ... 0.         0.         0.        ]\n",
            " [0.61523159 0.23766729 1.         ... 0.         0.         0.        ]\n",
            " ...\n",
            " [0.         0.         0.         ... 1.         0.57759718 0.83653504]\n",
            " [0.         0.         0.         ... 0.57759718 1.         0.69046382]\n",
            " [0.         0.         0.         ... 0.83653504 0.69046382 1.        ]]\n"
          ],
          "name": "stdout"
        }
      ]
    },
    {
      "cell_type": "code",
      "metadata": {
        "colab": {
          "base_uri": "https://localhost:8080/"
        },
        "id": "t9mf93d61kkH",
        "outputId": "a401815e-a574-434f-ad9e-b7ff44061c2c"
      },
      "source": [
        "print(doc_nouns_similarities[0])\n",
        "print(type(doc_nouns_similarities))"
      ],
      "execution_count": 169,
      "outputs": [
        {
          "output_type": "stream",
          "text": [
            "  (0, 487)\t0.5194354087394726\n",
            "  (0, 483)\t0.47000270692803403\n",
            "  (0, 474)\t0.3539124465253216\n",
            "  (0, 473)\t0.4947126385677089\n",
            "  (0, 465)\t0.5934643783924363\n",
            "  (0, 460)\t0.5122074757959613\n",
            "  (0, 459)\t0.3685822052688403\n",
            "  (0, 439)\t0.4518546225452886\n",
            "  (0, 437)\t1.0\n",
            "  (0, 431)\t0.5194354087394726\n",
            "  (0, 418)\t0.35801543541720293\n",
            "  (0, 415)\t1.0\n",
            "  (0, 411)\t0.4518546225452886\n",
            "  (0, 407)\t0.4518546225452886\n",
            "  (0, 400)\t0.5515961809669935\n",
            "  (0, 399)\t0.47000270692803403\n",
            "  (0, 390)\t1.0\n",
            "  (0, 388)\t0.47000270692803403\n",
            "  (0, 384)\t0.4518546225452886\n",
            "  (0, 383)\t0.5704877753597173\n",
            "  (0, 379)\t0.5557788511204279\n",
            "  (0, 375)\t0.5318903607821118\n",
            "  (0, 370)\t0.5424270933371224\n",
            "  (0, 369)\t0.4518546225452886\n",
            "  (0, 365)\t0.40262328147060517\n",
            "  :\t:\n",
            "  (0, 49)\t0.6152315877893184\n",
            "  (0, 47)\t0.36393981042052553\n",
            "  (0, 43)\t0.47000270692803403\n",
            "  (0, 42)\t0.4947126385677089\n",
            "  (0, 38)\t1.0\n",
            "  (0, 35)\t0.36393981042052553\n",
            "  (0, 34)\t0.48365382326465584\n",
            "  (0, 33)\t0.36393981042052553\n",
            "  (0, 31)\t0.5704877753597173\n",
            "  (0, 30)\t0.47000270692803403\n",
            "  (0, 26)\t0.4947126385677089\n",
            "  (0, 24)\t0.4518546225452886\n",
            "  (0, 23)\t0.6442177776268644\n",
            "  (0, 20)\t0.5194354087394726\n",
            "  (0, 19)\t0.36393981042052553\n",
            "  (0, 16)\t1.0\n",
            "  (0, 15)\t0.5704877753597173\n",
            "  (0, 13)\t0.4518546225452886\n",
            "  (0, 11)\t1.0\n",
            "  (0, 10)\t0.3809704962685261\n",
            "  (0, 7)\t0.5259500415111399\n",
            "  (0, 5)\t1.0\n",
            "  (0, 2)\t0.6152315877893184\n",
            "  (0, 1)\t0.386305412583743\n",
            "  (0, 0)\t1.0\n",
            "<class 'scipy.sparse.csr.csr_matrix'>\n"
          ],
          "name": "stdout"
        }
      ]
    },
    {
      "cell_type": "code",
      "metadata": {
        "id": "s9eDLkCBy4q_"
      },
      "source": [
        ""
      ],
      "execution_count": 169,
      "outputs": []
    },
    {
      "cell_type": "code",
      "metadata": {
        "id": "RSCuH73Gyx7p"
      },
      "source": [
        ""
      ],
      "execution_count": 169,
      "outputs": []
    }
  ]
}
