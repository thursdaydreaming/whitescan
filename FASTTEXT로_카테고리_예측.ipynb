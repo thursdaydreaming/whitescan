{
  "nbformat": 4,
  "nbformat_minor": 0,
  "metadata": {
    "colab": {
      "name": "FASTTEXT로 카테고리 예측.ipynb",
      "provenance": [],
      "authorship_tag": "ABX9TyMI56+GEcfDHOV672EaYjT8",
      "include_colab_link": true
    },
    "kernelspec": {
      "name": "python3",
      "display_name": "Python 3"
    },
    "language_info": {
      "name": "python"
    }
  },
  "cells": [
    {
      "cell_type": "markdown",
      "metadata": {
        "id": "view-in-github",
        "colab_type": "text"
      },
      "source": [
        "<a href=\"https://colab.research.google.com/github/thursdaydreaming/whitescan/blob/main/FASTTEXT%EB%A1%9C_%EC%B9%B4%ED%85%8C%EA%B3%A0%EB%A6%AC_%EC%98%88%EC%B8%A1.ipynb\" target=\"_parent\"><img src=\"https://colab.research.google.com/assets/colab-badge.svg\" alt=\"Open In Colab\"/></a>"
      ]
    },
    {
      "cell_type": "code",
      "metadata": {
        "colab": {
          "base_uri": "https://localhost:8080/"
        },
        "id": "Z53C9HL3OO7f",
        "outputId": "08467903-bef3-40da-dbae-a714ba608f57"
      },
      "source": [
        "!pip install konlpy\n",
        "!pip install sklearn"
      ],
      "execution_count": null,
      "outputs": [
        {
          "output_type": "stream",
          "text": [
            "Requirement already satisfied: konlpy in /usr/local/lib/python3.7/dist-packages (0.5.2)\n",
            "Requirement already satisfied: colorama in /usr/local/lib/python3.7/dist-packages (from konlpy) (0.4.4)\n",
            "Requirement already satisfied: beautifulsoup4==4.6.0 in /usr/local/lib/python3.7/dist-packages (from konlpy) (4.6.0)\n",
            "Requirement already satisfied: numpy>=1.6 in /usr/local/lib/python3.7/dist-packages (from konlpy) (1.19.5)\n",
            "Requirement already satisfied: lxml>=4.1.0 in /usr/local/lib/python3.7/dist-packages (from konlpy) (4.2.6)\n",
            "Requirement already satisfied: JPype1>=0.7.0 in /usr/local/lib/python3.7/dist-packages (from konlpy) (1.3.0)\n",
            "Requirement already satisfied: tweepy>=3.7.0 in /usr/local/lib/python3.7/dist-packages (from konlpy) (3.10.0)\n",
            "Requirement already satisfied: typing-extensions; python_version < \"3.8\" in /usr/local/lib/python3.7/dist-packages (from JPype1>=0.7.0->konlpy) (3.7.4.3)\n",
            "Requirement already satisfied: six>=1.10.0 in /usr/local/lib/python3.7/dist-packages (from tweepy>=3.7.0->konlpy) (1.15.0)\n",
            "Requirement already satisfied: requests[socks]>=2.11.1 in /usr/local/lib/python3.7/dist-packages (from tweepy>=3.7.0->konlpy) (2.23.0)\n",
            "Requirement already satisfied: requests-oauthlib>=0.7.0 in /usr/local/lib/python3.7/dist-packages (from tweepy>=3.7.0->konlpy) (1.3.0)\n",
            "Requirement already satisfied: idna<3,>=2.5 in /usr/local/lib/python3.7/dist-packages (from requests[socks]>=2.11.1->tweepy>=3.7.0->konlpy) (2.10)\n",
            "Requirement already satisfied: certifi>=2017.4.17 in /usr/local/lib/python3.7/dist-packages (from requests[socks]>=2.11.1->tweepy>=3.7.0->konlpy) (2021.5.30)\n",
            "Requirement already satisfied: chardet<4,>=3.0.2 in /usr/local/lib/python3.7/dist-packages (from requests[socks]>=2.11.1->tweepy>=3.7.0->konlpy) (3.0.4)\n",
            "Requirement already satisfied: urllib3!=1.25.0,!=1.25.1,<1.26,>=1.21.1 in /usr/local/lib/python3.7/dist-packages (from requests[socks]>=2.11.1->tweepy>=3.7.0->konlpy) (1.24.3)\n",
            "Requirement already satisfied: PySocks!=1.5.7,>=1.5.6; extra == \"socks\" in /usr/local/lib/python3.7/dist-packages (from requests[socks]>=2.11.1->tweepy>=3.7.0->konlpy) (1.7.1)\n",
            "Requirement already satisfied: oauthlib>=3.0.0 in /usr/local/lib/python3.7/dist-packages (from requests-oauthlib>=0.7.0->tweepy>=3.7.0->konlpy) (3.1.1)\n",
            "Requirement already satisfied: sklearn in /usr/local/lib/python3.7/dist-packages (0.0)\n",
            "Requirement already satisfied: scikit-learn in /usr/local/lib/python3.7/dist-packages (from sklearn) (0.22.2.post1)\n",
            "Requirement already satisfied: joblib>=0.11 in /usr/local/lib/python3.7/dist-packages (from scikit-learn->sklearn) (1.0.1)\n",
            "Requirement already satisfied: numpy>=1.11.0 in /usr/local/lib/python3.7/dist-packages (from scikit-learn->sklearn) (1.19.5)\n",
            "Requirement already satisfied: scipy>=0.17.0 in /usr/local/lib/python3.7/dist-packages (from scikit-learn->sklearn) (1.4.1)\n"
          ],
          "name": "stdout"
        }
      ]
    },
    {
      "cell_type": "code",
      "metadata": {
        "colab": {
          "base_uri": "https://localhost:8080/"
        },
        "id": "wi8Jhy1PNhru",
        "outputId": "cc200775-096d-4688-9c28-e9d404a4b7fa"
      },
      "source": [
        "%matplotlib inline\n",
        "import nltk\n",
        "nltk.download('punkt')\n",
        "import pandas as pd\n",
        "import matplotlib.pyplot as plt\n",
        "import urllib.request\n",
        "from gensim.models.word2vec import Word2Vec\n",
        "from konlpy.tag import Okt\n",
        "import csv\n",
        "import re\n",
        "import warnings\n",
        "warnings.filterwarnings(\"ignore\")\n",
        "import urllib.request\n",
        "import zipfile\n",
        "from lxml import etree\n",
        "from nltk.tokenize import word_tokenize, sent_tokenize\n",
        "from sklearn.feature_extraction.text import TfidfVectorizer\n",
        "from sklearn.model_selection import train_test_split\n",
        "from sklearn.naive_bayes import BernoulliNB\n",
        "import pickle\n",
        "import re\n",
        "import konlpy\n",
        "import nltk\n",
        "import numpy as np"
      ],
      "execution_count": null,
      "outputs": [
        {
          "output_type": "stream",
          "text": [
            "[nltk_data] Downloading package punkt to /root/nltk_data...\n",
            "[nltk_data]   Package punkt is already up-to-date!\n"
          ],
          "name": "stdout"
        }
      ]
    },
    {
      "cell_type": "code",
      "metadata": {
        "colab": {
          "base_uri": "https://localhost:8080/"
        },
        "id": "9LF0QY4CNpg1",
        "outputId": "fa936a85-e039-41d6-862a-19b771717981"
      },
      "source": [
        "from google.colab import drive\n",
        "drive.mount('/content/drive')"
      ],
      "execution_count": null,
      "outputs": [
        {
          "output_type": "stream",
          "text": [
            "Drive already mounted at /content/drive; to attempt to forcibly remount, call drive.mount(\"/content/drive\", force_remount=True).\n"
          ],
          "name": "stdout"
        }
      ]
    },
    {
      "cell_type": "code",
      "metadata": {
        "id": "2rkg3EhHOZmK"
      },
      "source": [
        "#데이터 불러오기\n",
        "\n",
        "one = pd.read_excel(\"drive/MyDrive/large.xlsx\", sheet_name='요식유흥')\n",
        "two = pd.read_excel(\"drive/MyDrive/large.xlsx\", sheet_name='유통')\n",
        "thr = pd.read_excel(\"drive/MyDrive/large.xlsx\", sheet_name='음식료품')\n",
        "fou = pd.read_excel(\"drive/MyDrive/large.xlsx\", sheet_name='의류잡화')\n",
        "fiv = pd.read_excel(\"drive/MyDrive/large.xlsx\", sheet_name='스포츠문화레저')\n",
        "six = pd.read_excel(\"drive/MyDrive/large.xlsx\", sheet_name='미용')\n",
        "sev = pd.read_excel(\"drive/MyDrive/large.xlsx\", sheet_name='자동차')"
      ],
      "execution_count": null,
      "outputs": []
    },
    {
      "cell_type": "code",
      "metadata": {
        "colab": {
          "base_uri": "https://localhost:8080/"
        },
        "id": "wwtkp7pSOxaL",
        "outputId": "85806eda-1474-41b3-da8d-ca86c9632bcf"
      },
      "source": [
        "# 데이터프레임 합치기\n",
        "\n",
        "all=pd.concat([one,two,thr,fou,fiv,six,sev])\n",
        "#print(all)\n",
        "# 데이터 중 대분류만 뽑기\n",
        "\n",
        "data = all\n",
        "del data['중분류']\n",
        "del data['소분류']\n",
        "print(data)\n",
        "#len(data)"
      ],
      "execution_count": null,
      "outputs": [
        {
          "output_type": "stream",
          "text": [
            "       대분류        키워드\n",
            "0    요식/유흥         갈비\n",
            "1    요식/유흥       곱창구이\n",
            "2    요식/유흥       꽁치구이\n",
            "3    요식/유흥       꼬치구이\n",
            "4    요식/유흥          김\n",
            "..     ...        ...\n",
            "495    자동차    아이로드gps\n",
            "496    자동차  유라이브알바트로스\n",
            "497    자동차       더보임x\n",
            "498    자동차  하이패스단말기무선\n",
            "499    자동차   차량용위치추적기\n",
            "\n",
            "[24417 rows x 2 columns]\n"
          ],
          "name": "stdout"
        }
      ]
    },
    {
      "cell_type": "code",
      "metadata": {
        "colab": {
          "base_uri": "https://localhost:8080/"
        },
        "id": "31GZcSpmOxYW",
        "outputId": "f113a199-c24f-4354-edb5-0e9bb651c994"
      },
      "source": [
        "#konlpy 전처리\n",
        "data['키워드'].nunique()\n",
        "data.drop_duplicates(subset=['키워드'], inplace=True)\n",
        "#print('총 샘플의 수 :',len(data))\n",
        "data['키워드'] = data['키워드'].str.replace(\"[^ㄱ-ㅎㅏ-ㅣ가-힣 ]\",\"\")\n",
        "data['키워드'] = data['키워드'].str.replace('^ +', \"\") # white space 데이터를 empty value로 변경\n",
        "data['키워드'].replace('', np.nan, inplace=True)\n",
        "print(data.isnull().sum())\n",
        "data = data.dropna(how = 'any')\n",
        "print(len(data))"
      ],
      "execution_count": null,
      "outputs": [
        {
          "output_type": "stream",
          "text": [
            "대분류      0\n",
            "키워드    143\n",
            "dtype: int64\n",
            "23389\n"
          ],
          "name": "stdout"
        }
      ]
    },
    {
      "cell_type": "code",
      "metadata": {
        "colab": {
          "base_uri": "https://localhost:8080/"
        },
        "id": "cy3wH2lDOvNT",
        "outputId": "6d67af2b-5283-4f84-bd8e-de4387a6cbc4"
      },
      "source": [
        "#키워드 토큰화\n",
        "data_token = [word_tokenize(sent) for sent in data['키워드']]\n",
        "print('총 샘플의 개수 : {}'.format(len(data_token)))\n",
        "# 토큰화된 데이터가 카테고라이징이 안된 듯..?"
      ],
      "execution_count": null,
      "outputs": [
        {
          "output_type": "stream",
          "text": [
            "총 샘플의 개수 : 23389\n"
          ],
          "name": "stdout"
        }
      ]
    },
    {
      "cell_type": "code",
      "metadata": {
        "id": "eCp2VBwCUh6h"
      },
      "source": [
        "# train test 분리 (7:3)\n",
        "from sklearn.model_selection import train_test_split\n",
        "\n",
        "#x가 키워드\n",
        "#y는 카테고리\n",
        "#x=data['키워드']\n",
        "#y=data['대분류']\n",
        "#x_train, x_test, y_train, y_test = train_test_split(x, \n",
        "                                                    y, \n",
        "                                                    test_size=0.3, \n",
        "                                                    shuffle=True, \n",
        "                                                    random_state=1000)\n",
        "#print(x_train)\n",
        "#print(y_train)"
      ],
      "execution_count": null,
      "outputs": []
    },
    {
      "cell_type": "code",
      "metadata": {
        "colab": {
          "base_uri": "https://localhost:8080/"
        },
        "id": "l_aWoLF4A4bw",
        "outputId": "a9666707-517e-42e2-eb19-f55ab56ddb85"
      },
      "source": [
        "# train test 분리 2\n",
        "\n",
        "from sklearn.utils import shuffle\n",
        "data_random = shuffle(data)\n",
        "#data_random.head(10)\n",
        "\n",
        "train=data_random[:20000]\n",
        "#print(len(train))\n",
        "#print(train)\n",
        "test=data_random[20000:]\n",
        "#print(len(test))"
      ],
      "execution_count": null,
      "outputs": [
        {
          "output_type": "stream",
          "text": [
            "20000\n",
            "             대분류         키워드\n",
            "3433          미용  나이팅게일클렌징패드\n",
            "4782          미용     데이비캄유브이\n",
            "2397       요식/유흥    칼라마르 타바스\n",
            "1237       음/식료품        염지순살\n",
            "1575   스포츠/문화/레저     스포츠아일랜드\n",
            "...          ...         ...\n",
            "11416         미용    수채화타투스티커\n",
            "163    스포츠/문화/레저      남성여름조끼\n",
            "8550          미용    록시땅체리블라썸\n",
            "3286       음/식료품     달콘초당옥수수\n",
            "637           미용       퓨어링크림\n",
            "\n",
            "[20000 rows x 2 columns]\n",
            "3389\n"
          ],
          "name": "stdout"
        }
      ]
    },
    {
      "cell_type": "code",
      "metadata": {
        "colab": {
          "base_uri": "https://localhost:8080/"
        },
        "id": "u47VadIibgyh",
        "outputId": "441e4742-a039-4b01-8e58-f6acd8b9293a"
      },
      "source": [
        "!pip install fasttext"
      ],
      "execution_count": null,
      "outputs": [
        {
          "output_type": "stream",
          "text": [
            "Requirement already satisfied: fasttext in /usr/local/lib/python3.7/dist-packages (0.9.2)\n",
            "Requirement already satisfied: numpy in /usr/local/lib/python3.7/dist-packages (from fasttext) (1.19.5)\n",
            "Requirement already satisfied: pybind11>=2.2 in /usr/local/lib/python3.7/dist-packages (from fasttext) (2.7.0)\n",
            "Requirement already satisfied: setuptools>=0.7.0 in /usr/local/lib/python3.7/dist-packages (from fasttext) (57.2.0)\n"
          ],
          "name": "stdout"
        }
      ]
    },
    {
      "cell_type": "code",
      "metadata": {
        "colab": {
          "base_uri": "https://localhost:8080/"
        },
        "id": "bKqcsnrOcH4a",
        "outputId": "6206cb70-921f-40f1-c456-efda5134a1b5"
      },
      "source": [
        "df2 = pd.DataFrame(columns=['대분류','키워드'])\n",
        "df2['대분류']='__label__'+train['대분류']\n",
        "df2['키워드']=train['키워드']\n",
        "df2.to_csv('labelingtrain.txt', sep = '\\t', index = False)\n",
        "labeling = pd.read_csv(\"/content/labelingtrain.txt\", sep = '\\t')\n",
        "print(labeling)"
      ],
      "execution_count": null,
      "outputs": [
        {
          "output_type": "stream",
          "text": [
            "                      대분류         키워드\n",
            "0             __label__미용  나이팅게일클렌징패드\n",
            "1             __label__미용     데이비캄유브이\n",
            "2          __label__요식/유흥    칼라마르 타바스\n",
            "3          __label__음/식료품        염지순살\n",
            "4      __label__스포츠/문화/레저     스포츠아일랜드\n",
            "...                   ...         ...\n",
            "19995         __label__미용    수채화타투스티커\n",
            "19996  __label__스포츠/문화/레저      남성여름조끼\n",
            "19997         __label__미용    록시땅체리블라썸\n",
            "19998      __label__음/식료품     달콘초당옥수수\n",
            "19999         __label__미용       퓨어링크림\n",
            "\n",
            "[20000 rows x 2 columns]\n"
          ],
          "name": "stdout"
        }
      ]
    },
    {
      "cell_type": "code",
      "metadata": {
        "id": "63YJ_vKyczgn"
      },
      "source": [
        "import fasttext\n",
        "\n",
        "model = fasttext.train_supervised('/content/labelingtrain.txt')\n",
        "model.save_model(\"model_1.bin\")"
      ],
      "execution_count": null,
      "outputs": []
    },
    {
      "cell_type": "code",
      "metadata": {
        "colab": {
          "base_uri": "https://localhost:8080/"
        },
        "id": "PzfaFBwDc2AF",
        "outputId": "10bec113-646b-47ba-8c06-a77fd149ce6b"
      },
      "source": [
        "# test dataset의 예측 카테고리\n",
        "predictions=[]\n",
        "for line in test['키워드']:\n",
        "  pred_label=model.predict(line, threshold=0.5)[0]\n",
        "  predictions.append(pred_label)\n",
        "\n",
        "print(predictions)"
      ],
      "execution_count": null,
      "outputs": [
        {
          "output_type": "stream",
          "text": [
            "[]\n"
          ],
          "name": "stdout"
        }
      ]
    },
    {
      "cell_type": "code",
      "metadata": {
        "colab": {
          "base_uri": "https://localhost:8080/"
        },
        "id": "wuTki2dgfDuR",
        "outputId": "600b3a57-3077-4956-8450-263f64477d93"
      },
      "source": [
        "# 예측 값 예시\n",
        "model.predict(\"쭈꾸미삼겹살\")"
      ],
      "execution_count": null,
      "outputs": [
        {
          "output_type": "execute_result",
          "data": {
            "text/plain": [
              "(('__label__음/식료품',), array([0.45012254]))"
            ]
          },
          "metadata": {
            "tags": []
          },
          "execution_count": 87
        }
      ]
    },
    {
      "cell_type": "code",
      "metadata": {
        "colab": {
          "base_uri": "https://localhost:8080/"
        },
        "id": "4Pc_NwIGc4uP",
        "outputId": "1a6aff84-770d-4b86-f349-115935daa35c"
      },
      "source": [
        "user = input(\"키워드를 입력해주세요 : \")\n",
        "\n",
        "def model_apply(user):\n",
        "  #output = model.predict(user)\n",
        "  output = model.predict(user)[0]\n",
        "  output2 = str(output)\n",
        "  #print(output2.replace('_','').replace('label',''))\n",
        "  output3=output2.replace('_','').replace('label','')\n",
        "  return output3\n",
        "\n",
        "result=model_apply(user)\n",
        "result=result.replace(\"(\",\"\").replace(\")\",\"\").replace(\",\",\"\").replace(\"'\",\"\")\n",
        "print(\"'{user}'의 카테고리는 '{result}'입니다.\".format(user=user,result=result))"
      ],
      "execution_count": null,
      "outputs": [
        {
          "output_type": "stream",
          "text": [
            "키워드를 입력해주세요 : 수분크림\n",
            "'수분크림'의 카테고리는 '미용'입니다.\n"
          ],
          "name": "stdout"
        }
      ]
    }
  ]
}