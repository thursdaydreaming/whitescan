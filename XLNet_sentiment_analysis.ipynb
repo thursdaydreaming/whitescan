{
  "nbformat": 4,
  "nbformat_minor": 0,
  "metadata": {
    "colab": {
      "name": "XLNet sentiment analysis.ipynb",
      "provenance": [],
      "authorship_tag": "ABX9TyM7G3nb2pmQwM7LjMyef6Iu",
      "include_colab_link": true
    },
    "kernelspec": {
      "name": "python3",
      "display_name": "Python 3"
    },
    "language_info": {
      "name": "python"
    },
    "accelerator": "GPU",
    "widgets": {
      "application/vnd.jupyter.widget-state+json": {
        "4508b18986e44baba10f6c3d875d48a6": {
          "model_module": "@jupyter-widgets/controls",
          "model_name": "HBoxModel",
          "state": {
            "_view_name": "HBoxView",
            "_dom_classes": [],
            "_model_name": "HBoxModel",
            "_view_module": "@jupyter-widgets/controls",
            "_model_module_version": "1.5.0",
            "_view_count": null,
            "_view_module_version": "1.5.0",
            "box_style": "",
            "layout": "IPY_MODEL_9236586b45f04aae95ad711e938b9cb9",
            "_model_module": "@jupyter-widgets/controls",
            "children": [
              "IPY_MODEL_e244a160ad4449559dac2ca545ff6e2f",
              "IPY_MODEL_9857857cc0e24bf497bee88cea584feb"
            ]
          }
        },
        "9236586b45f04aae95ad711e938b9cb9": {
          "model_module": "@jupyter-widgets/base",
          "model_name": "LayoutModel",
          "state": {
            "_view_name": "LayoutView",
            "grid_template_rows": null,
            "right": null,
            "justify_content": null,
            "_view_module": "@jupyter-widgets/base",
            "overflow": null,
            "_model_module_version": "1.2.0",
            "_view_count": null,
            "flex_flow": null,
            "width": null,
            "min_width": null,
            "border": null,
            "align_items": null,
            "bottom": null,
            "_model_module": "@jupyter-widgets/base",
            "top": null,
            "grid_column": null,
            "overflow_y": null,
            "overflow_x": null,
            "grid_auto_flow": null,
            "grid_area": null,
            "grid_template_columns": null,
            "flex": null,
            "_model_name": "LayoutModel",
            "justify_items": null,
            "grid_row": null,
            "max_height": null,
            "align_content": null,
            "visibility": null,
            "align_self": null,
            "height": null,
            "min_height": null,
            "padding": null,
            "grid_auto_rows": null,
            "grid_gap": null,
            "max_width": null,
            "order": null,
            "_view_module_version": "1.2.0",
            "grid_template_areas": null,
            "object_position": null,
            "object_fit": null,
            "grid_auto_columns": null,
            "margin": null,
            "display": null,
            "left": null
          }
        },
        "e244a160ad4449559dac2ca545ff6e2f": {
          "model_module": "@jupyter-widgets/controls",
          "model_name": "FloatProgressModel",
          "state": {
            "_view_name": "ProgressView",
            "style": "IPY_MODEL_8e3d3493dd764fd99069dfefbe2f2dc1",
            "_dom_classes": [],
            "description": "Downloading: 100%",
            "_model_name": "FloatProgressModel",
            "bar_style": "success",
            "max": 798011,
            "_view_module": "@jupyter-widgets/controls",
            "_model_module_version": "1.5.0",
            "value": 798011,
            "_view_count": null,
            "_view_module_version": "1.5.0",
            "orientation": "horizontal",
            "min": 0,
            "description_tooltip": null,
            "_model_module": "@jupyter-widgets/controls",
            "layout": "IPY_MODEL_8972b394c9de4b78b44e051083fe205c"
          }
        },
        "9857857cc0e24bf497bee88cea584feb": {
          "model_module": "@jupyter-widgets/controls",
          "model_name": "HTMLModel",
          "state": {
            "_view_name": "HTMLView",
            "style": "IPY_MODEL_9b37f378098245ccb27477a29f07e95e",
            "_dom_classes": [],
            "description": "",
            "_model_name": "HTMLModel",
            "placeholder": "​",
            "_view_module": "@jupyter-widgets/controls",
            "_model_module_version": "1.5.0",
            "value": " 798k/798k [00:01&lt;00:00, 413kB/s]",
            "_view_count": null,
            "_view_module_version": "1.5.0",
            "description_tooltip": null,
            "_model_module": "@jupyter-widgets/controls",
            "layout": "IPY_MODEL_5726663270cc4aafbecbc7fb29d7184d"
          }
        },
        "8e3d3493dd764fd99069dfefbe2f2dc1": {
          "model_module": "@jupyter-widgets/controls",
          "model_name": "ProgressStyleModel",
          "state": {
            "_view_name": "StyleView",
            "_model_name": "ProgressStyleModel",
            "description_width": "initial",
            "_view_module": "@jupyter-widgets/base",
            "_model_module_version": "1.5.0",
            "_view_count": null,
            "_view_module_version": "1.2.0",
            "bar_color": null,
            "_model_module": "@jupyter-widgets/controls"
          }
        },
        "8972b394c9de4b78b44e051083fe205c": {
          "model_module": "@jupyter-widgets/base",
          "model_name": "LayoutModel",
          "state": {
            "_view_name": "LayoutView",
            "grid_template_rows": null,
            "right": null,
            "justify_content": null,
            "_view_module": "@jupyter-widgets/base",
            "overflow": null,
            "_model_module_version": "1.2.0",
            "_view_count": null,
            "flex_flow": null,
            "width": null,
            "min_width": null,
            "border": null,
            "align_items": null,
            "bottom": null,
            "_model_module": "@jupyter-widgets/base",
            "top": null,
            "grid_column": null,
            "overflow_y": null,
            "overflow_x": null,
            "grid_auto_flow": null,
            "grid_area": null,
            "grid_template_columns": null,
            "flex": null,
            "_model_name": "LayoutModel",
            "justify_items": null,
            "grid_row": null,
            "max_height": null,
            "align_content": null,
            "visibility": null,
            "align_self": null,
            "height": null,
            "min_height": null,
            "padding": null,
            "grid_auto_rows": null,
            "grid_gap": null,
            "max_width": null,
            "order": null,
            "_view_module_version": "1.2.0",
            "grid_template_areas": null,
            "object_position": null,
            "object_fit": null,
            "grid_auto_columns": null,
            "margin": null,
            "display": null,
            "left": null
          }
        },
        "9b37f378098245ccb27477a29f07e95e": {
          "model_module": "@jupyter-widgets/controls",
          "model_name": "DescriptionStyleModel",
          "state": {
            "_view_name": "StyleView",
            "_model_name": "DescriptionStyleModel",
            "description_width": "",
            "_view_module": "@jupyter-widgets/base",
            "_model_module_version": "1.5.0",
            "_view_count": null,
            "_view_module_version": "1.2.0",
            "_model_module": "@jupyter-widgets/controls"
          }
        },
        "5726663270cc4aafbecbc7fb29d7184d": {
          "model_module": "@jupyter-widgets/base",
          "model_name": "LayoutModel",
          "state": {
            "_view_name": "LayoutView",
            "grid_template_rows": null,
            "right": null,
            "justify_content": null,
            "_view_module": "@jupyter-widgets/base",
            "overflow": null,
            "_model_module_version": "1.2.0",
            "_view_count": null,
            "flex_flow": null,
            "width": null,
            "min_width": null,
            "border": null,
            "align_items": null,
            "bottom": null,
            "_model_module": "@jupyter-widgets/base",
            "top": null,
            "grid_column": null,
            "overflow_y": null,
            "overflow_x": null,
            "grid_auto_flow": null,
            "grid_area": null,
            "grid_template_columns": null,
            "flex": null,
            "_model_name": "LayoutModel",
            "justify_items": null,
            "grid_row": null,
            "max_height": null,
            "align_content": null,
            "visibility": null,
            "align_self": null,
            "height": null,
            "min_height": null,
            "padding": null,
            "grid_auto_rows": null,
            "grid_gap": null,
            "max_width": null,
            "order": null,
            "_view_module_version": "1.2.0",
            "grid_template_areas": null,
            "object_position": null,
            "object_fit": null,
            "grid_auto_columns": null,
            "margin": null,
            "display": null,
            "left": null
          }
        },
        "487100a41c294c57a98e5950308ce1c7": {
          "model_module": "@jupyter-widgets/controls",
          "model_name": "HBoxModel",
          "state": {
            "_view_name": "HBoxView",
            "_dom_classes": [],
            "_model_name": "HBoxModel",
            "_view_module": "@jupyter-widgets/controls",
            "_model_module_version": "1.5.0",
            "_view_count": null,
            "_view_module_version": "1.5.0",
            "box_style": "",
            "layout": "IPY_MODEL_a0173e704b5b4758b6ba4d55f451b8da",
            "_model_module": "@jupyter-widgets/controls",
            "children": [
              "IPY_MODEL_58f1ccc37e454a27a6d8ec20d6c3bc80",
              "IPY_MODEL_e8cc718126ef405684dcfe39bffa718d"
            ]
          }
        },
        "a0173e704b5b4758b6ba4d55f451b8da": {
          "model_module": "@jupyter-widgets/base",
          "model_name": "LayoutModel",
          "state": {
            "_view_name": "LayoutView",
            "grid_template_rows": null,
            "right": null,
            "justify_content": null,
            "_view_module": "@jupyter-widgets/base",
            "overflow": null,
            "_model_module_version": "1.2.0",
            "_view_count": null,
            "flex_flow": null,
            "width": null,
            "min_width": null,
            "border": null,
            "align_items": null,
            "bottom": null,
            "_model_module": "@jupyter-widgets/base",
            "top": null,
            "grid_column": null,
            "overflow_y": null,
            "overflow_x": null,
            "grid_auto_flow": null,
            "grid_area": null,
            "grid_template_columns": null,
            "flex": null,
            "_model_name": "LayoutModel",
            "justify_items": null,
            "grid_row": null,
            "max_height": null,
            "align_content": null,
            "visibility": null,
            "align_self": null,
            "height": null,
            "min_height": null,
            "padding": null,
            "grid_auto_rows": null,
            "grid_gap": null,
            "max_width": null,
            "order": null,
            "_view_module_version": "1.2.0",
            "grid_template_areas": null,
            "object_position": null,
            "object_fit": null,
            "grid_auto_columns": null,
            "margin": null,
            "display": null,
            "left": null
          }
        },
        "58f1ccc37e454a27a6d8ec20d6c3bc80": {
          "model_module": "@jupyter-widgets/controls",
          "model_name": "FloatProgressModel",
          "state": {
            "_view_name": "ProgressView",
            "style": "IPY_MODEL_1dbaa52a33ed4b55a09090cd3e2ccb45",
            "_dom_classes": [],
            "description": "Downloading: 100%",
            "_model_name": "FloatProgressModel",
            "bar_style": "success",
            "max": 1382015,
            "_view_module": "@jupyter-widgets/controls",
            "_model_module_version": "1.5.0",
            "value": 1382015,
            "_view_count": null,
            "_view_module_version": "1.5.0",
            "orientation": "horizontal",
            "min": 0,
            "description_tooltip": null,
            "_model_module": "@jupyter-widgets/controls",
            "layout": "IPY_MODEL_7512d9368a1f4b03ba41137814f6c212"
          }
        },
        "e8cc718126ef405684dcfe39bffa718d": {
          "model_module": "@jupyter-widgets/controls",
          "model_name": "HTMLModel",
          "state": {
            "_view_name": "HTMLView",
            "style": "IPY_MODEL_aecf90002ecc40d483e44b366f57f77f",
            "_dom_classes": [],
            "description": "",
            "_model_name": "HTMLModel",
            "placeholder": "​",
            "_view_module": "@jupyter-widgets/controls",
            "_model_module_version": "1.5.0",
            "value": " 1.38M/1.38M [00:01&lt;00:00, 1.37MB/s]",
            "_view_count": null,
            "_view_module_version": "1.5.0",
            "description_tooltip": null,
            "_model_module": "@jupyter-widgets/controls",
            "layout": "IPY_MODEL_ae3beab0fc4643999388e9818d68a6f2"
          }
        },
        "1dbaa52a33ed4b55a09090cd3e2ccb45": {
          "model_module": "@jupyter-widgets/controls",
          "model_name": "ProgressStyleModel",
          "state": {
            "_view_name": "StyleView",
            "_model_name": "ProgressStyleModel",
            "description_width": "initial",
            "_view_module": "@jupyter-widgets/base",
            "_model_module_version": "1.5.0",
            "_view_count": null,
            "_view_module_version": "1.2.0",
            "bar_color": null,
            "_model_module": "@jupyter-widgets/controls"
          }
        },
        "7512d9368a1f4b03ba41137814f6c212": {
          "model_module": "@jupyter-widgets/base",
          "model_name": "LayoutModel",
          "state": {
            "_view_name": "LayoutView",
            "grid_template_rows": null,
            "right": null,
            "justify_content": null,
            "_view_module": "@jupyter-widgets/base",
            "overflow": null,
            "_model_module_version": "1.2.0",
            "_view_count": null,
            "flex_flow": null,
            "width": null,
            "min_width": null,
            "border": null,
            "align_items": null,
            "bottom": null,
            "_model_module": "@jupyter-widgets/base",
            "top": null,
            "grid_column": null,
            "overflow_y": null,
            "overflow_x": null,
            "grid_auto_flow": null,
            "grid_area": null,
            "grid_template_columns": null,
            "flex": null,
            "_model_name": "LayoutModel",
            "justify_items": null,
            "grid_row": null,
            "max_height": null,
            "align_content": null,
            "visibility": null,
            "align_self": null,
            "height": null,
            "min_height": null,
            "padding": null,
            "grid_auto_rows": null,
            "grid_gap": null,
            "max_width": null,
            "order": null,
            "_view_module_version": "1.2.0",
            "grid_template_areas": null,
            "object_position": null,
            "object_fit": null,
            "grid_auto_columns": null,
            "margin": null,
            "display": null,
            "left": null
          }
        },
        "aecf90002ecc40d483e44b366f57f77f": {
          "model_module": "@jupyter-widgets/controls",
          "model_name": "DescriptionStyleModel",
          "state": {
            "_view_name": "StyleView",
            "_model_name": "DescriptionStyleModel",
            "description_width": "",
            "_view_module": "@jupyter-widgets/base",
            "_model_module_version": "1.5.0",
            "_view_count": null,
            "_view_module_version": "1.2.0",
            "_model_module": "@jupyter-widgets/controls"
          }
        },
        "ae3beab0fc4643999388e9818d68a6f2": {
          "model_module": "@jupyter-widgets/base",
          "model_name": "LayoutModel",
          "state": {
            "_view_name": "LayoutView",
            "grid_template_rows": null,
            "right": null,
            "justify_content": null,
            "_view_module": "@jupyter-widgets/base",
            "overflow": null,
            "_model_module_version": "1.2.0",
            "_view_count": null,
            "flex_flow": null,
            "width": null,
            "min_width": null,
            "border": null,
            "align_items": null,
            "bottom": null,
            "_model_module": "@jupyter-widgets/base",
            "top": null,
            "grid_column": null,
            "overflow_y": null,
            "overflow_x": null,
            "grid_auto_flow": null,
            "grid_area": null,
            "grid_template_columns": null,
            "flex": null,
            "_model_name": "LayoutModel",
            "justify_items": null,
            "grid_row": null,
            "max_height": null,
            "align_content": null,
            "visibility": null,
            "align_self": null,
            "height": null,
            "min_height": null,
            "padding": null,
            "grid_auto_rows": null,
            "grid_gap": null,
            "max_width": null,
            "order": null,
            "_view_module_version": "1.2.0",
            "grid_template_areas": null,
            "object_position": null,
            "object_fit": null,
            "grid_auto_columns": null,
            "margin": null,
            "display": null,
            "left": null
          }
        },
        "316786aa51984a2ab10c2887010edc43": {
          "model_module": "@jupyter-widgets/controls",
          "model_name": "HBoxModel",
          "state": {
            "_view_name": "HBoxView",
            "_dom_classes": [],
            "_model_name": "HBoxModel",
            "_view_module": "@jupyter-widgets/controls",
            "_model_module_version": "1.5.0",
            "_view_count": null,
            "_view_module_version": "1.5.0",
            "box_style": "",
            "layout": "IPY_MODEL_9ae4f292015f4984bb4a1ff1c928064c",
            "_model_module": "@jupyter-widgets/controls",
            "children": [
              "IPY_MODEL_f0cd3d0edd2647f68ff47459d7913829",
              "IPY_MODEL_14441f7662ca4c5badd6f063ec26bb3e"
            ]
          }
        },
        "9ae4f292015f4984bb4a1ff1c928064c": {
          "model_module": "@jupyter-widgets/base",
          "model_name": "LayoutModel",
          "state": {
            "_view_name": "LayoutView",
            "grid_template_rows": null,
            "right": null,
            "justify_content": null,
            "_view_module": "@jupyter-widgets/base",
            "overflow": null,
            "_model_module_version": "1.2.0",
            "_view_count": null,
            "flex_flow": null,
            "width": null,
            "min_width": null,
            "border": null,
            "align_items": null,
            "bottom": null,
            "_model_module": "@jupyter-widgets/base",
            "top": null,
            "grid_column": null,
            "overflow_y": null,
            "overflow_x": null,
            "grid_auto_flow": null,
            "grid_area": null,
            "grid_template_columns": null,
            "flex": null,
            "_model_name": "LayoutModel",
            "justify_items": null,
            "grid_row": null,
            "max_height": null,
            "align_content": null,
            "visibility": null,
            "align_self": null,
            "height": null,
            "min_height": null,
            "padding": null,
            "grid_auto_rows": null,
            "grid_gap": null,
            "max_width": null,
            "order": null,
            "_view_module_version": "1.2.0",
            "grid_template_areas": null,
            "object_position": null,
            "object_fit": null,
            "grid_auto_columns": null,
            "margin": null,
            "display": null,
            "left": null
          }
        },
        "f0cd3d0edd2647f68ff47459d7913829": {
          "model_module": "@jupyter-widgets/controls",
          "model_name": "FloatProgressModel",
          "state": {
            "_view_name": "ProgressView",
            "style": "IPY_MODEL_35d64088fe114866aeb8b703b8f15f25",
            "_dom_classes": [],
            "description": "Downloading: 100%",
            "_model_name": "FloatProgressModel",
            "bar_style": "success",
            "max": 760,
            "_view_module": "@jupyter-widgets/controls",
            "_model_module_version": "1.5.0",
            "value": 760,
            "_view_count": null,
            "_view_module_version": "1.5.0",
            "orientation": "horizontal",
            "min": 0,
            "description_tooltip": null,
            "_model_module": "@jupyter-widgets/controls",
            "layout": "IPY_MODEL_2ae562112e894755a4968172985c9c75"
          }
        },
        "14441f7662ca4c5badd6f063ec26bb3e": {
          "model_module": "@jupyter-widgets/controls",
          "model_name": "HTMLModel",
          "state": {
            "_view_name": "HTMLView",
            "style": "IPY_MODEL_67a4287a872343b69720a28156af9e76",
            "_dom_classes": [],
            "description": "",
            "_model_name": "HTMLModel",
            "placeholder": "​",
            "_view_module": "@jupyter-widgets/controls",
            "_model_module_version": "1.5.0",
            "value": " 760/760 [00:00&lt;00:00, 10.5kB/s]",
            "_view_count": null,
            "_view_module_version": "1.5.0",
            "description_tooltip": null,
            "_model_module": "@jupyter-widgets/controls",
            "layout": "IPY_MODEL_1bb6b56e2c9e4592bf1400574d10fd86"
          }
        },
        "35d64088fe114866aeb8b703b8f15f25": {
          "model_module": "@jupyter-widgets/controls",
          "model_name": "ProgressStyleModel",
          "state": {
            "_view_name": "StyleView",
            "_model_name": "ProgressStyleModel",
            "description_width": "initial",
            "_view_module": "@jupyter-widgets/base",
            "_model_module_version": "1.5.0",
            "_view_count": null,
            "_view_module_version": "1.2.0",
            "bar_color": null,
            "_model_module": "@jupyter-widgets/controls"
          }
        },
        "2ae562112e894755a4968172985c9c75": {
          "model_module": "@jupyter-widgets/base",
          "model_name": "LayoutModel",
          "state": {
            "_view_name": "LayoutView",
            "grid_template_rows": null,
            "right": null,
            "justify_content": null,
            "_view_module": "@jupyter-widgets/base",
            "overflow": null,
            "_model_module_version": "1.2.0",
            "_view_count": null,
            "flex_flow": null,
            "width": null,
            "min_width": null,
            "border": null,
            "align_items": null,
            "bottom": null,
            "_model_module": "@jupyter-widgets/base",
            "top": null,
            "grid_column": null,
            "overflow_y": null,
            "overflow_x": null,
            "grid_auto_flow": null,
            "grid_area": null,
            "grid_template_columns": null,
            "flex": null,
            "_model_name": "LayoutModel",
            "justify_items": null,
            "grid_row": null,
            "max_height": null,
            "align_content": null,
            "visibility": null,
            "align_self": null,
            "height": null,
            "min_height": null,
            "padding": null,
            "grid_auto_rows": null,
            "grid_gap": null,
            "max_width": null,
            "order": null,
            "_view_module_version": "1.2.0",
            "grid_template_areas": null,
            "object_position": null,
            "object_fit": null,
            "grid_auto_columns": null,
            "margin": null,
            "display": null,
            "left": null
          }
        },
        "67a4287a872343b69720a28156af9e76": {
          "model_module": "@jupyter-widgets/controls",
          "model_name": "DescriptionStyleModel",
          "state": {
            "_view_name": "StyleView",
            "_model_name": "DescriptionStyleModel",
            "description_width": "",
            "_view_module": "@jupyter-widgets/base",
            "_model_module_version": "1.5.0",
            "_view_count": null,
            "_view_module_version": "1.2.0",
            "_model_module": "@jupyter-widgets/controls"
          }
        },
        "1bb6b56e2c9e4592bf1400574d10fd86": {
          "model_module": "@jupyter-widgets/base",
          "model_name": "LayoutModel",
          "state": {
            "_view_name": "LayoutView",
            "grid_template_rows": null,
            "right": null,
            "justify_content": null,
            "_view_module": "@jupyter-widgets/base",
            "overflow": null,
            "_model_module_version": "1.2.0",
            "_view_count": null,
            "flex_flow": null,
            "width": null,
            "min_width": null,
            "border": null,
            "align_items": null,
            "bottom": null,
            "_model_module": "@jupyter-widgets/base",
            "top": null,
            "grid_column": null,
            "overflow_y": null,
            "overflow_x": null,
            "grid_auto_flow": null,
            "grid_area": null,
            "grid_template_columns": null,
            "flex": null,
            "_model_name": "LayoutModel",
            "justify_items": null,
            "grid_row": null,
            "max_height": null,
            "align_content": null,
            "visibility": null,
            "align_self": null,
            "height": null,
            "min_height": null,
            "padding": null,
            "grid_auto_rows": null,
            "grid_gap": null,
            "max_width": null,
            "order": null,
            "_view_module_version": "1.2.0",
            "grid_template_areas": null,
            "object_position": null,
            "object_fit": null,
            "grid_auto_columns": null,
            "margin": null,
            "display": null,
            "left": null
          }
        },
        "1788093a0ae541c198dc701c5c417738": {
          "model_module": "@jupyter-widgets/controls",
          "model_name": "HBoxModel",
          "state": {
            "_view_name": "HBoxView",
            "_dom_classes": [],
            "_model_name": "HBoxModel",
            "_view_module": "@jupyter-widgets/controls",
            "_model_module_version": "1.5.0",
            "_view_count": null,
            "_view_module_version": "1.5.0",
            "box_style": "",
            "layout": "IPY_MODEL_aa4d8dfa782847b59381ff00d5a435e8",
            "_model_module": "@jupyter-widgets/controls",
            "children": [
              "IPY_MODEL_4291c5c7a97245c69d4dd63a000d6b1d",
              "IPY_MODEL_05826c72b5d34d30b8ff2a2366d22d9e"
            ]
          }
        },
        "aa4d8dfa782847b59381ff00d5a435e8": {
          "model_module": "@jupyter-widgets/base",
          "model_name": "LayoutModel",
          "state": {
            "_view_name": "LayoutView",
            "grid_template_rows": null,
            "right": null,
            "justify_content": null,
            "_view_module": "@jupyter-widgets/base",
            "overflow": null,
            "_model_module_version": "1.2.0",
            "_view_count": null,
            "flex_flow": null,
            "width": null,
            "min_width": null,
            "border": null,
            "align_items": null,
            "bottom": null,
            "_model_module": "@jupyter-widgets/base",
            "top": null,
            "grid_column": null,
            "overflow_y": null,
            "overflow_x": null,
            "grid_auto_flow": null,
            "grid_area": null,
            "grid_template_columns": null,
            "flex": null,
            "_model_name": "LayoutModel",
            "justify_items": null,
            "grid_row": null,
            "max_height": null,
            "align_content": null,
            "visibility": null,
            "align_self": null,
            "height": null,
            "min_height": null,
            "padding": null,
            "grid_auto_rows": null,
            "grid_gap": null,
            "max_width": null,
            "order": null,
            "_view_module_version": "1.2.0",
            "grid_template_areas": null,
            "object_position": null,
            "object_fit": null,
            "grid_auto_columns": null,
            "margin": null,
            "display": null,
            "left": null
          }
        },
        "4291c5c7a97245c69d4dd63a000d6b1d": {
          "model_module": "@jupyter-widgets/controls",
          "model_name": "FloatProgressModel",
          "state": {
            "_view_name": "ProgressView",
            "style": "IPY_MODEL_97c886ca74a64c148b6a317d32afb291",
            "_dom_classes": [],
            "description": "Downloading: 100%",
            "_model_name": "FloatProgressModel",
            "bar_style": "success",
            "max": 467042463,
            "_view_module": "@jupyter-widgets/controls",
            "_model_module_version": "1.5.0",
            "value": 467042463,
            "_view_count": null,
            "_view_module_version": "1.5.0",
            "orientation": "horizontal",
            "min": 0,
            "description_tooltip": null,
            "_model_module": "@jupyter-widgets/controls",
            "layout": "IPY_MODEL_33007446b986497a9e7da6898d0c2e70"
          }
        },
        "05826c72b5d34d30b8ff2a2366d22d9e": {
          "model_module": "@jupyter-widgets/controls",
          "model_name": "HTMLModel",
          "state": {
            "_view_name": "HTMLView",
            "style": "IPY_MODEL_e814f1a399434764a6112a9ca695c44a",
            "_dom_classes": [],
            "description": "",
            "_model_name": "HTMLModel",
            "placeholder": "​",
            "_view_module": "@jupyter-widgets/controls",
            "_model_module_version": "1.5.0",
            "value": " 467M/467M [00:14&lt;00:00, 31.5MB/s]",
            "_view_count": null,
            "_view_module_version": "1.5.0",
            "description_tooltip": null,
            "_model_module": "@jupyter-widgets/controls",
            "layout": "IPY_MODEL_39878b0794c54e16bbf5789f7ec27eec"
          }
        },
        "97c886ca74a64c148b6a317d32afb291": {
          "model_module": "@jupyter-widgets/controls",
          "model_name": "ProgressStyleModel",
          "state": {
            "_view_name": "StyleView",
            "_model_name": "ProgressStyleModel",
            "description_width": "initial",
            "_view_module": "@jupyter-widgets/base",
            "_model_module_version": "1.5.0",
            "_view_count": null,
            "_view_module_version": "1.2.0",
            "bar_color": null,
            "_model_module": "@jupyter-widgets/controls"
          }
        },
        "33007446b986497a9e7da6898d0c2e70": {
          "model_module": "@jupyter-widgets/base",
          "model_name": "LayoutModel",
          "state": {
            "_view_name": "LayoutView",
            "grid_template_rows": null,
            "right": null,
            "justify_content": null,
            "_view_module": "@jupyter-widgets/base",
            "overflow": null,
            "_model_module_version": "1.2.0",
            "_view_count": null,
            "flex_flow": null,
            "width": null,
            "min_width": null,
            "border": null,
            "align_items": null,
            "bottom": null,
            "_model_module": "@jupyter-widgets/base",
            "top": null,
            "grid_column": null,
            "overflow_y": null,
            "overflow_x": null,
            "grid_auto_flow": null,
            "grid_area": null,
            "grid_template_columns": null,
            "flex": null,
            "_model_name": "LayoutModel",
            "justify_items": null,
            "grid_row": null,
            "max_height": null,
            "align_content": null,
            "visibility": null,
            "align_self": null,
            "height": null,
            "min_height": null,
            "padding": null,
            "grid_auto_rows": null,
            "grid_gap": null,
            "max_width": null,
            "order": null,
            "_view_module_version": "1.2.0",
            "grid_template_areas": null,
            "object_position": null,
            "object_fit": null,
            "grid_auto_columns": null,
            "margin": null,
            "display": null,
            "left": null
          }
        },
        "e814f1a399434764a6112a9ca695c44a": {
          "model_module": "@jupyter-widgets/controls",
          "model_name": "DescriptionStyleModel",
          "state": {
            "_view_name": "StyleView",
            "_model_name": "DescriptionStyleModel",
            "description_width": "",
            "_view_module": "@jupyter-widgets/base",
            "_model_module_version": "1.5.0",
            "_view_count": null,
            "_view_module_version": "1.2.0",
            "_model_module": "@jupyter-widgets/controls"
          }
        },
        "39878b0794c54e16bbf5789f7ec27eec": {
          "model_module": "@jupyter-widgets/base",
          "model_name": "LayoutModel",
          "state": {
            "_view_name": "LayoutView",
            "grid_template_rows": null,
            "right": null,
            "justify_content": null,
            "_view_module": "@jupyter-widgets/base",
            "overflow": null,
            "_model_module_version": "1.2.0",
            "_view_count": null,
            "flex_flow": null,
            "width": null,
            "min_width": null,
            "border": null,
            "align_items": null,
            "bottom": null,
            "_model_module": "@jupyter-widgets/base",
            "top": null,
            "grid_column": null,
            "overflow_y": null,
            "overflow_x": null,
            "grid_auto_flow": null,
            "grid_area": null,
            "grid_template_columns": null,
            "flex": null,
            "_model_name": "LayoutModel",
            "justify_items": null,
            "grid_row": null,
            "max_height": null,
            "align_content": null,
            "visibility": null,
            "align_self": null,
            "height": null,
            "min_height": null,
            "padding": null,
            "grid_auto_rows": null,
            "grid_gap": null,
            "max_width": null,
            "order": null,
            "_view_module_version": "1.2.0",
            "grid_template_areas": null,
            "object_position": null,
            "object_fit": null,
            "grid_auto_columns": null,
            "margin": null,
            "display": null,
            "left": null
          }
        }
      }
    }
  },
  "cells": [
    {
      "cell_type": "markdown",
      "metadata": {
        "id": "view-in-github",
        "colab_type": "text"
      },
      "source": [
        "<a href=\"https://colab.research.google.com/github/thursdaydreaming/whitescan/blob/main/XLNet_sentiment_analysis.ipynb\" target=\"_parent\"><img src=\"https://colab.research.google.com/assets/colab-badge.svg\" alt=\"Open In Colab\"/></a>"
      ]
    },
    {
      "cell_type": "code",
      "metadata": {
        "colab": {
          "base_uri": "https://localhost:8080/"
        },
        "id": "Nt9UvgWT0NM9",
        "outputId": "9ed82f3f-90c8-44fd-993a-5647cc20b77a"
      },
      "source": [
        "!pip install transformers\n",
        "!pip install SentencePiece"
      ],
      "execution_count": 2,
      "outputs": [
        {
          "output_type": "stream",
          "text": [
            "Collecting transformers\n",
            "  Downloading transformers-4.9.1-py3-none-any.whl (2.6 MB)\n",
            "\u001b[K     |████████████████████████████████| 2.6 MB 6.4 MB/s \n",
            "\u001b[?25hCollecting pyyaml>=5.1\n",
            "  Downloading PyYAML-5.4.1-cp37-cp37m-manylinux1_x86_64.whl (636 kB)\n",
            "\u001b[K     |████████████████████████████████| 636 kB 59.8 MB/s \n",
            "\u001b[?25hRequirement already satisfied: packaging in /usr/local/lib/python3.7/dist-packages (from transformers) (21.0)\n",
            "Collecting sacremoses\n",
            "  Downloading sacremoses-0.0.45-py3-none-any.whl (895 kB)\n",
            "\u001b[K     |████████████████████████████████| 895 kB 62.7 MB/s \n",
            "\u001b[?25hRequirement already satisfied: importlib-metadata in /usr/local/lib/python3.7/dist-packages (from transformers) (4.6.1)\n",
            "Requirement already satisfied: regex!=2019.12.17 in /usr/local/lib/python3.7/dist-packages (from transformers) (2019.12.20)\n",
            "Collecting tokenizers<0.11,>=0.10.1\n",
            "  Downloading tokenizers-0.10.3-cp37-cp37m-manylinux_2_5_x86_64.manylinux1_x86_64.manylinux_2_12_x86_64.manylinux2010_x86_64.whl (3.3 MB)\n",
            "\u001b[K     |████████████████████████████████| 3.3 MB 44.5 MB/s \n",
            "\u001b[?25hRequirement already satisfied: tqdm>=4.27 in /usr/local/lib/python3.7/dist-packages (from transformers) (4.41.1)\n",
            "Requirement already satisfied: filelock in /usr/local/lib/python3.7/dist-packages (from transformers) (3.0.12)\n",
            "Requirement already satisfied: requests in /usr/local/lib/python3.7/dist-packages (from transformers) (2.23.0)\n",
            "Collecting huggingface-hub==0.0.12\n",
            "  Downloading huggingface_hub-0.0.12-py3-none-any.whl (37 kB)\n",
            "Requirement already satisfied: numpy>=1.17 in /usr/local/lib/python3.7/dist-packages (from transformers) (1.19.5)\n",
            "Requirement already satisfied: typing-extensions in /usr/local/lib/python3.7/dist-packages (from huggingface-hub==0.0.12->transformers) (3.7.4.3)\n",
            "Requirement already satisfied: pyparsing>=2.0.2 in /usr/local/lib/python3.7/dist-packages (from packaging->transformers) (2.4.7)\n",
            "Requirement already satisfied: zipp>=0.5 in /usr/local/lib/python3.7/dist-packages (from importlib-metadata->transformers) (3.5.0)\n",
            "Requirement already satisfied: chardet<4,>=3.0.2 in /usr/local/lib/python3.7/dist-packages (from requests->transformers) (3.0.4)\n",
            "Requirement already satisfied: certifi>=2017.4.17 in /usr/local/lib/python3.7/dist-packages (from requests->transformers) (2021.5.30)\n",
            "Requirement already satisfied: idna<3,>=2.5 in /usr/local/lib/python3.7/dist-packages (from requests->transformers) (2.10)\n",
            "Requirement already satisfied: urllib3!=1.25.0,!=1.25.1,<1.26,>=1.21.1 in /usr/local/lib/python3.7/dist-packages (from requests->transformers) (1.24.3)\n",
            "Requirement already satisfied: six in /usr/local/lib/python3.7/dist-packages (from sacremoses->transformers) (1.15.0)\n",
            "Requirement already satisfied: joblib in /usr/local/lib/python3.7/dist-packages (from sacremoses->transformers) (1.0.1)\n",
            "Requirement already satisfied: click in /usr/local/lib/python3.7/dist-packages (from sacremoses->transformers) (7.1.2)\n",
            "Installing collected packages: tokenizers, sacremoses, pyyaml, huggingface-hub, transformers\n",
            "  Attempting uninstall: pyyaml\n",
            "    Found existing installation: PyYAML 3.13\n",
            "    Uninstalling PyYAML-3.13:\n",
            "      Successfully uninstalled PyYAML-3.13\n",
            "Successfully installed huggingface-hub-0.0.12 pyyaml-5.4.1 sacremoses-0.0.45 tokenizers-0.10.3 transformers-4.9.1\n",
            "Collecting SentencePiece\n",
            "  Downloading sentencepiece-0.1.96-cp37-cp37m-manylinux_2_17_x86_64.manylinux2014_x86_64.whl (1.2 MB)\n",
            "\u001b[K     |████████████████████████████████| 1.2 MB 9.5 MB/s \n",
            "\u001b[?25hInstalling collected packages: SentencePiece\n",
            "Successfully installed SentencePiece-0.1.96\n"
          ],
          "name": "stdout"
        }
      ]
    },
    {
      "cell_type": "code",
      "metadata": {
        "colab": {
          "base_uri": "https://localhost:8080/"
        },
        "id": "rJhCJLAZ0Pho",
        "outputId": "90ea461b-afa2-4bce-f23a-5d0239fa2a4f"
      },
      "source": [
        "from google.colab import drive\n",
        "drive.mount('/content/drive')"
      ],
      "execution_count": 3,
      "outputs": [
        {
          "output_type": "stream",
          "text": [
            "Mounted at /content/drive\n"
          ],
          "name": "stdout"
        }
      ]
    },
    {
      "cell_type": "code",
      "metadata": {
        "colab": {
          "base_uri": "https://localhost:8080/"
        },
        "id": "n85u6-ss0RDi",
        "outputId": "a0fc801e-ae82-4b9c-f63a-925aa2f956b7"
      },
      "source": [
        "!pip install -q -U watermark\n",
        "\n",
        "%reload_ext watermark\n",
        "%watermark -v -p numpy,pandas,torch,transformers"
      ],
      "execution_count": 4,
      "outputs": [
        {
          "output_type": "stream",
          "text": [
            "Python implementation: CPython\n",
            "Python version       : 3.7.11\n",
            "IPython version      : 5.5.0\n",
            "\n",
            "numpy       : 1.19.5\n",
            "pandas      : 1.1.5\n",
            "torch       : 1.9.0+cu102\n",
            "transformers: 4.9.1\n",
            "\n"
          ],
          "name": "stdout"
        }
      ]
    },
    {
      "cell_type": "code",
      "metadata": {
        "id": "eDUyvF170TN9"
      },
      "source": [
        "import transformers\n",
        "from transformers import XLNetTokenizer, XLNetModel, AdamW, get_linear_schedule_with_warmup\n",
        "import torch\n",
        "\n",
        "import numpy as np\n",
        "import pandas as pd\n",
        "import seaborn as sns\n",
        "import matplotlib.pyplot as plt\n",
        "from matplotlib import rc\n",
        "from sklearn.model_selection import train_test_split\n",
        "from sklearn.metrics import confusion_matrix, classification_report #accuracy 뺌\n",
        "from collections import defaultdict\n",
        "from textwrap import wrap\n",
        "from pylab import rcParams\n",
        "\n",
        "from torch import nn, optim\n",
        "from keras.preprocessing.sequence import pad_sequences\n",
        "from torch.utils.data import TensorDataset,RandomSampler,SequentialSampler\n",
        "from torch.utils.data import Dataset, DataLoader\n",
        "import torch.nn.functional as F"
      ],
      "execution_count": 5,
      "outputs": []
    },
    {
      "cell_type": "code",
      "metadata": {
        "colab": {
          "base_uri": "https://localhost:8080/"
        },
        "id": "RsdJCLUO0Us_",
        "outputId": "1f7b5cb9-9d6e-418f-c661-3377e318965a"
      },
      "source": [
        "%matplotlib inline\n",
        "%config InlineBackend.figure_format='retina'\n",
        "\n",
        "sns.set(style='whitegrid', palette='muted', font_scale=1.2)\n",
        "\n",
        "HAPPY_COLORS_PALETTE = [\"#01BEFE\", \"#FFDD00\", \"#FF7D00\", \"#FF006D\", \"#ADFF02\", \"#8F00FF\"]\n",
        "\n",
        "sns.set_palette(sns.color_palette(HAPPY_COLORS_PALETTE))\n",
        "\n",
        "rcParams['figure.figsize'] = 12, 8\n",
        "\n",
        "RANDOM_SEED = 42\n",
        "np.random.seed(RANDOM_SEED)\n",
        "torch.manual_seed(RANDOM_SEED)\n",
        "\n",
        "device = torch.device(\"cuda:0\" if torch.cuda.is_available() else \"cpu\")\n",
        "device"
      ],
      "execution_count": 6,
      "outputs": [
        {
          "output_type": "execute_result",
          "data": {
            "text/plain": [
              "device(type='cuda', index=0)"
            ]
          },
          "metadata": {
            "tags": []
          },
          "execution_count": 6
        }
      ]
    },
    {
      "cell_type": "code",
      "metadata": {
        "colab": {
          "base_uri": "https://localhost:8080/",
          "height": 204
        },
        "id": "xWpr9bsN0XL9",
        "outputId": "6a5de732-6135-492d-fe6f-1f38f0311dfa"
      },
      "source": [
        "df = pd.read_csv('/content/drive/My Drive/IMDB Dataset.csv')\n",
        "df.head()"
      ],
      "execution_count": 7,
      "outputs": [
        {
          "output_type": "execute_result",
          "data": {
            "text/html": [
              "<div>\n",
              "<style scoped>\n",
              "    .dataframe tbody tr th:only-of-type {\n",
              "        vertical-align: middle;\n",
              "    }\n",
              "\n",
              "    .dataframe tbody tr th {\n",
              "        vertical-align: top;\n",
              "    }\n",
              "\n",
              "    .dataframe thead th {\n",
              "        text-align: right;\n",
              "    }\n",
              "</style>\n",
              "<table border=\"1\" class=\"dataframe\">\n",
              "  <thead>\n",
              "    <tr style=\"text-align: right;\">\n",
              "      <th></th>\n",
              "      <th>review</th>\n",
              "      <th>sentiment</th>\n",
              "    </tr>\n",
              "  </thead>\n",
              "  <tbody>\n",
              "    <tr>\n",
              "      <th>0</th>\n",
              "      <td>One of the other reviewers has mentioned that ...</td>\n",
              "      <td>positive</td>\n",
              "    </tr>\n",
              "    <tr>\n",
              "      <th>1</th>\n",
              "      <td>A wonderful little production. &lt;br /&gt;&lt;br /&gt;The...</td>\n",
              "      <td>positive</td>\n",
              "    </tr>\n",
              "    <tr>\n",
              "      <th>2</th>\n",
              "      <td>I thought this was a wonderful way to spend ti...</td>\n",
              "      <td>positive</td>\n",
              "    </tr>\n",
              "    <tr>\n",
              "      <th>3</th>\n",
              "      <td>Basically there's a family where a little boy ...</td>\n",
              "      <td>negative</td>\n",
              "    </tr>\n",
              "    <tr>\n",
              "      <th>4</th>\n",
              "      <td>Petter Mattei's \"Love in the Time of Money\" is...</td>\n",
              "      <td>positive</td>\n",
              "    </tr>\n",
              "  </tbody>\n",
              "</table>\n",
              "</div>"
            ],
            "text/plain": [
              "                                              review sentiment\n",
              "0  One of the other reviewers has mentioned that ...  positive\n",
              "1  A wonderful little production. <br /><br />The...  positive\n",
              "2  I thought this was a wonderful way to spend ti...  positive\n",
              "3  Basically there's a family where a little boy ...  negative\n",
              "4  Petter Mattei's \"Love in the Time of Money\" is...  positive"
            ]
          },
          "metadata": {
            "tags": []
          },
          "execution_count": 7
        }
      ]
    },
    {
      "cell_type": "code",
      "metadata": {
        "colab": {
          "base_uri": "https://localhost:8080/",
          "height": 669
        },
        "id": "uvCLdbsk0wuI",
        "outputId": "0178e248-bb76-4c29-852b-00e412b95164"
      },
      "source": [
        "from sklearn.utils import shuffle\n",
        "df = shuffle(df)\n",
        "df.head(20)"
      ],
      "execution_count": 8,
      "outputs": [
        {
          "output_type": "execute_result",
          "data": {
            "text/html": [
              "<div>\n",
              "<style scoped>\n",
              "    .dataframe tbody tr th:only-of-type {\n",
              "        vertical-align: middle;\n",
              "    }\n",
              "\n",
              "    .dataframe tbody tr th {\n",
              "        vertical-align: top;\n",
              "    }\n",
              "\n",
              "    .dataframe thead th {\n",
              "        text-align: right;\n",
              "    }\n",
              "</style>\n",
              "<table border=\"1\" class=\"dataframe\">\n",
              "  <thead>\n",
              "    <tr style=\"text-align: right;\">\n",
              "      <th></th>\n",
              "      <th>review</th>\n",
              "      <th>sentiment</th>\n",
              "    </tr>\n",
              "  </thead>\n",
              "  <tbody>\n",
              "    <tr>\n",
              "      <th>33553</th>\n",
              "      <td>I really liked this Summerslam due to the look...</td>\n",
              "      <td>positive</td>\n",
              "    </tr>\n",
              "    <tr>\n",
              "      <th>9427</th>\n",
              "      <td>Not many television shows appeal to quite as m...</td>\n",
              "      <td>positive</td>\n",
              "    </tr>\n",
              "    <tr>\n",
              "      <th>199</th>\n",
              "      <td>The film quickly gets to a major chase scene w...</td>\n",
              "      <td>negative</td>\n",
              "    </tr>\n",
              "    <tr>\n",
              "      <th>12447</th>\n",
              "      <td>Jane Austen would definitely approve of this o...</td>\n",
              "      <td>positive</td>\n",
              "    </tr>\n",
              "    <tr>\n",
              "      <th>39489</th>\n",
              "      <td>Expectations were somewhat high for me when I ...</td>\n",
              "      <td>negative</td>\n",
              "    </tr>\n",
              "    <tr>\n",
              "      <th>42724</th>\n",
              "      <td>I've watched this movie on a fairly regular ba...</td>\n",
              "      <td>positive</td>\n",
              "    </tr>\n",
              "    <tr>\n",
              "      <th>10822</th>\n",
              "      <td>For once a story of hope highlighted over the ...</td>\n",
              "      <td>positive</td>\n",
              "    </tr>\n",
              "    <tr>\n",
              "      <th>49498</th>\n",
              "      <td>Okay, I didn't get the Purgatory thing the fir...</td>\n",
              "      <td>positive</td>\n",
              "    </tr>\n",
              "    <tr>\n",
              "      <th>4144</th>\n",
              "      <td>I was very disappointed with this series. It h...</td>\n",
              "      <td>negative</td>\n",
              "    </tr>\n",
              "    <tr>\n",
              "      <th>36958</th>\n",
              "      <td>The first 30 minutes of Tinseltown had my fing...</td>\n",
              "      <td>negative</td>\n",
              "    </tr>\n",
              "    <tr>\n",
              "      <th>43106</th>\n",
              "      <td>jeez, this was immensely boring. the leading m...</td>\n",
              "      <td>negative</td>\n",
              "    </tr>\n",
              "    <tr>\n",
              "      <th>38695</th>\n",
              "      <td>Great just great! The West Coast got \"Dirty\" H...</td>\n",
              "      <td>positive</td>\n",
              "    </tr>\n",
              "    <tr>\n",
              "      <th>6188</th>\n",
              "      <td>It's made in 2007 and the CG is bad for a movi...</td>\n",
              "      <td>negative</td>\n",
              "    </tr>\n",
              "    <tr>\n",
              "      <th>1414</th>\n",
              "      <td>This movie stinks majorly. The only reason I g...</td>\n",
              "      <td>negative</td>\n",
              "    </tr>\n",
              "    <tr>\n",
              "      <th>18471</th>\n",
              "      <td>We can start with the wooden acting but this f...</td>\n",
              "      <td>negative</td>\n",
              "    </tr>\n",
              "    <tr>\n",
              "      <th>29282</th>\n",
              "      <td>This movie starts off somewhat slowly and gets...</td>\n",
              "      <td>positive</td>\n",
              "    </tr>\n",
              "    <tr>\n",
              "      <th>15177</th>\n",
              "      <td>This is a slightly uneven entry with one stand...</td>\n",
              "      <td>positive</td>\n",
              "    </tr>\n",
              "    <tr>\n",
              "      <th>34304</th>\n",
              "      <td>I was first introduced to John Waters films by...</td>\n",
              "      <td>positive</td>\n",
              "    </tr>\n",
              "    <tr>\n",
              "      <th>12609</th>\n",
              "      <td>This movie has very good acting by virtually a...</td>\n",
              "      <td>positive</td>\n",
              "    </tr>\n",
              "    <tr>\n",
              "      <th>12144</th>\n",
              "      <td>I can't help but notice the negative reviews t...</td>\n",
              "      <td>positive</td>\n",
              "    </tr>\n",
              "  </tbody>\n",
              "</table>\n",
              "</div>"
            ],
            "text/plain": [
              "                                                  review sentiment\n",
              "33553  I really liked this Summerslam due to the look...  positive\n",
              "9427   Not many television shows appeal to quite as m...  positive\n",
              "199    The film quickly gets to a major chase scene w...  negative\n",
              "12447  Jane Austen would definitely approve of this o...  positive\n",
              "39489  Expectations were somewhat high for me when I ...  negative\n",
              "42724  I've watched this movie on a fairly regular ba...  positive\n",
              "10822  For once a story of hope highlighted over the ...  positive\n",
              "49498  Okay, I didn't get the Purgatory thing the fir...  positive\n",
              "4144   I was very disappointed with this series. It h...  negative\n",
              "36958  The first 30 minutes of Tinseltown had my fing...  negative\n",
              "43106  jeez, this was immensely boring. the leading m...  negative\n",
              "38695  Great just great! The West Coast got \"Dirty\" H...  positive\n",
              "6188   It's made in 2007 and the CG is bad for a movi...  negative\n",
              "1414   This movie stinks majorly. The only reason I g...  negative\n",
              "18471  We can start with the wooden acting but this f...  negative\n",
              "29282  This movie starts off somewhat slowly and gets...  positive\n",
              "15177  This is a slightly uneven entry with one stand...  positive\n",
              "34304  I was first introduced to John Waters films by...  positive\n",
              "12609  This movie has very good acting by virtually a...  positive\n",
              "12144  I can't help but notice the negative reviews t...  positive"
            ]
          },
          "metadata": {
            "tags": []
          },
          "execution_count": 8
        }
      ]
    },
    {
      "cell_type": "code",
      "metadata": {
        "colab": {
          "base_uri": "https://localhost:8080/"
        },
        "id": "XQOgva8v0z0N",
        "outputId": "b8ecae14-0f31-49f2-d77f-c4a239103234"
      },
      "source": [
        "df = df[:24000]\n",
        "len(df)"
      ],
      "execution_count": 9,
      "outputs": [
        {
          "output_type": "execute_result",
          "data": {
            "text/plain": [
              "24000"
            ]
          },
          "metadata": {
            "tags": []
          },
          "execution_count": 9
        }
      ]
    },
    {
      "cell_type": "code",
      "metadata": {
        "id": "sghtX97201_V"
      },
      "source": [
        "#text 정제\n",
        "import re\n",
        "def clean_text(text):\n",
        "    text = re.sub(r\"@[A-Za-z0-9]+\", ' ', text)\n",
        "    text = re.sub(r\"https?://[A-Za-z0-9./]+\", ' ', text)\n",
        "    text = re.sub(r\"[^a-zA-z.!?'0-9]\", ' ', text)\n",
        "    text = re.sub('\\t', ' ',  text)\n",
        "    text = re.sub(r\" +\", ' ', text)\n",
        "    return text"
      ],
      "execution_count": 10,
      "outputs": []
    },
    {
      "cell_type": "code",
      "metadata": {
        "id": "YB3A_LCA05UI"
      },
      "source": [
        "df['review'] = df['review'].apply(clean_text)"
      ],
      "execution_count": 11,
      "outputs": []
    },
    {
      "cell_type": "code",
      "metadata": {
        "colab": {
          "base_uri": "https://localhost:8080/",
          "height": 454
        },
        "id": "NZdZktrG06k9",
        "outputId": "5996f683-db17-4031-e30a-488f1a58c9c0"
      },
      "source": [
        "rcParams['figure.figsize'] = 8, 6\n",
        "sns.countplot(df.sentiment)\n",
        "plt.xlabel('review score');"
      ],
      "execution_count": 12,
      "outputs": [
        {
          "output_type": "stream",
          "text": [
            "/usr/local/lib/python3.7/dist-packages/seaborn/_decorators.py:43: FutureWarning: Pass the following variable as a keyword arg: x. From version 0.12, the only valid positional argument will be `data`, and passing other arguments without an explicit keyword will result in an error or misinterpretation.\n",
            "  FutureWarning\n"
          ],
          "name": "stderr"
        },
        {
          "output_type": "display_data",
          "data": {
            "image/png": "[encoded data removed]",
            "text/plain": [
              "<Figure size 576x432 with 1 Axes>"
            ]
          },
          "metadata": {
            "tags": [],
            "image/png": {
              "width": 530,
              "height": 381
            }
          }
        }
      ]
    },
    {
      "cell_type": "code",
      "metadata": {
        "id": "ojucZRaz09Ro"
      },
      "source": [
        "# 감정 라벨링\n",
        "\n",
        "def sentiment2label(sentiment):\n",
        "    if sentiment == \"positive\":\n",
        "        return 1\n",
        "    else :\n",
        "        return 0\n",
        "\n",
        "df['sentiment'] = df['sentiment'].apply(sentiment2label)"
      ],
      "execution_count": 13,
      "outputs": []
    },
    {
      "cell_type": "code",
      "metadata": {
        "colab": {
          "base_uri": "https://localhost:8080/"
        },
        "id": "Hl6uLR421Aqo",
        "outputId": "ea56c707-02c6-4b49-a90e-786329e03207"
      },
      "source": [
        "df['sentiment'].value_counts()"
      ],
      "execution_count": 14,
      "outputs": [
        {
          "output_type": "execute_result",
          "data": {
            "text/plain": [
              "0    12006\n",
              "1    11994\n",
              "Name: sentiment, dtype: int64"
            ]
          },
          "metadata": {
            "tags": []
          },
          "execution_count": 14
        }
      ]
    },
    {
      "cell_type": "code",
      "metadata": {
        "id": "f8_YUd6R1BrF"
      },
      "source": [
        "class_names = ['negative', 'positive']"
      ],
      "execution_count": 15,
      "outputs": []
    },
    {
      "cell_type": "markdown",
      "metadata": {
        "id": "nOCJcu7Y1p6S"
      },
      "source": [
        "XLNet Tokenizer test"
      ]
    },
    {
      "cell_type": "code",
      "metadata": {
        "colab": {
          "base_uri": "https://localhost:8080/",
          "height": 167,
          "referenced_widgets": [
            "4508b18986e44baba10f6c3d875d48a6",
            "9236586b45f04aae95ad711e938b9cb9",
            "e244a160ad4449559dac2ca545ff6e2f",
            "9857857cc0e24bf497bee88cea584feb",
            "8e3d3493dd764fd99069dfefbe2f2dc1",
            "8972b394c9de4b78b44e051083fe205c",
            "9b37f378098245ccb27477a29f07e95e",
            "5726663270cc4aafbecbc7fb29d7184d",
            "487100a41c294c57a98e5950308ce1c7",
            "a0173e704b5b4758b6ba4d55f451b8da",
            "58f1ccc37e454a27a6d8ec20d6c3bc80",
            "e8cc718126ef405684dcfe39bffa718d",
            "1dbaa52a33ed4b55a09090cd3e2ccb45",
            "7512d9368a1f4b03ba41137814f6c212",
            "aecf90002ecc40d483e44b366f57f77f",
            "ae3beab0fc4643999388e9818d68a6f2",
            "316786aa51984a2ab10c2887010edc43",
            "9ae4f292015f4984bb4a1ff1c928064c",
            "f0cd3d0edd2647f68ff47459d7913829",
            "14441f7662ca4c5badd6f063ec26bb3e",
            "35d64088fe114866aeb8b703b8f15f25",
            "2ae562112e894755a4968172985c9c75",
            "67a4287a872343b69720a28156af9e76",
            "1bb6b56e2c9e4592bf1400574d10fd86"
          ]
        },
        "id": "fDm8lUSZ1DP9",
        "outputId": "27ae50b6-e074-4a20-9666-06844548aa1f"
      },
      "source": [
        "from transformers import XLNetTokenizer, XLNetModel\n",
        "PRE_TRAINED_MODEL_NAME = 'xlnet-base-cased'\n",
        "tokenizer = XLNetTokenizer.from_pretrained(PRE_TRAINED_MODEL_NAME)"
      ],
      "execution_count": 16,
      "outputs": [
        {
          "output_type": "display_data",
          "data": {
            "application/vnd.jupyter.widget-view+json": {
              "model_id": "4508b18986e44baba10f6c3d875d48a6",
              "version_minor": 0,
              "version_major": 2
            },
            "text/plain": [
              "HBox(children=(FloatProgress(value=0.0, description='Downloading', max=798011.0, style=ProgressStyle(descripti…"
            ]
          },
          "metadata": {
            "tags": []
          }
        },
        {
          "output_type": "stream",
          "text": [
            "\n"
          ],
          "name": "stdout"
        },
        {
          "output_type": "display_data",
          "data": {
            "application/vnd.jupyter.widget-view+json": {
              "model_id": "487100a41c294c57a98e5950308ce1c7",
              "version_minor": 0,
              "version_major": 2
            },
            "text/plain": [
              "HBox(children=(FloatProgress(value=0.0, description='Downloading', max=1382015.0, style=ProgressStyle(descript…"
            ]
          },
          "metadata": {
            "tags": []
          }
        },
        {
          "output_type": "stream",
          "text": [
            "\n"
          ],
          "name": "stdout"
        },
        {
          "output_type": "display_data",
          "data": {
            "application/vnd.jupyter.widget-view+json": {
              "model_id": "316786aa51984a2ab10c2887010edc43",
              "version_minor": 0,
              "version_major": 2
            },
            "text/plain": [
              "HBox(children=(FloatProgress(value=0.0, description='Downloading', max=760.0, style=ProgressStyle(description_…"
            ]
          },
          "metadata": {
            "tags": []
          }
        },
        {
          "output_type": "stream",
          "text": [
            "\n"
          ],
          "name": "stdout"
        }
      ]
    },
    {
      "cell_type": "code",
      "metadata": {
        "colab": {
          "base_uri": "https://localhost:8080/"
        },
        "id": "3-WV5X-_1GmF",
        "outputId": "03837b60-ec14-4b5d-96da-096e38d3f0fb"
      },
      "source": [
        "input_txt = \"India is my country. All Indians are my brothers and sisters\"\n",
        "encodings = tokenizer.encode_plus(input_txt, add_special_tokens=True, max_length=16, return_tensors='pt', return_token_type_ids=False, return_attention_mask=True, pad_to_max_length=False)"
      ],
      "execution_count": 17,
      "outputs": [
        {
          "output_type": "stream",
          "text": [
            "Truncation was not explicitly activated but `max_length` is provided a specific value, please use `truncation=True` to explicitly truncate examples to max length. Defaulting to 'longest_first' truncation strategy. If you encode pairs of sequences (GLUE-style) with the tokenizer you can select this strategy more precisely by providing a specific strategy to `truncation`.\n"
          ],
          "name": "stderr"
        }
      ]
    },
    {
      "cell_type": "code",
      "metadata": {
        "colab": {
          "base_uri": "https://localhost:8080/"
        },
        "id": "p3wyfguc1MYO",
        "outputId": "fcbae042-ab99-4ffb-b1a4-51d74afb7aee"
      },
      "source": [
        "print('input_ids : ',encodings['input_ids'])"
      ],
      "execution_count": 18,
      "outputs": [
        {
          "output_type": "stream",
          "text": [
            "input_ids :  tensor([[ 837,   27,   94,  234,    9,  394, 7056,   41,   94, 4194,   21, 8301,\n",
            "            4,    3]])\n"
          ],
          "name": "stdout"
        }
      ]
    },
    {
      "cell_type": "code",
      "metadata": {
        "colab": {
          "base_uri": "https://localhost:8080/"
        },
        "id": "HV7TAbQo1QrL",
        "outputId": "236702d3-4957-48f5-b320-65aebb3e5d21"
      },
      "source": [
        "# xlnet 모델에 적용할 수 있는 토큰 형식으로 전환\n",
        "\n",
        "tokenizer.convert_ids_to_tokens(encodings['input_ids'][0])"
      ],
      "execution_count": 19,
      "outputs": [
        {
          "output_type": "execute_result",
          "data": {
            "text/plain": [
              "['▁India',\n",
              " '▁is',\n",
              " '▁my',\n",
              " '▁country',\n",
              " '.',\n",
              " '▁All',\n",
              " '▁Indians',\n",
              " '▁are',\n",
              " '▁my',\n",
              " '▁brothers',\n",
              " '▁and',\n",
              " '▁sisters',\n",
              " '<sep>',\n",
              " '<cls>']"
            ]
          },
          "metadata": {
            "tags": []
          },
          "execution_count": 19
        }
      ]
    },
    {
      "cell_type": "code",
      "metadata": {
        "colab": {
          "base_uri": "https://localhost:8080/"
        },
        "id": "hTQzvekm1gTl",
        "outputId": "ee720830-c062-4a45-f4f2-a2a9dfb525b8"
      },
      "source": [
        "type(encodings['attention_mask'])"
      ],
      "execution_count": 20,
      "outputs": [
        {
          "output_type": "execute_result",
          "data": {
            "text/plain": [
              "torch.Tensor"
            ]
          },
          "metadata": {
            "tags": []
          },
          "execution_count": 20
        }
      ]
    },
    {
      "cell_type": "code",
      "metadata": {
        "id": "6Ehfudhn1hBT"
      },
      "source": [
        "attention_mask = pad_sequences(encodings['attention_mask'], maxlen=512, dtype=torch.Tensor ,truncating=\"post\",padding=\"post\")"
      ],
      "execution_count": 21,
      "outputs": []
    },
    {
      "cell_type": "code",
      "metadata": {
        "colab": {
          "base_uri": "https://localhost:8080/"
        },
        "id": "JB585sMV2C5e",
        "outputId": "33c466b6-9482-4308-901b-78c47729a516"
      },
      "source": [
        "# 어탠션마스크\n",
        "\n",
        "attention_mask = attention_mask.astype(dtype = 'int64')\n",
        "attention_mask = torch.tensor(attention_mask) \n",
        "attention_mask.flatten()"
      ],
      "execution_count": 22,
      "outputs": [
        {
          "output_type": "execute_result",
          "data": {
            "text/plain": [
              "tensor([1, 1, 1, 1, 1, 1, 1, 1, 1, 1, 1, 1, 1, 1, 0, 0, 0, 0, 0, 0, 0, 0, 0, 0,\n",
              "        0, 0, 0, 0, 0, 0, 0, 0, 0, 0, 0, 0, 0, 0, 0, 0, 0, 0, 0, 0, 0, 0, 0, 0,\n",
              "        0, 0, 0, 0, 0, 0, 0, 0, 0, 0, 0, 0, 0, 0, 0, 0, 0, 0, 0, 0, 0, 0, 0, 0,\n",
              "        0, 0, 0, 0, 0, 0, 0, 0, 0, 0, 0, 0, 0, 0, 0, 0, 0, 0, 0, 0, 0, 0, 0, 0,\n",
              "        0, 0, 0, 0, 0, 0, 0, 0, 0, 0, 0, 0, 0, 0, 0, 0, 0, 0, 0, 0, 0, 0, 0, 0,\n",
              "        0, 0, 0, 0, 0, 0, 0, 0, 0, 0, 0, 0, 0, 0, 0, 0, 0, 0, 0, 0, 0, 0, 0, 0,\n",
              "        0, 0, 0, 0, 0, 0, 0, 0, 0, 0, 0, 0, 0, 0, 0, 0, 0, 0, 0, 0, 0, 0, 0, 0,\n",
              "        0, 0, 0, 0, 0, 0, 0, 0, 0, 0, 0, 0, 0, 0, 0, 0, 0, 0, 0, 0, 0, 0, 0, 0,\n",
              "        0, 0, 0, 0, 0, 0, 0, 0, 0, 0, 0, 0, 0, 0, 0, 0, 0, 0, 0, 0, 0, 0, 0, 0,\n",
              "        0, 0, 0, 0, 0, 0, 0, 0, 0, 0, 0, 0, 0, 0, 0, 0, 0, 0, 0, 0, 0, 0, 0, 0,\n",
              "        0, 0, 0, 0, 0, 0, 0, 0, 0, 0, 0, 0, 0, 0, 0, 0, 0, 0, 0, 0, 0, 0, 0, 0,\n",
              "        0, 0, 0, 0, 0, 0, 0, 0, 0, 0, 0, 0, 0, 0, 0, 0, 0, 0, 0, 0, 0, 0, 0, 0,\n",
              "        0, 0, 0, 0, 0, 0, 0, 0, 0, 0, 0, 0, 0, 0, 0, 0, 0, 0, 0, 0, 0, 0, 0, 0,\n",
              "        0, 0, 0, 0, 0, 0, 0, 0, 0, 0, 0, 0, 0, 0, 0, 0, 0, 0, 0, 0, 0, 0, 0, 0,\n",
              "        0, 0, 0, 0, 0, 0, 0, 0, 0, 0, 0, 0, 0, 0, 0, 0, 0, 0, 0, 0, 0, 0, 0, 0,\n",
              "        0, 0, 0, 0, 0, 0, 0, 0, 0, 0, 0, 0, 0, 0, 0, 0, 0, 0, 0, 0, 0, 0, 0, 0,\n",
              "        0, 0, 0, 0, 0, 0, 0, 0, 0, 0, 0, 0, 0, 0, 0, 0, 0, 0, 0, 0, 0, 0, 0, 0,\n",
              "        0, 0, 0, 0, 0, 0, 0, 0, 0, 0, 0, 0, 0, 0, 0, 0, 0, 0, 0, 0, 0, 0, 0, 0,\n",
              "        0, 0, 0, 0, 0, 0, 0, 0, 0, 0, 0, 0, 0, 0, 0, 0, 0, 0, 0, 0, 0, 0, 0, 0,\n",
              "        0, 0, 0, 0, 0, 0, 0, 0, 0, 0, 0, 0, 0, 0, 0, 0, 0, 0, 0, 0, 0, 0, 0, 0,\n",
              "        0, 0, 0, 0, 0, 0, 0, 0, 0, 0, 0, 0, 0, 0, 0, 0, 0, 0, 0, 0, 0, 0, 0, 0,\n",
              "        0, 0, 0, 0, 0, 0, 0, 0])"
            ]
          },
          "metadata": {
            "tags": []
          },
          "execution_count": 22
        }
      ]
    },
    {
      "cell_type": "code",
      "metadata": {
        "colab": {
          "base_uri": "https://localhost:8080/"
        },
        "id": "WVX-ffZe2H0h",
        "outputId": "b75d5555-a695-4bdb-d4ca-44bc0989ebaa"
      },
      "source": [
        "encodings['input_ids']"
      ],
      "execution_count": 23,
      "outputs": [
        {
          "output_type": "execute_result",
          "data": {
            "text/plain": [
              "tensor([[ 837,   27,   94,  234,    9,  394, 7056,   41,   94, 4194,   21, 8301,\n",
              "            4,    3]])"
            ]
          },
          "metadata": {
            "tags": []
          },
          "execution_count": 23
        }
      ]
    },
    {
      "cell_type": "markdown",
      "metadata": {
        "id": "M50N1a0b2MG8"
      },
      "source": [
        "원본데이터 token 길이 분포\n",
        "-> 이를 기반으로 max_len 구함"
      ]
    },
    {
      "cell_type": "code",
      "metadata": {
        "id": "7CZmHNMX2P36"
      },
      "source": [
        "token_lens = []\n",
        "\n",
        "for txt in df['review']:\n",
        "  tokens = tokenizer.encode(txt, max_length=512)\n",
        "  token_lens.append(len(tokens))"
      ],
      "execution_count": 24,
      "outputs": []
    },
    {
      "cell_type": "code",
      "metadata": {
        "colab": {
          "base_uri": "https://localhost:8080/",
          "height": 454
        },
        "id": "eIWQA4xo2Rr5",
        "outputId": "76230eb6-1f76-4e09-f2e7-f6723458cf83"
      },
      "source": [
        "sns.distplot(token_lens)\n",
        "plt.xlim([0, 1024]);\n",
        "plt.xlabel('Token count');"
      ],
      "execution_count": 25,
      "outputs": [
        {
          "output_type": "stream",
          "text": [
            "/usr/local/lib/python3.7/dist-packages/seaborn/distributions.py:2557: FutureWarning: `distplot` is a deprecated function and will be removed in a future version. Please adapt your code to use either `displot` (a figure-level function with similar flexibility) or `histplot` (an axes-level function for histograms).\n",
            "  warnings.warn(msg, FutureWarning)\n"
          ],
          "name": "stderr"
        },
        {
          "output_type": "display_data",
          "data": {
            "image/png": "[encoded data removed]",
            "text/plain": [
              "<Figure size 576x432 with 1 Axes>"
            ]
          },
          "metadata": {
            "tags": [],
            "image/png": {
              "width": 532,
              "height": 381
            }
          }
        }
      ]
    },
    {
      "cell_type": "code",
      "metadata": {
        "id": "GwGIZWbi2TjQ"
      },
      "source": [
        "MAX_LEN = 512"
      ],
      "execution_count": 26,
      "outputs": []
    },
    {
      "cell_type": "markdown",
      "metadata": {
        "id": "TAiPwzVV2gIt"
      },
      "source": [
        "IMDB에 맞는 데이터셋 tokenizer, attention mask 만들기"
      ]
    },
    {
      "cell_type": "code",
      "metadata": {
        "id": "yzGY_4p12oCl"
      },
      "source": [
        "class ImdbDataset(Dataset):\n",
        "\n",
        "    def __init__(self, reviews, targets, tokenizer, max_len):\n",
        "        self.reviews = reviews\n",
        "        self.targets = targets\n",
        "        self.tokenizer = tokenizer\n",
        "        self.max_len = max_len\n",
        "    \n",
        "    def __len__(self):\n",
        "        return len(self.reviews)\n",
        "    \n",
        "    def __getitem__(self, item):\n",
        "        review = str(self.reviews[item])\n",
        "        target = self.targets[item]\n",
        "\n",
        "        encoding = self.tokenizer.encode_plus(\n",
        "        review,\n",
        "        add_special_tokens=True,\n",
        "        max_length=self.max_len,\n",
        "        return_token_type_ids=False,\n",
        "        pad_to_max_length=False,\n",
        "        return_attention_mask=True,\n",
        "        return_tensors='pt',\n",
        "        )\n",
        "\n",
        "        input_ids = pad_sequences(encoding['input_ids'], maxlen=MAX_LEN, dtype=torch.Tensor ,truncating=\"post\",padding=\"post\")\n",
        "        input_ids = input_ids.astype(dtype = 'int64')\n",
        "        input_ids = torch.tensor(input_ids) \n",
        "\n",
        "        attention_mask = pad_sequences(encoding['attention_mask'], maxlen=MAX_LEN, dtype=torch.Tensor ,truncating=\"post\",padding=\"post\")\n",
        "        attention_mask = attention_mask.astype(dtype = 'int64')\n",
        "        attention_mask = torch.tensor(attention_mask)       \n",
        "\n",
        "        return {\n",
        "        'review_text': review,\n",
        "        'input_ids': input_ids,\n",
        "        'attention_mask': attention_mask.flatten(),\n",
        "        'targets': torch.tensor(target, dtype=torch.long)\n",
        "        }"
      ],
      "execution_count": 27,
      "outputs": []
    },
    {
      "cell_type": "code",
      "metadata": {
        "id": "FV-BmRue2q2m"
      },
      "source": [
        "df_train, df_test = train_test_split(df, test_size=0.5, random_state=101)\n",
        "df_val, df_test = train_test_split(df_test, test_size=0.5, random_state=101)"
      ],
      "execution_count": 28,
      "outputs": []
    },
    {
      "cell_type": "code",
      "metadata": {
        "colab": {
          "base_uri": "https://localhost:8080/"
        },
        "id": "4V6TM3yQ2rcU",
        "outputId": "86070d42-0910-487d-b58b-70127d04184b"
      },
      "source": [
        "df_train.shape, df_val.shape, df_test.shape"
      ],
      "execution_count": 29,
      "outputs": [
        {
          "output_type": "execute_result",
          "data": {
            "text/plain": [
              "((12000, 2), (6000, 2), (6000, 2))"
            ]
          },
          "metadata": {
            "tags": []
          },
          "execution_count": 29
        }
      ]
    },
    {
      "cell_type": "markdown",
      "metadata": {
        "id": "qEvIOLKg2vvV"
      },
      "source": [
        "data loader 만들기"
      ]
    },
    {
      "cell_type": "code",
      "metadata": {
        "id": "Tj0DbRkU2xLY"
      },
      "source": [
        "def create_data_loader(df, tokenizer, max_len, batch_size):\n",
        "  ds = ImdbDataset(\n",
        "    reviews=df.review.to_numpy(),\n",
        "    targets=df.sentiment.to_numpy(),\n",
        "    tokenizer=tokenizer,\n",
        "    max_len=max_len\n",
        "  )\n",
        "\n",
        "  return DataLoader(\n",
        "    ds,\n",
        "    batch_size=batch_size,\n",
        "    num_workers=4\n",
        "  )"
      ],
      "execution_count": 30,
      "outputs": []
    },
    {
      "cell_type": "code",
      "metadata": {
        "colab": {
          "base_uri": "https://localhost:8080/"
        },
        "id": "51c1m5Ru2yx_",
        "outputId": "eabc9391-186f-411f-d518-38e0350e8330"
      },
      "source": [
        "BATCH_SIZE = 4\n",
        "\n",
        "train_data_loader = create_data_loader(df_train, tokenizer, MAX_LEN, BATCH_SIZE)\n",
        "val_data_loader = create_data_loader(df_val, tokenizer, MAX_LEN, BATCH_SIZE)\n",
        "test_data_loader = create_data_loader(df_test, tokenizer, MAX_LEN, BATCH_SIZE)"
      ],
      "execution_count": 31,
      "outputs": [
        {
          "output_type": "stream",
          "text": [
            "/usr/local/lib/python3.7/dist-packages/torch/utils/data/dataloader.py:481: UserWarning: This DataLoader will create 4 worker processes in total. Our suggested max number of worker in current system is 2, which is smaller than what this DataLoader is going to create. Please be aware that excessive worker creation might get DataLoader running slow or even freeze, lower the worker number to avoid potential slowness/freeze if necessary.\n",
            "  cpuset_checked))\n"
          ],
          "name": "stderr"
        }
      ]
    },
    {
      "cell_type": "markdown",
      "metadata": {
        "id": "ofDAW01l22WG"
      },
      "source": [
        "pre-trained sequence classification XLNet 모델 불러오기"
      ]
    },
    {
      "cell_type": "code",
      "metadata": {
        "colab": {
          "base_uri": "https://localhost:8080/",
          "height": 157,
          "referenced_widgets": [
            "1788093a0ae541c198dc701c5c417738",
            "aa4d8dfa782847b59381ff00d5a435e8",
            "4291c5c7a97245c69d4dd63a000d6b1d",
            "05826c72b5d34d30b8ff2a2366d22d9e",
            "97c886ca74a64c148b6a317d32afb291",
            "33007446b986497a9e7da6898d0c2e70",
            "e814f1a399434764a6112a9ca695c44a",
            "39878b0794c54e16bbf5789f7ec27eec"
          ]
        },
        "id": "ZUmcKOtj27NG",
        "outputId": "5cd7344e-9d03-42e4-8eb6-84fc6a81da8f"
      },
      "source": [
        "\n",
        "from transformers import XLNetForSequenceClassification\n",
        "model = XLNetForSequenceClassification.from_pretrained('xlnet-base-cased', num_labels = 2)\n",
        "model = model.to(device)"
      ],
      "execution_count": 32,
      "outputs": [
        {
          "output_type": "display_data",
          "data": {
            "application/vnd.jupyter.widget-view+json": {
              "model_id": "1788093a0ae541c198dc701c5c417738",
              "version_minor": 0,
              "version_major": 2
            },
            "text/plain": [
              "HBox(children=(FloatProgress(value=0.0, description='Downloading', max=467042463.0, style=ProgressStyle(descri…"
            ]
          },
          "metadata": {
            "tags": []
          }
        },
        {
          "output_type": "stream",
          "text": [
            "\n"
          ],
          "name": "stdout"
        },
        {
          "output_type": "stream",
          "text": [
            "Some weights of the model checkpoint at xlnet-base-cased were not used when initializing XLNetForSequenceClassification: ['lm_loss.weight', 'lm_loss.bias']\n",
            "- This IS expected if you are initializing XLNetForSequenceClassification from the checkpoint of a model trained on another task or with another architecture (e.g. initializing a BertForSequenceClassification model from a BertForPreTraining model).\n",
            "- This IS NOT expected if you are initializing XLNetForSequenceClassification from the checkpoint of a model that you expect to be exactly identical (initializing a BertForSequenceClassification model from a BertForSequenceClassification model).\n",
            "Some weights of XLNetForSequenceClassification were not initialized from the model checkpoint at xlnet-base-cased and are newly initialized: ['sequence_summary.summary.weight', 'sequence_summary.summary.bias', 'logits_proj.weight', 'logits_proj.bias']\n",
            "You should probably TRAIN this model on a down-stream task to be able to use it for predictions and inference.\n"
          ],
          "name": "stderr"
        }
      ]
    },
    {
      "cell_type": "markdown",
      "metadata": {
        "id": "GJeyZOoq3E2k"
      },
      "source": [
        "epochs, optimizer 등 hyperparameter 세팅"
      ]
    },
    {
      "cell_type": "code",
      "metadata": {
        "id": "d8k2-uBG3ECd"
      },
      "source": [
        "EPOCHS = 3\n",
        "\n",
        "param_optimizer = list(model.named_parameters())\n",
        "no_decay = ['bias', 'LayerNorm.bias', 'LayerNorm.weight']\n",
        "optimizer_grouped_parameters = [\n",
        "                                {'params': [p for n, p in param_optimizer if not any(nd in n for nd in no_decay)], 'weight_decay': 0.01},\n",
        "                                {'params': [p for n, p in param_optimizer if any(nd in n for nd in no_decay)], 'weight_decay':0.0}\n",
        "]\n",
        "optimizer = AdamW(optimizer_grouped_parameters, lr=3e-5)\n",
        "\n",
        "total_steps = len(train_data_loader) * EPOCHS\n",
        "\n",
        "scheduler = get_linear_schedule_with_warmup(\n",
        "  optimizer,\n",
        "  num_warmup_steps=0,\n",
        "  num_training_steps=total_steps\n",
        ")"
      ],
      "execution_count": 33,
      "outputs": []
    },
    {
      "cell_type": "markdown",
      "metadata": {
        "id": "sWPvjmkM3Lxd"
      },
      "source": [
        "1개의 batch로 미리 체크"
      ]
    },
    {
      "cell_type": "code",
      "metadata": {
        "colab": {
          "base_uri": "https://localhost:8080/"
        },
        "id": "kIkXg_YX3N3Q",
        "outputId": "ca8d39f3-49f6-4027-f252-eb1d1ca99d71"
      },
      "source": [
        "data = next(iter(val_data_loader))\n",
        "data.keys()"
      ],
      "execution_count": 34,
      "outputs": [
        {
          "output_type": "stream",
          "text": [
            "/usr/local/lib/python3.7/dist-packages/torch/utils/data/dataloader.py:481: UserWarning: This DataLoader will create 4 worker processes in total. Our suggested max number of worker in current system is 2, which is smaller than what this DataLoader is going to create. Please be aware that excessive worker creation might get DataLoader running slow or even freeze, lower the worker number to avoid potential slowness/freeze if necessary.\n",
            "  cpuset_checked))\n"
          ],
          "name": "stderr"
        },
        {
          "output_type": "execute_result",
          "data": {
            "text/plain": [
              "dict_keys(['review_text', 'input_ids', 'attention_mask', 'targets'])"
            ]
          },
          "metadata": {
            "tags": []
          },
          "execution_count": 34
        }
      ]
    },
    {
      "cell_type": "code",
      "metadata": {
        "colab": {
          "base_uri": "https://localhost:8080/"
        },
        "id": "zSoearXH3Qtg",
        "outputId": "8a65c177-b254-4913-82ce-7e9b2e9c9ada"
      },
      "source": [
        "input_ids = data['input_ids'].to(device)\n",
        "attention_mask = data['attention_mask'].to(device)\n",
        "targets = data['targets'].to(device)\n",
        "print(input_ids.reshape(4,512).shape) # batch size x seq length\n",
        "print(attention_mask.shape) # batch size x seq length"
      ],
      "execution_count": 35,
      "outputs": [
        {
          "output_type": "stream",
          "text": [
            "torch.Size([4, 512])\n",
            "torch.Size([4, 512])\n"
          ],
          "name": "stdout"
        }
      ]
    },
    {
      "cell_type": "code",
      "metadata": {
        "colab": {
          "base_uri": "https://localhost:8080/"
        },
        "id": "aLf3mEYO3Tl1",
        "outputId": "6b1659bb-dd97-4fee-f9e6-a75ed9c4d377"
      },
      "source": [
        "input_ids[0]"
      ],
      "execution_count": 36,
      "outputs": [
        {
          "output_type": "execute_result",
          "data": {
            "text/plain": [
              "tensor([[   35,    26,   215,   435,    52,  1365,    21,  3353,     9,  4716,\n",
              "          2537,    31,    58,   162,   192,    40,    24,  1288,   275,  2263,\n",
              "            22,   182,    24,    17,    26, 16071,   778,    26,    29,  3469,\n",
              "           107,   151,    24, 18041,  3401,    17, 16847,   939,     9,  1577,\n",
              "           477,   805,    57,   195,   406,  1825,    22,   107,    21,    63,\n",
              "          8008,  4623,    38,    58,  5754,     9,    17,  2369,    17,  2369,\n",
              "            17, 29720,    63,   220,    26,    46,     9,  7174,    63,    26,\n",
              "            88, 23064,   151,    37,    24,   321, 17785, 19167,    61,    51,\n",
              "           106,  3404,  3728,   705,    21,   113, 30977,    23,    27,  2640,\n",
              "           641,    20, 13943, 30436,     9,    17,  2369,    17,  2369,    35,\n",
              "           937,    22,   287,   197,   124,    20,   166,  6454,    25,   124,\n",
              "          1432,   545,   292,     9,  1988, 11247, 27288,    56,  9185,   675,\n",
              "           110,    24, 16180,    21,    18,  4948,    30,   102, 10488,  1062,\n",
              "            29,    36,   738,    24,   434,    20,  5632, 16055,    21,   555,\n",
              "         15450,  4140, 30182, 11247,     9,   394,    25,    71,    65,    20,\n",
              "            18,  2598,  3640,  6941, 17045,    23,    35,    26,   189,   545,\n",
              "           566,     9,     9,     9,   443,    35,    26,   189,   566,    24,\n",
              "           434,     9,     4,     3,     0,     0,     0,     0,     0,     0,\n",
              "             0,     0,     0,     0,     0,     0,     0,     0,     0,     0,\n",
              "             0,     0,     0,     0,     0,     0,     0,     0,     0,     0,\n",
              "             0,     0,     0,     0,     0,     0,     0,     0,     0,     0,\n",
              "             0,     0,     0,     0,     0,     0,     0,     0,     0,     0,\n",
              "             0,     0,     0,     0,     0,     0,     0,     0,     0,     0,\n",
              "             0,     0,     0,     0,     0,     0,     0,     0,     0,     0,\n",
              "             0,     0,     0,     0,     0,     0,     0,     0,     0,     0,\n",
              "             0,     0,     0,     0,     0,     0,     0,     0,     0,     0,\n",
              "             0,     0,     0,     0,     0,     0,     0,     0,     0,     0,\n",
              "             0,     0,     0,     0,     0,     0,     0,     0,     0,     0,\n",
              "             0,     0,     0,     0,     0,     0,     0,     0,     0,     0,\n",
              "             0,     0,     0,     0,     0,     0,     0,     0,     0,     0,\n",
              "             0,     0,     0,     0,     0,     0,     0,     0,     0,     0,\n",
              "             0,     0,     0,     0,     0,     0,     0,     0,     0,     0,\n",
              "             0,     0,     0,     0,     0,     0,     0,     0,     0,     0,\n",
              "             0,     0,     0,     0,     0,     0,     0,     0,     0,     0,\n",
              "             0,     0,     0,     0,     0,     0,     0,     0,     0,     0,\n",
              "             0,     0,     0,     0,     0,     0,     0,     0,     0,     0,\n",
              "             0,     0,     0,     0,     0,     0,     0,     0,     0,     0,\n",
              "             0,     0,     0,     0,     0,     0,     0,     0,     0,     0,\n",
              "             0,     0,     0,     0,     0,     0,     0,     0,     0,     0,\n",
              "             0,     0,     0,     0,     0,     0,     0,     0,     0,     0,\n",
              "             0,     0,     0,     0,     0,     0,     0,     0,     0,     0,\n",
              "             0,     0,     0,     0,     0,     0,     0,     0,     0,     0,\n",
              "             0,     0,     0,     0,     0,     0,     0,     0,     0,     0,\n",
              "             0,     0,     0,     0,     0,     0,     0,     0,     0,     0,\n",
              "             0,     0,     0,     0,     0,     0,     0,     0,     0,     0,\n",
              "             0,     0,     0,     0,     0,     0,     0,     0,     0,     0,\n",
              "             0,     0,     0,     0,     0,     0,     0,     0,     0,     0,\n",
              "             0,     0,     0,     0,     0,     0,     0,     0,     0,     0,\n",
              "             0,     0,     0,     0,     0,     0,     0,     0,     0,     0,\n",
              "             0,     0,     0,     0,     0,     0,     0,     0,     0,     0,\n",
              "             0,     0,     0,     0,     0,     0,     0,     0,     0,     0,\n",
              "             0,     0]], device='cuda:0')"
            ]
          },
          "metadata": {
            "tags": []
          },
          "execution_count": 36
        }
      ]
    },
    {
      "cell_type": "code",
      "metadata": {
        "colab": {
          "base_uri": "https://localhost:8080/"
        },
        "id": "yUsny94w3ZjC",
        "outputId": "e5517768-5b14-4feb-f489-5d3e9e52446b"
      },
      "source": [
        "outputs = model(input_ids.reshape(4,512), token_type_ids=None, attention_mask=attention_mask, labels=targets)\n",
        "outputs"
      ],
      "execution_count": 37,
      "outputs": [
        {
          "output_type": "execute_result",
          "data": {
            "text/plain": [
              "XLNetForSequenceClassificationOutput([('loss',\n",
              "                                       tensor(0.6338, device='cuda:0', grad_fn=<NllLossBackward>)),\n",
              "                                      ('logits', tensor([[ 0.1064, -0.0933],\n",
              "                                               [ 0.1832, -0.1732],\n",
              "                                               [ 0.1189, -0.1197],\n",
              "                                               [ 0.2578, -0.2559]], device='cuda:0', grad_fn=<AddmmBackward>)),\n",
              "                                      ('mems',\n",
              "                                       (tensor([[[ 0.0257,  0.0011, -0.0448,  ..., -0.0297,  0.0106, -0.0088],\n",
              "                                                 [-0.0415,  0.0177,  0.0402,  ...,  0.0531, -0.0284, -0.0153],\n",
              "                                                 [ 0.0257,  0.0011, -0.0448,  ..., -0.0297,  0.0106, -0.0088],\n",
              "                                                 [-0.0846, -0.0144, -0.0604,  ...,  0.1511, -0.0151,  0.0457]],\n",
              "                                        \n",
              "                                                [[-0.0564, -0.0022, -0.0290,  ...,  0.0329,  0.0430, -0.0191],\n",
              "                                                 [-0.0306,  0.0898,  0.0013,  ...,  0.0369,  0.0740,  0.0559],\n",
              "                                                 [ 0.0251, -0.0208,  0.0378,  ...,  0.0044,  0.0551, -0.0330],\n",
              "                                                 [ 0.0189,  0.0707,  0.0113,  ...,  0.0709,  0.0096,  0.1102]],\n",
              "                                        \n",
              "                                                [[ 0.0168, -0.0097, -0.0105,  ...,  0.0206,  0.0429,  0.0055],\n",
              "                                                 [-0.0092,  0.0315,  0.0652,  ...,  0.0869,  0.0206,  0.0274],\n",
              "                                                 [-0.0050,  0.1086,  0.0374,  ...,  0.0556,  0.0943, -0.0156],\n",
              "                                                 [-0.0181,  0.0023, -0.0315,  ..., -0.0262, -0.0153, -0.0046]],\n",
              "                                        \n",
              "                                                ...,\n",
              "                                        \n",
              "                                                [[-0.0049,  0.0655, -0.0151,  ..., -0.0458, -0.0061,  0.0346],\n",
              "                                                 [-0.0049,  0.0655, -0.0151,  ..., -0.0458, -0.0061,  0.0346],\n",
              "                                                 [-0.0049,  0.0655, -0.0151,  ..., -0.0458, -0.0061,  0.0346],\n",
              "                                                 [-0.0049,  0.0655, -0.0151,  ..., -0.0458, -0.0061,  0.0346]],\n",
              "                                        \n",
              "                                                [[-0.0049,  0.0655, -0.0151,  ..., -0.0458, -0.0061,  0.0346],\n",
              "                                                 [-0.0049,  0.0655, -0.0151,  ..., -0.0458, -0.0061,  0.0346],\n",
              "                                                 [-0.0049,  0.0655, -0.0151,  ..., -0.0458, -0.0061,  0.0346],\n",
              "                                                 [-0.0049,  0.0655, -0.0151,  ..., -0.0458, -0.0061,  0.0346]],\n",
              "                                        \n",
              "                                                [[-0.0049,  0.0655, -0.0151,  ..., -0.0458, -0.0061,  0.0346],\n",
              "                                                 [-0.0049,  0.0655, -0.0151,  ..., -0.0458, -0.0061,  0.0346],\n",
              "                                                 [-0.0049,  0.0655, -0.0151,  ..., -0.0458, -0.0061,  0.0346],\n",
              "                                                 [-0.0049,  0.0655, -0.0151,  ..., -0.0458, -0.0061,  0.0346]]],\n",
              "                                               device='cuda:0'),\n",
              "                                        tensor([[[ 0.1204, -0.6337, -1.4878,  ...,  0.2707, -0.7892,  0.9346],\n",
              "                                                 [-1.4038,  0.1816,  0.1318,  ...,  0.4811, -0.8471, -0.2106],\n",
              "                                                 [ 0.6376, -0.3975, -0.8696,  ..., -0.2407, -0.0988,  0.5510],\n",
              "                                                 [-1.6983,  0.3566, -1.3953,  ...,  2.3199, -0.2786,  0.2846]],\n",
              "                                        \n",
              "                                                [[-1.5261, -0.3997, -0.1920,  ...,  0.7039, -0.0779,  1.1339],\n",
              "                                                 [-0.5083,  1.7931,  0.2510,  ...,  0.5419,  2.5219,  1.0991],\n",
              "                                                 [ 0.6059, -0.4001,  0.9868,  ..., -0.0102,  0.5072, -0.0269],\n",
              "                                                 [ 0.1555,  1.8244, -0.1000,  ...,  0.4392,  0.2283,  2.4824]],\n",
              "                                        \n",
              "                                                [[-0.3956, -0.2635, -0.1067,  ...,  0.1678, -0.6261,  0.5085],\n",
              "                                                 [ 0.4147,  1.3075,  0.7734,  ...,  0.8544, -0.1766,  1.2229],\n",
              "                                                 [ 0.3081,  1.7889,  1.4789,  ...,  0.6303,  2.1271, -0.2235],\n",
              "                                                 [ 0.0112, -0.4708, -1.1226,  ..., -0.4429, -0.0677,  0.4348]],\n",
              "                                        \n",
              "                                                ...,\n",
              "                                        \n",
              "                                                [[ 0.0819,  1.9453,  0.0265,  ..., -0.5581, -0.7307,  0.7609],\n",
              "                                                 [ 0.2261,  1.9676, -0.1173,  ..., -0.6615, -0.7704,  0.7689],\n",
              "                                                 [ 0.2105,  1.9433,  0.0422,  ..., -0.4128, -0.5458,  0.7994],\n",
              "                                                 [ 0.0278,  2.0178,  0.0472,  ..., -0.5998, -1.1943,  0.7573]],\n",
              "                                        \n",
              "                                                [[ 0.0999,  1.9609,  0.0683,  ..., -0.4933, -0.7227,  0.7220],\n",
              "                                                 [ 0.1970,  1.9292, -0.1016,  ..., -0.7533, -0.8320,  0.8144],\n",
              "                                                 [ 0.2446,  1.9082, -0.0069,  ..., -0.3933, -0.4640,  0.7880],\n",
              "                                                 [ 0.0411,  1.9514,  0.0211,  ..., -0.7018, -1.2402,  0.7795]],\n",
              "                                        \n",
              "                                                [[ 0.1209,  1.9341,  0.0622,  ..., -0.5810, -0.7759,  0.7467],\n",
              "                                                 [ 0.1666,  1.9360, -0.1053,  ..., -0.7765, -0.8495,  0.8292],\n",
              "                                                 [ 0.2324,  1.8519,  0.0123,  ..., -0.4328, -0.5084,  0.7958],\n",
              "                                                 [ 0.0534,  1.9457,  0.0153,  ..., -0.7287, -1.2533,  0.7750]]],\n",
              "                                               device='cuda:0'),\n",
              "                                        tensor([[[-0.0141, -0.6029, -1.9364,  ...,  0.8611, -1.0802,  1.3455],\n",
              "                                                 [-1.0213, -0.1464, -0.4712,  ...,  0.8937, -0.9725, -0.1314],\n",
              "                                                 [ 0.5506, -0.2967, -0.7335,  ...,  0.2505,  0.0753,  0.0465],\n",
              "                                                 [-0.9772,  0.5017, -0.9936,  ...,  2.1486, -0.4028, -0.1621]],\n",
              "                                        \n",
              "                                                [[-1.5473, -0.5080, -0.9400,  ...,  0.9164, -0.2790,  1.1082],\n",
              "                                                 [-0.5517,  1.5841,  0.1610,  ...,  0.7878,  1.5147,  0.3797],\n",
              "                                                 [ 0.6006, -0.2343,  0.9187,  ..., -0.3258,  0.1517, -0.0845],\n",
              "                                                 [ 0.2499,  1.9335,  0.2306,  ...,  0.2172,  0.8647,  0.6460]],\n",
              "                                        \n",
              "                                                [[-0.4344, -0.1842, -0.6562,  ...,  0.6682, -0.6632,  0.8363],\n",
              "                                                 [ 0.0084,  0.4843,  1.4084,  ...,  0.7949, -0.6511,  1.5582],\n",
              "                                                 [ 0.4353,  1.3889,  0.9550,  ...,  0.6358,  1.9122,  0.1694],\n",
              "                                                 [-0.3480, -0.7536, -0.8148,  ...,  0.0263,  0.7898,  0.1695]],\n",
              "                                        \n",
              "                                                ...,\n",
              "                                        \n",
              "                                                [[-0.3266,  1.9194,  0.2189,  ...,  0.0997, -0.6220,  0.6268],\n",
              "                                                 [-0.2254,  1.6751,  0.3032,  ...,  0.0232, -0.8215,  0.7156],\n",
              "                                                 [-0.1201,  1.7398,  0.3220,  ..., -0.0805, -0.3233,  0.7420],\n",
              "                                                 [-0.4298,  1.8455,  0.5127,  ...,  0.3498, -1.0682,  0.3425]],\n",
              "                                        \n",
              "                                                [[-0.3746,  1.8179,  0.1948,  ...,  0.1415, -0.6959,  0.5826],\n",
              "                                                 [-0.2319,  1.6559,  0.2954,  ..., -0.0648, -0.8099,  0.8252],\n",
              "                                                 [-0.1060,  1.7542,  0.3486,  ..., -0.1051, -0.2368,  0.6827],\n",
              "                                                 [-0.4636,  1.8382,  0.5354,  ...,  0.2824, -1.0934,  0.4435]],\n",
              "                                        \n",
              "                                                [[-0.4087,  1.7754,  0.2480,  ...,  0.0442, -0.7768,  0.6529],\n",
              "                                                 [-0.2369,  1.6475,  0.3151,  ..., -0.0733, -0.8129,  0.8630],\n",
              "                                                 [-0.1363,  1.7256,  0.3504,  ..., -0.1306, -0.2772,  0.6979],\n",
              "                                                 [-0.4736,  1.8579,  0.5134,  ...,  0.2456, -1.0613,  0.4738]]],\n",
              "                                               device='cuda:0'),\n",
              "                                        tensor([[[ 0.0150, -0.1182, -1.7752,  ...,  1.1762, -1.3224, -0.0641],\n",
              "                                                 [-0.9774, -0.7879, -0.9872,  ...,  1.7010, -0.9221, -1.3174],\n",
              "                                                 [ 0.1204, -0.2347, -1.0991,  ...,  0.4509, -0.0928, -0.5352],\n",
              "                                                 [-1.7412,  0.6249, -0.8614,  ...,  2.8592, -0.1267, -1.5434]],\n",
              "                                        \n",
              "                                                [[-0.9910, -0.6245, -1.4407,  ...,  0.9861, -0.2488,  0.5032],\n",
              "                                                 [-0.5242,  2.0183,  0.4265,  ...,  1.0008,  1.6217,  0.8289],\n",
              "                                                 [ 0.0301, -0.1693,  0.6327,  ..., -0.0040,  0.1856, -0.0691],\n",
              "                                                 [-0.9880,  2.3518, -0.0147,  ...,  1.7211,  0.7224, -1.6761]],\n",
              "                                        \n",
              "                                                [[-0.3703,  0.0840, -0.7415,  ...,  1.2723, -0.6313,  0.5180],\n",
              "                                                 [-0.3661,  0.5286,  1.4848,  ...,  1.5341, -0.5079,  1.1359],\n",
              "                                                 [ 0.0364,  1.0656,  0.4521,  ...,  1.0327,  2.2564, -0.3155],\n",
              "                                                 [-1.3371, -0.9711, -0.3442,  ...,  0.5280,  0.7428, -1.6351]],\n",
              "                                        \n",
              "                                                ...,\n",
              "                                        \n",
              "                                                [[-0.5161,  2.8082,  0.1787,  ...,  0.8232, -0.7654,  1.0551],\n",
              "                                                 [-0.3395,  2.4565,  0.4568,  ...,  0.8714, -1.0463,  0.7585],\n",
              "                                                 [-0.2391,  2.8354,  0.2497,  ...,  0.7677, -0.5157,  1.4015],\n",
              "                                                 [-0.5341,  2.7848,  0.5037,  ...,  1.3017, -1.4380, -0.1603]],\n",
              "                                        \n",
              "                                                [[-0.4964,  2.7875,  0.0983,  ...,  0.9791, -0.8448,  0.9899],\n",
              "                                                 [-0.3513,  2.4687,  0.4414,  ...,  0.7470, -0.9758,  1.0011],\n",
              "                                                 [-0.2621,  2.8308,  0.2682,  ...,  0.6577, -0.3788,  1.4339],\n",
              "                                                 [-0.5823,  2.7552,  0.5554,  ...,  1.1722, -1.4567,  0.0884]],\n",
              "                                        \n",
              "                                                [[-0.4916,  2.7649,  0.1500,  ...,  0.9155, -0.9356,  1.0857],\n",
              "                                                 [-0.3714,  2.4385,  0.4529,  ...,  0.7665, -0.9519,  1.0828],\n",
              "                                                 [-0.2981,  2.7865,  0.2967,  ...,  0.6395, -0.3986,  1.4935],\n",
              "                                                 [-0.5928,  2.7687,  0.5414,  ...,  1.1217, -1.4005,  0.1916]]],\n",
              "                                               device='cuda:0'),\n",
              "                                        tensor([[[ 0.1610, -0.2400, -1.6912,  ...,  1.5236, -1.5446,  0.8500],\n",
              "                                                 [-0.8274, -0.7225, -1.2874,  ...,  1.7170, -0.4700, -0.3783],\n",
              "                                                 [ 0.1933, -0.4320, -0.7969,  ...,  0.7664, -0.5416, -0.2150],\n",
              "                                                 [-0.9422, -0.1584, -1.2182,  ...,  2.2140,  0.4234, -0.6860]],\n",
              "                                        \n",
              "                                                [[-1.1949, -0.5424, -1.3052,  ...,  1.2538, -1.1453,  0.7538],\n",
              "                                                 [-0.4880,  1.2986,  0.4315,  ...,  1.3848,  1.7451,  1.0479],\n",
              "                                                 [-0.5120, -0.7535,  0.6921,  ...,  0.3087, -0.5386, -0.5268],\n",
              "                                                 [-0.1909,  1.4836, -0.2925,  ...,  2.3993,  1.0854, -1.1500]],\n",
              "                                        \n",
              "                                                [[-0.3571,  0.0244, -0.8506,  ...,  1.3331, -1.2652,  0.5378],\n",
              "                                                 [-0.2641, -0.0338,  0.6702,  ...,  1.9914, -0.3366,  1.4831],\n",
              "                                                 [-0.4731,  0.3156,  0.3351,  ...,  1.2686,  1.5726, -0.4727],\n",
              "                                                 [-0.8566, -0.6489, -0.3159,  ...,  1.2308,  1.0214, -1.0220]],\n",
              "                                        \n",
              "                                                ...,\n",
              "                                        \n",
              "                                                [[-0.1252,  2.2208,  0.0139,  ...,  1.3930, -0.0974,  1.5411],\n",
              "                                                 [-0.1691,  2.1487,  0.0635,  ...,  1.5956, -0.5786,  1.4812],\n",
              "                                                 [ 0.2106,  2.1883,  0.3494,  ...,  1.1961,  0.1351,  1.7806],\n",
              "                                                 [-0.3716,  2.4826,  0.1955,  ...,  1.9806, -1.3050,  0.6892]],\n",
              "                                        \n",
              "                                                [[-0.0543,  2.1910,  0.0209,  ...,  1.3978, -0.0507,  1.6209],\n",
              "                                                 [-0.0285,  2.1683,  0.0349,  ...,  1.5252, -0.3623,  1.5932],\n",
              "                                                 [ 0.2335,  2.1591,  0.4043,  ...,  1.1012,  0.2986,  1.8356],\n",
              "                                                 [-0.3520,  2.4762,  0.2687,  ...,  1.8633, -1.2800,  0.7516]],\n",
              "                                        \n",
              "                                                [[-0.0060,  2.1660,  0.0421,  ...,  1.3851, -0.1785,  1.6190],\n",
              "                                                 [ 0.0069,  2.1192,  0.0146,  ...,  1.5857, -0.3206,  1.5945],\n",
              "                                                 [ 0.2056,  2.1221,  0.4171,  ...,  1.0984,  0.2911,  1.8676],\n",
              "                                                 [-0.3596,  2.4717,  0.2525,  ...,  1.8416, -1.2128,  0.7798]]],\n",
              "                                               device='cuda:0'),\n",
              "                                        tensor([[[ 0.4633, -0.1672, -1.0594,  ...,  0.7387, -0.7885,  0.6815],\n",
              "                                                 [-0.6645, -0.4908, -1.0176,  ...,  1.1462, -0.3416, -0.5830],\n",
              "                                                 [ 0.5065, -0.0869, -0.6251,  ...,  0.2640, -0.3078, -0.3682],\n",
              "                                                 [-0.4995, -0.3152, -0.6507,  ...,  2.1049, -0.0112, -0.2585]],\n",
              "                                        \n",
              "                                                [[-0.3386, -0.3843, -1.0622,  ...,  0.6171, -0.2611,  0.1434],\n",
              "                                                 [-0.5603,  0.9648,  0.0751,  ...,  0.8216,  0.9050,  0.4714],\n",
              "                                                 [-0.2779, -0.5422,  0.4338,  ...,  0.2433, -0.3747, -0.6908],\n",
              "                                                 [-0.2285,  0.8864,  0.0635,  ...,  1.9937,  0.2898, -0.6646]],\n",
              "                                        \n",
              "                                                [[-0.0458,  0.0228, -0.8550,  ...,  0.7123, -0.4844,  0.1654],\n",
              "                                                 [-0.5167,  0.1908,  0.1137,  ...,  1.1896, -0.0767,  0.8536],\n",
              "                                                 [-0.3864,  0.3587, -0.2210,  ...,  0.7283,  0.7515, -0.4209],\n",
              "                                                 [-0.5366, -0.4728, -0.0832,  ...,  1.5423,  0.5366, -0.4687]],\n",
              "                                        \n",
              "                                                ...,\n",
              "                                        \n",
              "                                                [[-0.0801,  1.8811,  0.1483,  ...,  1.2679, -0.4015,  1.0977],\n",
              "                                                 [-0.0524,  1.5494,  0.2579,  ...,  1.2906, -0.5983,  0.8158],\n",
              "                                                 [ 0.2412,  1.9365,  0.4111,  ...,  1.0711, -0.1649,  1.0012],\n",
              "                                                 [ 0.3315,  1.7720,  0.2053,  ...,  1.2895, -0.9797,  1.0009]],\n",
              "                                        \n",
              "                                                [[ 0.0148,  1.8991,  0.1579,  ...,  1.3397, -0.3674,  1.0209],\n",
              "                                                 [ 0.0165,  1.6113,  0.1288,  ...,  1.3150, -0.4621,  0.9620],\n",
              "                                                 [ 0.2827,  1.9061,  0.4575,  ...,  1.0605, -0.1109,  1.0673],\n",
              "                                                 [ 0.3616,  1.7713,  0.2141,  ...,  1.2530, -0.9731,  1.1111]],\n",
              "                                        \n",
              "                                                [[ 0.0982,  1.8700,  0.1316,  ...,  1.2683, -0.4190,  1.0683],\n",
              "                                                 [ 0.0229,  1.5902,  0.0449,  ...,  1.4032, -0.4453,  1.0211],\n",
              "                                                 [ 0.2496,  1.8794,  0.4869,  ...,  1.0482, -0.1187,  1.0706],\n",
              "                                                 [ 0.3365,  1.7745,  0.1855,  ...,  1.3070, -0.9622,  1.1296]]],\n",
              "                                               device='cuda:0'),\n",
              "                                        tensor([[[ 3.6848e-01, -7.8261e-01, -1.6917e+00,  ...,  9.0399e-01,\n",
              "                                                  -9.3173e-01,  1.1175e+00],\n",
              "                                                 [-6.6114e-01, -7.2804e-01, -1.2434e+00,  ...,  1.6630e+00,\n",
              "                                                  -3.0873e-01, -2.9893e-01],\n",
              "                                                 [ 4.0156e-01, -3.1290e-01, -1.1969e+00,  ...,  2.7777e-01,\n",
              "                                                  -6.7102e-01, -5.9202e-01],\n",
              "                                                 [-4.7447e-01, -4.5183e-01, -9.0772e-01,  ...,  2.1734e+00,\n",
              "                                                  -4.8658e-01,  2.2705e-01]],\n",
              "                                        \n",
              "                                                [[-2.9965e-01, -8.8877e-01, -1.6747e+00,  ...,  6.2136e-01,\n",
              "                                                  -5.4979e-01,  5.5384e-01],\n",
              "                                                 [-6.6316e-01,  1.2205e+00, -3.7192e-01,  ...,  8.9994e-01,\n",
              "                                                   7.3792e-01,  7.9133e-01],\n",
              "                                                 [-1.0018e-01, -6.1276e-01, -2.6184e-01,  ..., -1.4406e-03,\n",
              "                                                  -8.8704e-01, -1.2274e+00],\n",
              "                                                 [-7.1536e-02,  9.8205e-01, -4.3184e-01,  ...,  2.0838e+00,\n",
              "                                                  -1.9146e-01, -4.8069e-01]],\n",
              "                                        \n",
              "                                                [[-2.2072e-01, -3.1922e-01, -1.3476e+00,  ...,  7.6861e-01,\n",
              "                                                  -8.2594e-01,  5.4597e-01],\n",
              "                                                 [-7.6867e-01,  2.0987e-01, -1.9201e-01,  ...,  1.7947e+00,\n",
              "                                                  -4.2843e-01,  1.1282e+00],\n",
              "                                                 [-4.0065e-01,  2.1140e-01, -9.2224e-01,  ...,  8.1774e-01,\n",
              "                                                   6.8057e-02, -5.8147e-01],\n",
              "                                                 [-2.9701e-01, -9.4825e-01, -4.7981e-01,  ...,  1.8568e+00,\n",
              "                                                   7.4195e-01, -3.1569e-01]],\n",
              "                                        \n",
              "                                                ...,\n",
              "                                        \n",
              "                                                [[ 2.4722e-01,  2.3269e+00,  2.2969e-01,  ...,  1.5854e+00,\n",
              "                                                  -1.0622e-01,  5.0759e-01],\n",
              "                                                 [ 1.3100e-01,  1.7839e+00,  3.4815e-01,  ...,  1.4532e+00,\n",
              "                                                  -2.3259e-02,  3.6351e-01],\n",
              "                                                 [ 3.9722e-01,  2.4468e+00,  5.4650e-01,  ...,  1.4717e+00,\n",
              "                                                   1.5531e-01,  4.1504e-01],\n",
              "                                                 [ 6.6218e-01,  1.9471e+00,  2.6684e-01,  ...,  1.6836e+00,\n",
              "                                                  -3.1041e-01,  6.0261e-01]],\n",
              "                                        \n",
              "                                                [[ 3.8997e-01,  2.4550e+00,  2.5935e-01,  ...,  1.5842e+00,\n",
              "                                                   4.5499e-03,  3.2620e-01],\n",
              "                                                 [ 1.4089e-01,  1.8679e+00,  3.0246e-01,  ...,  1.5846e+00,\n",
              "                                                   7.7037e-02,  5.0410e-01],\n",
              "                                                 [ 4.0446e-01,  2.4166e+00,  6.1464e-01,  ...,  1.4557e+00,\n",
              "                                                   1.5619e-01,  4.7941e-01],\n",
              "                                                 [ 7.1300e-01,  1.9322e+00,  3.7437e-01,  ...,  1.7240e+00,\n",
              "                                                  -3.4382e-01,  7.5074e-01]],\n",
              "                                        \n",
              "                                                [[ 4.7071e-01,  2.3677e+00,  2.2103e-01,  ...,  1.5617e+00,\n",
              "                                                  -7.1778e-02,  3.8573e-01],\n",
              "                                                 [ 1.4658e-01,  1.9037e+00,  2.4922e-01,  ...,  1.7411e+00,\n",
              "                                                   9.5555e-02,  4.7674e-01],\n",
              "                                                 [ 3.7040e-01,  2.3933e+00,  6.5068e-01,  ...,  1.4557e+00,\n",
              "                                                   1.5270e-01,  4.6237e-01],\n",
              "                                                 [ 6.7172e-01,  1.9086e+00,  3.9036e-01,  ...,  1.8129e+00,\n",
              "                                                  -3.6892e-01,  7.8546e-01]]], device='cuda:0'),\n",
              "                                        tensor([[[ 0.1835, -0.7766, -1.5183,  ...,  0.7090, -0.6612,  0.6217],\n",
              "                                                 [-1.0551, -1.2914, -0.9304,  ...,  1.3856, -0.4121,  0.1953],\n",
              "                                                 [ 0.6081, -0.8602, -0.8043,  ..., -0.1365, -0.5214,  0.3711],\n",
              "                                                 [-0.6619, -0.8738, -0.7904,  ...,  1.6141, -0.3722,  0.5179]],\n",
              "                                        \n",
              "                                                [[ 0.1946, -0.7518, -1.1652,  ...,  0.4351, -0.5544,  0.0788],\n",
              "                                                 [-0.7979,  0.7437, -0.0708,  ...,  0.7477,  0.3608,  0.7494],\n",
              "                                                 [ 0.1303, -0.9749,  0.3357,  ..., -0.5105, -0.3477, -0.7068],\n",
              "                                                 [-0.3033,  0.4465, -0.4601,  ...,  1.5177,  0.0382,  0.0144]],\n",
              "                                        \n",
              "                                                [[ 0.3904, -0.4443, -0.6438,  ...,  0.5129, -0.9212,  0.0482],\n",
              "                                                 [-0.6925,  0.0200, -0.1447,  ...,  1.5418, -0.1226,  1.1189],\n",
              "                                                 [-0.4468, -0.3103, -0.5870,  ...,  0.4209,  0.1842, -0.5071],\n",
              "                                                 [-0.4564, -1.3555, -0.4165,  ...,  1.5175,  1.0016,  0.0243]],\n",
              "                                        \n",
              "                                                ...,\n",
              "                                        \n",
              "                                                [[ 0.3072,  2.3585,  0.2794,  ...,  1.3862, -0.0593,  0.2474],\n",
              "                                                 [ 0.1059,  1.7285,  0.3037,  ...,  1.4198,  0.1324,  0.1141],\n",
              "                                                 [ 0.3194,  2.3507,  0.3715,  ...,  1.5477,  0.0850,  0.2217],\n",
              "                                                 [ 0.5822,  1.9299,  0.1624,  ...,  1.4685, -0.0797,  0.3389]],\n",
              "                                        \n",
              "                                                [[ 0.3453,  2.5199,  0.2761,  ...,  1.5046, -0.0181,  0.1635],\n",
              "                                                 [ 0.0951,  1.7343,  0.3351,  ...,  1.5551,  0.2526,  0.2005],\n",
              "                                                 [ 0.3510,  2.3181,  0.4462,  ...,  1.5295,  0.1064,  0.2503],\n",
              "                                                 [ 0.6093,  1.8735,  0.2529,  ...,  1.4817, -0.0290,  0.3837]],\n",
              "                                        \n",
              "                                                [[ 0.4180,  2.4098,  0.2443,  ...,  1.4512, -0.0910,  0.2036],\n",
              "                                                 [ 0.0916,  1.7324,  0.3001,  ...,  1.6666,  0.3113,  0.1126],\n",
              "                                                 [ 0.3351,  2.2940,  0.5036,  ...,  1.5371,  0.1187,  0.2244],\n",
              "                                                 [ 0.5196,  1.8309,  0.2715,  ...,  1.6085,  0.0121,  0.3925]]],\n",
              "                                               device='cuda:0'),\n",
              "                                        tensor([[[ 0.3066, -0.6151, -0.7493,  ...,  0.6243, -0.7871,  0.6089],\n",
              "                                                 [-0.6472, -0.7829, -0.9010,  ...,  1.5255, -1.0629, -0.5858],\n",
              "                                                 [ 0.6810, -0.9297, -1.3416,  ..., -0.4258, -0.7469,  0.5457],\n",
              "                                                 [-0.3465, -1.2595, -0.3099,  ...,  1.5913, -0.8874,  0.2123]],\n",
              "                                        \n",
              "                                                [[ 0.2404, -0.1437, -0.6574,  ...,  0.7121, -0.4158, -0.2601],\n",
              "                                                 [-0.0936,  1.1622,  0.0266,  ...,  0.5109, -0.3988,  0.8122],\n",
              "                                                 [-0.0316, -0.8261, -0.4099,  ..., -0.5774, -0.5610, -0.0036],\n",
              "                                                 [ 0.1064,  0.0333,  0.0227,  ...,  1.4274, -0.6002,  0.0739]],\n",
              "                                        \n",
              "                                                [[ 0.6923, -0.0072, -0.3196,  ...,  0.8748, -0.6401, -0.1331],\n",
              "                                                 [-0.4163,  0.5766,  0.0583,  ...,  1.5304, -0.6474,  0.9261],\n",
              "                                                 [-0.3913, -0.0631, -1.1292,  ...,  0.5269, -0.3304,  0.0174],\n",
              "                                                 [-0.4165, -1.4668, -0.1513,  ...,  1.4160,  0.3175,  0.1341]],\n",
              "                                        \n",
              "                                                ...,\n",
              "                                        \n",
              "                                                [[ 0.4170,  2.0212,  0.9855,  ...,  0.6117, -0.7042, -0.4739],\n",
              "                                                 [ 0.4453,  1.5087,  0.6711,  ...,  0.6604, -0.5761, -0.2549],\n",
              "                                                 [ 0.4803,  2.2019,  1.1070,  ...,  1.0687, -0.7310, -0.4260],\n",
              "                                                 [ 0.4469,  1.3545,  0.2777,  ...,  0.6033, -0.5218,  0.4834]],\n",
              "                                        \n",
              "                                                [[ 0.4658,  2.1916,  1.0214,  ...,  0.7541, -0.7472, -0.6358],\n",
              "                                                 [ 0.4595,  1.5052,  0.7497,  ...,  0.7580, -0.4265, -0.2290],\n",
              "                                                 [ 0.5252,  2.2092,  1.1820,  ...,  1.0795, -0.7260, -0.4406],\n",
              "                                                 [ 0.3859,  1.3293,  0.3305,  ...,  0.7283, -0.3965,  0.6147]],\n",
              "                                        \n",
              "                                                [[ 0.5626,  2.0541,  0.9986,  ...,  0.6749, -0.7903, -0.5407],\n",
              "                                                 [ 0.4805,  1.4984,  0.7342,  ...,  0.8156, -0.3775, -0.2756],\n",
              "                                                 [ 0.5237,  2.2000,  1.2245,  ...,  1.0947, -0.7080, -0.4731],\n",
              "                                                 [ 0.3005,  1.3170,  0.3342,  ...,  0.8547, -0.3594,  0.6618]]],\n",
              "                                               device='cuda:0'),\n",
              "                                        tensor([[[-0.0478, -0.2250, -0.8185,  ...,  0.2221, -0.6003,  0.4394],\n",
              "                                                 [-0.6892, -0.5330, -0.7409,  ...,  1.1415, -1.2045, -0.4975],\n",
              "                                                 [ 0.3266, -0.7754, -0.9981,  ..., -0.5329, -0.6182,  0.3434],\n",
              "                                                 [-0.4752, -0.9304,  0.0147,  ...,  1.3006, -0.6750, -0.2424]],\n",
              "                                        \n",
              "                                                [[-0.0170,  0.1446, -0.7123,  ...,  0.1232, -0.4233, -0.2046],\n",
              "                                                 [-0.0864,  1.0462,  0.1041,  ...,  0.2081, -0.5806,  0.5477],\n",
              "                                                 [-0.0415, -0.5587,  0.1457,  ..., -0.5622, -0.4230, -0.2929],\n",
              "                                                 [-0.3221,  0.0513,  0.1038,  ...,  1.1079, -0.2456, -0.2193]],\n",
              "                                        \n",
              "                                                [[ 0.3129,  0.2843, -0.3867,  ...,  0.3465, -0.7015, -0.0292],\n",
              "                                                 [-0.4391,  0.4472,  0.0993,  ...,  1.0998, -0.4967,  0.4328],\n",
              "                                                 [-0.8965,  0.0394, -0.5779,  ...,  0.1347, -0.4537, -0.0058],\n",
              "                                                 [-0.5856, -1.2367,  0.0855,  ...,  1.0258,  0.4106, -0.0974]],\n",
              "                                        \n",
              "                                                ...,\n",
              "                                        \n",
              "                                                [[ 0.1134,  1.4964,  0.8815,  ..., -0.1202, -0.5348, -0.5684],\n",
              "                                                 [ 0.3808,  0.9929,  0.8188,  ..., -0.0365, -0.4974, -0.4002],\n",
              "                                                 [ 0.0325,  1.6126,  0.9773,  ...,  0.4274, -0.4503, -0.6586],\n",
              "                                                 [ 0.4495,  1.3411,  0.3940,  ...,  0.1004, -0.4798,  0.1697]],\n",
              "                                        \n",
              "                                                [[ 0.0798,  1.6704,  0.8899,  ..., -0.0576, -0.6231, -0.6634],\n",
              "                                                 [ 0.4007,  1.0287,  0.8466,  ...,  0.0033, -0.4023, -0.3982],\n",
              "                                                 [ 0.0751,  1.6341,  1.0377,  ...,  0.4295, -0.4532, -0.7093],\n",
              "                                                 [ 0.4330,  1.3651,  0.4550,  ...,  0.2695, -0.4279,  0.3213]],\n",
              "                                        \n",
              "                                                [[ 0.1987,  1.5580,  0.8927,  ..., -0.0743, -0.6652, -0.5968],\n",
              "                                                 [ 0.4110,  1.0512,  0.7983,  ...,  0.0478, -0.3620, -0.4364],\n",
              "                                                 [ 0.0755,  1.6398,  1.0694,  ...,  0.4339, -0.4381, -0.7476],\n",
              "                                                 [ 0.3887,  1.3628,  0.5022,  ...,  0.3993, -0.3938,  0.3665]]],\n",
              "                                               device='cuda:0'),\n",
              "                                        tensor([[[ 0.0760,  0.3497, -1.1903,  ..., -0.0999, -0.0304,  0.2582],\n",
              "                                                 [-1.4566, -0.5114, -0.7515,  ...,  1.5155, -1.3114, -0.3169],\n",
              "                                                 [ 0.6829, -1.1933, -1.1152,  ..., -0.6683, -0.5476,  0.3405],\n",
              "                                                 [-0.1069, -0.8842,  0.0836,  ...,  1.2808, -0.8615, -0.0040]],\n",
              "                                        \n",
              "                                                [[-0.3334,  0.3241, -0.7929,  ...,  0.1796,  0.4627, -0.1391],\n",
              "                                                 [-0.7097,  1.0812,  0.0523,  ...,  0.1909, -0.4678,  0.9043],\n",
              "                                                 [ 0.5815, -1.1437,  0.2248,  ..., -0.5576, -0.4528, -0.3952],\n",
              "                                                 [-0.3233,  0.0527, -0.4104,  ...,  0.9494, -0.0598, -0.0519]],\n",
              "                                        \n",
              "                                                [[-0.1096,  0.4545, -0.8438,  ...,  0.3704, -0.2089, -0.1735],\n",
              "                                                 [-0.7368,  0.5898,  0.1245,  ...,  1.3445, -0.5748,  0.5059],\n",
              "                                                 [-0.9575, -0.1903, -0.3051,  ..., -0.1504, -0.6463, -0.1520],\n",
              "                                                 [-0.3220, -1.0981, -0.2126,  ...,  0.7134,  0.6433, -0.0492]],\n",
              "                                        \n",
              "                                                ...,\n",
              "                                        \n",
              "                                                [[-0.4456,  1.4783,  1.0280,  ..., -0.0832, -0.4237, -0.3482],\n",
              "                                                 [-0.0547,  0.9651,  1.1690,  ...,  0.0649, -0.1425, -0.1348],\n",
              "                                                 [-0.5644,  1.6117,  0.9415,  ...,  0.4006, -0.0324, -0.7995],\n",
              "                                                 [ 0.0521,  1.8352,  0.6784,  ...,  0.1469, -0.2683,  0.4918]],\n",
              "                                        \n",
              "                                                [[-0.6036,  1.7275,  1.0210,  ..., -0.1155, -0.4249, -0.4748],\n",
              "                                                 [-0.0220,  1.0009,  1.1732,  ...,  0.0706, -0.0453, -0.1467],\n",
              "                                                 [-0.5164,  1.6388,  0.9643,  ...,  0.3798, -0.0526, -0.8990],\n",
              "                                                 [ 0.1733,  1.8925,  0.7140,  ...,  0.3769, -0.2672,  0.6827]],\n",
              "                                        \n",
              "                                                [[-0.4522,  1.6096,  1.0955,  ..., -0.1316, -0.4816, -0.3811],\n",
              "                                                 [ 0.0204,  1.0153,  1.1169,  ...,  0.0982, -0.0019, -0.1636],\n",
              "                                                 [-0.5141,  1.6492,  0.9759,  ...,  0.3761, -0.0387, -0.9631],\n",
              "                                                 [ 0.1811,  1.8818,  0.7527,  ...,  0.5575, -0.2375,  0.7465]]],\n",
              "                                               device='cuda:0'),\n",
              "                                        tensor([[[-0.2754, -0.0188, -0.3063,  ...,  0.3651,  0.2257,  0.1859],\n",
              "                                                 [-1.1203, -0.4315, -0.3011,  ...,  1.4782, -0.8850, -0.0889],\n",
              "                                                 [ 0.1291, -0.7327, -0.2094,  ..., -0.3349, -0.3416,  0.3831],\n",
              "                                                 [-0.4326, -0.8535, -0.4793,  ...,  1.1470, -0.7985,  0.4253]],\n",
              "                                        \n",
              "                                                [[-0.7136, -0.0034, -0.3609,  ...,  0.2340,  0.5124,  0.2691],\n",
              "                                                 [-0.7677,  1.1528, -0.1664,  ...,  0.3225, -0.4544,  1.2087],\n",
              "                                                 [ 0.0997, -0.7714,  0.2592,  ..., -0.3209, -0.3961, -0.0388],\n",
              "                                                 [-0.8645,  0.0926, -0.7821,  ...,  0.7837,  0.0101,  0.6669]],\n",
              "                                        \n",
              "                                                [[-0.6104,  0.1080, -0.3499,  ...,  0.4239, -0.1655,  0.5007],\n",
              "                                                 [-0.6552,  0.5404, -0.0642,  ...,  0.8656, -0.3566,  0.3148],\n",
              "                                                 [-0.6119, -0.0647, -0.1792,  ...,  0.0182, -0.4769,  0.4646],\n",
              "                                                 [-0.8481, -1.2812, -0.5066,  ...,  0.6989,  0.2710,  0.2617]],\n",
              "                                        \n",
              "                                                ...,\n",
              "                                        \n",
              "                                                [[-0.1649,  0.8061,  0.6658,  ..., -0.2721, -0.2808, -0.2715],\n",
              "                                                 [ 0.2542,  0.5724,  0.6590,  ..., -0.0542, -0.1213, -0.0305],\n",
              "                                                 [-0.2354,  0.8573,  0.5872,  ..., -0.0821, -0.0070, -0.5155],\n",
              "                                                 [ 0.1927,  1.0593,  0.3853,  ..., -0.2264, -0.2340,  0.2663]],\n",
              "                                        \n",
              "                                                [[-0.3070,  0.9447,  0.6571,  ..., -0.2905, -0.3034, -0.3461],\n",
              "                                                 [ 0.2398,  0.6344,  0.6750,  ..., -0.0846, -0.0517, -0.0514],\n",
              "                                                 [-0.2176,  0.8718,  0.6177,  ..., -0.0893, -0.0187, -0.5903],\n",
              "                                                 [ 0.2104,  1.1072,  0.4223,  ..., -0.0760, -0.2516,  0.3694]],\n",
              "                                        \n",
              "                                                [[-0.2054,  0.8734,  0.7151,  ..., -0.2856, -0.3149, -0.3014],\n",
              "                                                 [ 0.2346,  0.6678,  0.6608,  ..., -0.1078, -0.0122, -0.0673],\n",
              "                                                 [-0.2207,  0.8818,  0.6204,  ..., -0.0937, -0.0140, -0.6362],\n",
              "                                                 [ 0.1944,  1.1048,  0.4604,  ...,  0.0393, -0.2262,  0.4196]]],\n",
              "                                               device='cuda:0')))])"
            ]
          },
          "metadata": {
            "tags": []
          },
          "execution_count": 37
        }
      ]
    },
    {
      "cell_type": "markdown",
      "metadata": {
        "id": "n6V7ahQr3bA_"
      },
      "source": [
        "training step defining"
      ]
    },
    {
      "cell_type": "code",
      "metadata": {
        "id": "6nF3E0tA3jPk"
      },
      "source": [
        "from sklearn import metrics\n",
        "def train_epoch(model, data_loader, optimizer, device, scheduler, n_examples):\n",
        "    model = model.train()\n",
        "    losses = []\n",
        "    acc = 0\n",
        "    counter = 0\n",
        "  \n",
        "    for d in data_loader:\n",
        "        input_ids = d[\"input_ids\"].reshape(4,512).to(device)\n",
        "        attention_mask = d[\"attention_mask\"].to(device)\n",
        "        targets = d[\"targets\"].to(device)\n",
        "        \n",
        "        outputs = model(input_ids=input_ids, token_type_ids=None, attention_mask=attention_mask, labels = targets)\n",
        "        loss = outputs[0]\n",
        "        logits = outputs[1]\n",
        "\n",
        "        # preds = preds.cpu().detach().numpy()\n",
        "        _, prediction = torch.max(outputs[1], dim=1)\n",
        "        targets = targets.cpu().detach().numpy()\n",
        "        prediction = prediction.cpu().detach().numpy()\n",
        "        accuracy = metrics.accuracy_score(targets, prediction)\n",
        "\n",
        "        acc += accuracy\n",
        "        losses.append(loss.item())\n",
        "        \n",
        "        loss.backward()\n",
        "\n",
        "        nn.utils.clip_grad_norm_(model.parameters(), max_norm=1.0)\n",
        "        optimizer.step()\n",
        "        scheduler.step()\n",
        "        optimizer.zero_grad()\n",
        "        counter = counter + 1\n",
        "\n",
        "    return acc / counter, np.mean(losses)"
      ],
      "execution_count": 38,
      "outputs": []
    },
    {
      "cell_type": "markdown",
      "metadata": {
        "id": "ktjOaywj3m9v"
      },
      "source": [
        "성능 평가 정의"
      ]
    },
    {
      "cell_type": "code",
      "metadata": {
        "id": "osSwPXAu3leV"
      },
      "source": [
        "def eval_model(model, data_loader, device, n_examples):\n",
        "    model = model.eval()\n",
        "    losses = []\n",
        "    acc = 0\n",
        "    counter = 0\n",
        "  \n",
        "    with torch.no_grad():\n",
        "        for d in data_loader:\n",
        "            input_ids = d[\"input_ids\"].reshape(4,512).to(device)\n",
        "            attention_mask = d[\"attention_mask\"].to(device)\n",
        "            targets = d[\"targets\"].to(device)\n",
        "            \n",
        "            outputs = model(input_ids=input_ids, token_type_ids=None, attention_mask=attention_mask, labels = targets)\n",
        "            loss = outputs[0]\n",
        "            logits = outputs[1]\n",
        "\n",
        "            _, prediction = torch.max(outputs[1], dim=1)\n",
        "            targets = targets.cpu().detach().numpy()\n",
        "            prediction = prediction.cpu().detach().numpy()\n",
        "            accuracy = metrics.accuracy_score(targets, prediction)\n",
        "\n",
        "            acc += accuracy\n",
        "            losses.append(loss.item())\n",
        "            counter += 1\n",
        "\n",
        "    return acc / counter, np.mean(losses)"
      ],
      "execution_count": 39,
      "outputs": []
    },
    {
      "cell_type": "markdown",
      "metadata": {
        "id": "sjXZ9bDw3rcm"
      },
      "source": [
        "fine-tuning, pre-training **(여기서 학습)**"
      ]
    },
    {
      "cell_type": "code",
      "metadata": {
        "colab": {
          "base_uri": "https://localhost:8080/"
        },
        "id": "I-uYy0lC3tnZ",
        "outputId": "a0f0abc2-dee8-4ecc-d789-52fd8fb80f9e"
      },
      "source": [
        "%%time\n",
        "history = defaultdict(list)\n",
        "best_accuracy = 0\n",
        "\n",
        "for epoch in range(EPOCHS):\n",
        "    print(f'Epoch {epoch + 1}/{EPOCHS}')\n",
        "    print('-' * 10)\n",
        "\n",
        "    train_acc, train_loss = train_epoch(\n",
        "        model,\n",
        "        train_data_loader,     \n",
        "        optimizer, \n",
        "        device, \n",
        "        scheduler, \n",
        "        len(df_train)\n",
        "    )\n",
        "\n",
        "    print(f'Train loss {train_loss} Train accuracy {train_acc}')\n",
        "\n",
        "    val_acc, val_loss = eval_model(\n",
        "        model,\n",
        "        val_data_loader, \n",
        "        device, \n",
        "        len(df_val)\n",
        "    )\n",
        "\n",
        "    print(f'Val loss {val_loss} Val accuracy {val_acc}')\n",
        "    print()\n",
        "\n",
        "    history['train_acc'].append(train_acc)\n",
        "    history['train_loss'].append(train_loss)\n",
        "    history['val_acc'].append(val_acc)\n",
        "    history['val_loss'].append(val_loss)\n",
        "\n",
        "    if val_acc > best_accuracy:\n",
        "        torch.save(model.state_dict(), '/content/drive/My Drive/xlnet_model.bin')\n",
        "        best_accuracy = val_acc"
      ],
      "execution_count": null,
      "outputs": [
        {
          "output_type": "stream",
          "text": [
            "Epoch 1/3\n",
            "----------\n"
          ],
          "name": "stdout"
        },
        {
          "output_type": "stream",
          "text": [
            "/usr/local/lib/python3.7/dist-packages/torch/utils/data/dataloader.py:481: UserWarning: This DataLoader will create 4 worker processes in total. Our suggested max number of worker in current system is 2, which is smaller than what this DataLoader is going to create. Please be aware that excessive worker creation might get DataLoader running slow or even freeze, lower the worker number to avoid potential slowness/freeze if necessary.\n",
            "  cpuset_checked))\n"
          ],
          "name": "stderr"
        },
        {
          "output_type": "stream",
          "text": [
            "Train loss 0.18327201171259366 Train accuracy 0.9626666666666667\n",
            "Val loss 0.3420501954347128 Val accuracy 0.9348333333333333\n",
            "\n",
            "Epoch 2/3\n",
            "----------\n"
          ],
          "name": "stdout"
        }
      ]
    },
    {
      "cell_type": "markdown",
      "metadata": {
        "id": "uvA848X739zU"
      },
      "source": [
        "성능 평가"
      ]
    },
    {
      "cell_type": "code",
      "metadata": {
        "id": "6nbK1y8Q3-4k"
      },
      "source": [
        "model.load_state_dict(torch.load('/content/drive/My Drive/NLP/Sentiment Analysis Series/models/xlnet_model.bin'))"
      ],
      "execution_count": null,
      "outputs": []
    },
    {
      "cell_type": "code",
      "metadata": {
        "id": "LWj0oFzg4AaE"
      },
      "source": [
        "model = model.to(device)"
      ],
      "execution_count": null,
      "outputs": []
    },
    {
      "cell_type": "code",
      "metadata": {
        "id": "jEtlH8QK4B50"
      },
      "source": [
        "test_acc, test_loss = eval_model(\n",
        "  model,\n",
        "  test_data_loader,\n",
        "  device,\n",
        "  len(df_test)\n",
        ")\n",
        "\n",
        "print('Test Accuracy :', test_acc)\n",
        "print('Test Loss :', test_loss)"
      ],
      "execution_count": null,
      "outputs": []
    },
    {
      "cell_type": "code",
      "metadata": {
        "id": "MdNngZrY4DIf"
      },
      "source": [
        "def get_predictions(model, data_loader):\n",
        "    model = model.eval()\n",
        "    \n",
        "    review_texts = []\n",
        "    predictions = []\n",
        "    prediction_probs = []\n",
        "    real_values = []\n",
        "\n",
        "    with torch.no_grad():\n",
        "        for d in data_loader:\n",
        "\n",
        "            texts = d[\"review_text\"]\n",
        "            input_ids = d[\"input_ids\"].reshape(4,512).to(device)\n",
        "            attention_mask = d[\"attention_mask\"].to(device)\n",
        "            targets = d[\"targets\"].to(device)\n",
        "            \n",
        "            outputs = model(input_ids=input_ids, token_type_ids=None, attention_mask=attention_mask, labels = targets)\n",
        "\n",
        "            loss = outputs[0]\n",
        "            logits = outputs[1]\n",
        "            \n",
        "            _, preds = torch.max(outputs[1], dim=1)\n",
        "\n",
        "            probs = F.softmax(outputs[1], dim=1)\n",
        "\n",
        "            review_texts.extend(texts)\n",
        "            predictions.extend(preds)\n",
        "            prediction_probs.extend(probs)\n",
        "            real_values.extend(targets)\n",
        "\n",
        "    predictions = torch.stack(predictions).cpu()\n",
        "    prediction_probs = torch.stack(prediction_probs).cpu()\n",
        "    real_values = torch.stack(real_values).cpu()\n",
        "    return review_texts, predictions, prediction_probs, real_values"
      ],
      "execution_count": null,
      "outputs": []
    },
    {
      "cell_type": "code",
      "metadata": {
        "id": "ra8mq_iI4FFi"
      },
      "source": [
        "y_review_texts, y_pred, y_pred_probs, y_test = get_predictions(\n",
        "  model,\n",
        "  test_data_loader\n",
        ")"
      ],
      "execution_count": null,
      "outputs": []
    },
    {
      "cell_type": "code",
      "metadata": {
        "id": "PKIhltal4GOc"
      },
      "source": [
        "print(classification_report(y_test, y_pred, target_names=class_names))"
      ],
      "execution_count": null,
      "outputs": []
    },
    {
      "cell_type": "markdown",
      "metadata": {
        "id": "34DDNpWE4KJp"
      },
      "source": [
        "새로운 문장 입력 시 감성 예측"
      ]
    },
    {
      "cell_type": "code",
      "metadata": {
        "id": "52tebPn54NM7"
      },
      "source": [
        "def predict_sentiment(text):\n",
        "    review_text = text\n",
        "\n",
        "    encoded_review = tokenizer.encode_plus(\n",
        "    review_text,\n",
        "    max_length=MAX_LEN,\n",
        "    add_special_tokens=True,\n",
        "    return_token_type_ids=False,\n",
        "    pad_to_max_length=False,\n",
        "    return_attention_mask=True,\n",
        "    return_tensors='pt',\n",
        "    )\n",
        "\n",
        "    input_ids = pad_sequences(encoded_review['input_ids'], maxlen=MAX_LEN, dtype=torch.Tensor ,truncating=\"post\",padding=\"post\")\n",
        "    input_ids = input_ids.astype(dtype = 'int64')\n",
        "    input_ids = torch.tensor(input_ids) \n",
        "\n",
        "    attention_mask = pad_sequences(encoded_review['attention_mask'], maxlen=MAX_LEN, dtype=torch.Tensor ,truncating=\"post\",padding=\"post\")\n",
        "    attention_mask = attention_mask.astype(dtype = 'int64')\n",
        "    attention_mask = torch.tensor(attention_mask) \n",
        "\n",
        "    input_ids = input_ids.reshape(1,512).to(device)\n",
        "    attention_mask = attention_mask.to(device)\n",
        "\n",
        "    outputs = model(input_ids=input_ids, attention_mask=attention_mask)\n",
        "\n",
        "    outputs = outputs[0][0].cpu().detach()\n",
        "\n",
        "    probs = F.softmax(outputs, dim=-1).cpu().detach().numpy().tolist()\n",
        "    _, prediction = torch.max(outputs, dim =-1)\n",
        "\n",
        "    print(\"Positive score:\", probs[1])\n",
        "    print(\"Negative score:\", probs[0])\n",
        "    print(f'Review text: {review_text}')\n",
        "    print(f'Sentiment  : {class_names[prediction]}')"
      ],
      "execution_count": null,
      "outputs": []
    },
    {
      "cell_type": "code",
      "metadata": {
        "id": "sH9nkQdU4OIT"
      },
      "source": [
        "text = \"Movie is the worst one I have ever seen!! The story has no meaning at all\"\n",
        "predict_sentiment(text)"
      ],
      "execution_count": null,
      "outputs": []
    },
    {
      "cell_type": "code",
      "metadata": {
        "id": "UkRMDH564QTw"
      },
      "source": [
        "# 내가 추가, 사용자가 문장 입력하면?\n"
      ],
      "execution_count": null,
      "outputs": []
    }
  ]
}