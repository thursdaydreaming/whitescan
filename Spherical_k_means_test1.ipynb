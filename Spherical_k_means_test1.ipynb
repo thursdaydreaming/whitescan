{
  "nbformat": 4,
  "nbformat_minor": 0,
  "metadata": {
    "colab": {
      "name": "Spherical k-means test1",
      "provenance": [],
      "include_colab_link": true
    },
    "kernelspec": {
      "name": "python3",
      "display_name": "Python 3"
    },
    "language_info": {
      "name": "python"
    }
  },
  "cells": [
    {
      "cell_type": "markdown",
      "metadata": {
        "id": "view-in-github",
        "colab_type": "text"
      },
      "source": [
        "<a href=\"https://colab.research.google.com/github/thursdaydreaming/whitescan/blob/main/Spherical_k_means_test1.ipynb\" target=\"_parent\"><img src=\"https://colab.research.google.com/assets/colab-badge.svg\" alt=\"Open In Colab\"/></a>"
      ]
    },
    {
      "cell_type": "code",
      "metadata": {
        "colab": {
          "base_uri": "https://localhost:8080/"
        },
        "id": "YCfPEexwrHiL",
        "outputId": "e053f970-b7df-4c36-abfe-5e3e8cf4c3db"
      },
      "source": [
        "!pip install pandas\n",
        "!pip install sklearn\n",
        "!pip install konlpy\n",
        "import pandas as pd"
      ],
      "execution_count": 20,
      "outputs": [
        {
          "output_type": "stream",
          "text": [
            "Requirement already satisfied: pandas in /usr/local/lib/python3.7/dist-packages (1.1.5)\n",
            "Requirement already satisfied: python-dateutil>=2.7.3 in /usr/local/lib/python3.7/dist-packages (from pandas) (2.8.1)\n",
            "Requirement already satisfied: numpy>=1.15.4 in /usr/local/lib/python3.7/dist-packages (from pandas) (1.19.5)\n",
            "Requirement already satisfied: pytz>=2017.2 in /usr/local/lib/python3.7/dist-packages (from pandas) (2018.9)\n",
            "Requirement already satisfied: six>=1.5 in /usr/local/lib/python3.7/dist-packages (from python-dateutil>=2.7.3->pandas) (1.15.0)\n",
            "Requirement already satisfied: sklearn in /usr/local/lib/python3.7/dist-packages (0.0)\n",
            "Requirement already satisfied: scikit-learn in /usr/local/lib/python3.7/dist-packages (from sklearn) (0.22.2.post1)\n",
            "Requirement already satisfied: numpy>=1.11.0 in /usr/local/lib/python3.7/dist-packages (from scikit-learn->sklearn) (1.19.5)\n",
            "Requirement already satisfied: scipy>=0.17.0 in /usr/local/lib/python3.7/dist-packages (from scikit-learn->sklearn) (1.4.1)\n",
            "Requirement already satisfied: joblib>=0.11 in /usr/local/lib/python3.7/dist-packages (from scikit-learn->sklearn) (1.0.1)\n",
            "Requirement already satisfied: konlpy in /usr/local/lib/python3.7/dist-packages (0.5.2)\n",
            "Requirement already satisfied: lxml>=4.1.0 in /usr/local/lib/python3.7/dist-packages (from konlpy) (4.2.6)\n",
            "Requirement already satisfied: numpy>=1.6 in /usr/local/lib/python3.7/dist-packages (from konlpy) (1.19.5)\n",
            "Requirement already satisfied: beautifulsoup4==4.6.0 in /usr/local/lib/python3.7/dist-packages (from konlpy) (4.6.0)\n",
            "Requirement already satisfied: JPype1>=0.7.0 in /usr/local/lib/python3.7/dist-packages (from konlpy) (1.3.0)\n",
            "Requirement already satisfied: colorama in /usr/local/lib/python3.7/dist-packages (from konlpy) (0.4.4)\n",
            "Requirement already satisfied: tweepy>=3.7.0 in /usr/local/lib/python3.7/dist-packages (from konlpy) (3.10.0)\n",
            "Requirement already satisfied: typing-extensions; python_version < \"3.8\" in /usr/local/lib/python3.7/dist-packages (from JPype1>=0.7.0->konlpy) (3.7.4.3)\n",
            "Requirement already satisfied: requests[socks]>=2.11.1 in /usr/local/lib/python3.7/dist-packages (from tweepy>=3.7.0->konlpy) (2.23.0)\n",
            "Requirement already satisfied: six>=1.10.0 in /usr/local/lib/python3.7/dist-packages (from tweepy>=3.7.0->konlpy) (1.15.0)\n",
            "Requirement already satisfied: requests-oauthlib>=0.7.0 in /usr/local/lib/python3.7/dist-packages (from tweepy>=3.7.0->konlpy) (1.3.0)\n",
            "Requirement already satisfied: certifi>=2017.4.17 in /usr/local/lib/python3.7/dist-packages (from requests[socks]>=2.11.1->tweepy>=3.7.0->konlpy) (2021.5.30)\n",
            "Requirement already satisfied: urllib3!=1.25.0,!=1.25.1,<1.26,>=1.21.1 in /usr/local/lib/python3.7/dist-packages (from requests[socks]>=2.11.1->tweepy>=3.7.0->konlpy) (1.24.3)\n",
            "Requirement already satisfied: chardet<4,>=3.0.2 in /usr/local/lib/python3.7/dist-packages (from requests[socks]>=2.11.1->tweepy>=3.7.0->konlpy) (3.0.4)\n",
            "Requirement already satisfied: idna<3,>=2.5 in /usr/local/lib/python3.7/dist-packages (from requests[socks]>=2.11.1->tweepy>=3.7.0->konlpy) (2.10)\n",
            "Requirement already satisfied: PySocks!=1.5.7,>=1.5.6; extra == \"socks\" in /usr/local/lib/python3.7/dist-packages (from requests[socks]>=2.11.1->tweepy>=3.7.0->konlpy) (1.7.1)\n",
            "Requirement already satisfied: oauthlib>=3.0.0 in /usr/local/lib/python3.7/dist-packages (from requests-oauthlib>=0.7.0->tweepy>=3.7.0->konlpy) (3.1.1)\n"
          ],
          "name": "stdout"
        }
      ]
    },
    {
      "cell_type": "code",
      "metadata": {
        "colab": {
          "base_uri": "https://localhost:8080/"
        },
        "id": "E1NSETr9S5uz",
        "outputId": "f26f61ff-fe23-4b1a-bd2e-0a5c79e8b210"
      },
      "source": [
        "from google.colab import drive\n",
        "drive.mount('/content/drive')"
      ],
      "execution_count": 21,
      "outputs": [
        {
          "output_type": "stream",
          "text": [
            "Drive already mounted at /content/drive; to attempt to forcibly remount, call drive.mount(\"/content/drive\", force_remount=True).\n"
          ],
          "name": "stdout"
        }
      ]
    },
    {
      "cell_type": "code",
      "metadata": {
        "id": "U3kpRbAht8ej"
      },
      "source": [
        "from bs4 import BeautifulSoup\n",
        "from sklearn.feature_extraction.text import TfidfVectorizer\n",
        "from sklearn.model_selection import train_test_split\n",
        "from sklearn.naive_bayes import BernoulliNB\n",
        "import pickle\n",
        "import re\n",
        "import konlpy\n",
        "import nltk\n",
        "import numpy as np"
      ],
      "execution_count": 22,
      "outputs": []
    },
    {
      "cell_type": "code",
      "metadata": {
        "id": "D34mf8GyrPUu"
      },
      "source": [
        "#데이터 불러오기\n",
        "\n",
        "clu = pd.read_csv(\"drive/MyDrive/Sheet1.csv\", sep=',')"
      ],
      "execution_count": 23,
      "outputs": []
    },
    {
      "cell_type": "code",
      "metadata": {
        "id": "FhwAnB3VrPZh"
      },
      "source": [
        "def clean_korean_documents(documents):\n",
        "    #텍스트 정제 (HTML 태그 제거)\n",
        "    # for i, document in enumerate(documents):\n",
        "    #     document = BeautifulSoup(document, 'html.parser').text \n",
        "    #     documents[i] = document\n",
        "\n",
        "    #텍스트 정제 (특수기호 제거)\n",
        "    for i, document in enumerate(documents):\n",
        "        document = re.sub(r'[^ ㄱ-ㅣ가-힣]', '', document) #특수기호 제거, 정규 표현식\n",
        "        documents[i] = document\n",
        "\n",
        "    #텍스트 정제 (형태소 분석)\n",
        "    for i, document in enumerate(documents):\n",
        "        okt = konlpy.tag.Okt()\n",
        "        clean_words = []\n",
        "        for word in okt.pos(document, stem=True): #어간 추출\n",
        "            if word[1] in ['Noun', 'Verb', 'Adjective']: #명사, 동사, 형용사\n",
        "                clean_words.append(word[0])\n",
        "        document = ' '.join(clean_words)\n",
        "        documents[i] = document\n",
        "\n",
        "    #텍스트 정제 (불용어 제거)\n",
        "    df = pd.read_csv('https://raw.githubusercontent.com/cranberryai/todak_todak_python/master/machine_learning_text/clean_korean_documents/korean_stopwords.txt', header=None)\n",
        "    df[0] = df[0].apply(lambda x: x.strip())\n",
        "    stopwords = df[0].to_numpy()\n",
        "    nltk.download('punkt')\n",
        "    for i, document in enumerate(documents):\n",
        "        clean_words = [] \n",
        "        for word in nltk.tokenize.word_tokenize(document): \n",
        "            if word not in stopwords: #불용어 제거\n",
        "                clean_words.append(word)\n",
        "        documents[i] = ' '.join(clean_words)  \n",
        "\n",
        "    return documents"
      ],
      "execution_count": 24,
      "outputs": []
    },
    {
      "cell_type": "code",
      "metadata": {
        "colab": {
          "base_uri": "https://localhost:8080/"
        },
        "id": "F6xYdijfrPb_",
        "outputId": "9be7fd75-d9ea-48db-9157-6390c721efd2"
      },
      "source": [
        "clu1 = clu['키워드']\n",
        "x_data = clean_korean_documents(clu1) #텍스트 정제\n",
        "print(x_data)\n",
        "\n",
        "#vectorizing\n",
        "transformer = TfidfVectorizer()\n",
        "transformer.fit(x_data)\n",
        "x_data_count = transformer.transform(x_data) #단어 카운트 가중치"
      ],
      "execution_count": 25,
      "outputs": [
        {
          "output_type": "stream",
          "text": [
            "[nltk_data] Downloading package punkt to /root/nltk_data...\n",
            "[nltk_data]   Package punkt is already up-to-date!\n",
            "0                 원피스\n",
            "1       써스데이 아일랜드 원피스\n",
            "2              여름 원피스\n",
            "3                블라우스\n",
            "4                남자 티\n",
            "            ...      \n",
            "2995             프라이머\n",
            "2996          아이 프라이머\n",
            "2997          아이 프라이머\n",
            "2998     맥 라이트 풀 프라이머\n",
            "2999             프라이머\n",
            "Name: 키워드, Length: 3000, dtype: object\n"
          ],
          "name": "stdout"
        }
      ]
    },
    {
      "cell_type": "code",
      "metadata": {
        "colab": {
          "base_uri": "https://localhost:8080/"
        },
        "id": "jus4VWAkrPeN",
        "outputId": "ac90301e-ea8b-4c08-ce48-9237de6a643a"
      },
      "source": [
        "# K-means로 3개 군집으로 문서 군집화시키기\n",
        "from sklearn.cluster import KMeans\n",
        "\n",
        "# 인자 조절은 이곳에서\n",
        "kmeans = KMeans(n_clusters=3, max_iter=10000, random_state=42)\n",
        "\n",
        "# 비지도 학습이니 feature로만 학습시키고 예측\n",
        "cluster_label = kmeans.fit_predict(x_data_count)\n",
        "\n",
        "# 군집화한 레이블값들을 document_df 에 추가하기\n",
        "clu['cluster_label'] = cluster_label\n",
        "print(clu.sort_values(by=['cluster_label']))\n",
        "\n",
        "# 변환 파일 내보내기\n",
        "# clu.to_csv('drive/MyDrive/new_label2.csv')"
      ],
      "execution_count": 26,
      "outputs": [
        {
          "output_type": "stream",
          "text": [
            "       카테고리          키워드  cluster_label\n",
            "0     의류/잡화          원피스              0\n",
            "1864     음식  통밀 김치 어묵 우동              0\n",
            "258   의류/잡화        레 원피스              0\n",
            "1865     음식     통밀 김치 우동              0\n",
            "1866     음식     통밀 알밥 우동              0\n",
            "...     ...          ...            ...\n",
            "1081     음식         미역냉국              2\n",
            "1082     음식          미역국              2\n",
            "1083     음식        무 된장국              2\n",
            "1085     음식       생 잇다 국              2\n",
            "2999    화장품         프라이머              2\n",
            "\n",
            "[3000 rows x 3 columns]\n"
          ],
          "name": "stdout"
        }
      ]
    },
    {
      "cell_type": "code",
      "metadata": {
        "id": "bn8pGFh9rPkc",
        "colab": {
          "base_uri": "https://localhost:8080/"
        },
        "outputId": "bb8d3b74-f02b-41a4-d764-8956a3593247"
      },
      "source": [
        "# Spherical k-means 방식 적용\n",
        "\n",
        "!pip install soyclustering"
      ],
      "execution_count": 27,
      "outputs": [
        {
          "output_type": "stream",
          "text": [
            "Requirement already satisfied: soyclustering in /usr/local/lib/python3.7/dist-packages (0.2.0)\n",
            "Requirement already satisfied: numpy>=1.1 in /usr/local/lib/python3.7/dist-packages (from soyclustering) (1.19.5)\n"
          ],
          "name": "stdout"
        }
      ]
    },
    {
      "cell_type": "code",
      "metadata": {
        "colab": {
          "base_uri": "https://localhost:8080/"
        },
        "id": "SVjqzgh-U75W",
        "outputId": "8fd37935-6954-488f-8a60-488ecaaf3626"
      },
      "source": [
        "from soyclustering import SphericalKMeans\n",
        "\n",
        "spherical_kmeans = SphericalKMeans(\n",
        "    n_clusters=3,\n",
        "    max_iter=10,\n",
        "    verbose=1,\n",
        "    init='similar_cut',\n",
        "    sparsity='minimum_df',\n",
        "    minimum_df_factor=0.05\n",
        ")\n",
        "\n",
        "labels = spherical_kmeans.fit_predict(x_data_count)\n",
        "\n",
        "# 군집화한 레이블값들을 document_df 에 추가하기\n",
        "clu['cluster_label_2'] = labels\n",
        "print(clu.sort_values(by=['cluster_label_2']))\n",
        "\n",
        "clu.to_csv('drive/MyDrive/new_label3.csv')"
      ],
      "execution_count": 33,
      "outputs": [
        {
          "output_type": "stream",
          "text": [
            "initialization_time=0.005026 sec, sparsity=0.000765\n",
            "n_iter=1, changed=43, inertia=2953.143, iter_time=0.015 sec, sparsity=0.208\n",
            "n_iter=2, changed=41, inertia=2742.639, iter_time=0.010 sec, sparsity=0.212\n",
            "n_iter=3, changed=109, inertia=2727.426, iter_time=0.010 sec, sparsity=0.215\n",
            "n_iter=4, changed=139, inertia=2698.272, iter_time=0.010 sec, sparsity=0.217\n",
            "n_iter=5, changed=81, inertia=2682.933, iter_time=0.010 sec, sparsity=0.218\n",
            "n_iter=6, changed=50, inertia=2679.600, iter_time=0.011 sec, sparsity=0.219\n",
            "n_iter=7, changed=53, inertia=2676.392, iter_time=0.011 sec, sparsity=0.221\n",
            "n_iter=8, changed=31, inertia=2672.695, iter_time=0.010 sec, sparsity=0.223\n",
            "n_iter=9, changed=34, inertia=2671.617, iter_time=0.010 sec, sparsity=0.224\n",
            "n_iter=10, changed=24, inertia=2669.871, iter_time=0.010 sec, sparsity=0.225\n",
            "       카테고리                 키워드  cluster_label  cluster_label_2\n",
            "0     의류/잡화                 원피스              0                0\n",
            "2136    화장품  아이 오페 슈퍼 바 이탈 멀다 젼              2                0\n",
            "2137    화장품              마몽드 로션              2                0\n",
            "2138    화장품          시슬리 에센스 로션              2                0\n",
            "2139    화장품         킵쿨수드 대나무 로션              2                0\n",
            "...     ...                 ...            ...              ...\n",
            "1653     음식                조개 탕              2                2\n",
            "1654     음식              전복 삼계탕              2                2\n",
            "1655     음식                장어 탕              2                2\n",
            "1660     음식              콩 비지 탕              2                2\n",
            "1499     음식              고등어 조림              2                2\n",
            "\n",
            "[3000 rows x 4 columns]\n"
          ],
          "name": "stdout"
        }
      ]
    },
    {
      "cell_type": "code",
      "metadata": {
        "id": "phll2XaErPnC",
        "colab": {
          "base_uri": "https://localhost:8080/"
        },
        "outputId": "c247a6db-17a8-4b77-a528-8077d1cd9174"
      },
      "source": [
        "from soyclustering import proportion_keywords\n",
        "\n",
        "centers = kmeans.cluster_centers_\n",
        "\n",
        "keywords = proportion_keywords(\n",
        "    centers,\n",
        "    labels=labels,\n",
        "    index2word=x_data)\n",
        "\n",
        "# 군집으로 키워드 추출\n",
        "print(keywords)"
      ],
      "execution_count": 37,
      "outputs": [
        {
          "output_type": "stream",
          "text": [
            "[[('감자 옹심이', 1.0), ('열무 비빔국수', 1.0), ('빈폴 레이디스', 1.0), ('남자 퍼', 1.0), ('산자', 1.0), ('카시오 시계', 1.0), ('여성 점프수트', 1.0), ('나이키 여성 운동화', 1.0), ('컨버 스타 이크', 1.0), ('여름 모자', 1.0), ('석쇠 돼지 불고기', 1.0), ('불고기', 1.0), ('산채 비빔밥', 1.0), ('삼선 비빔밥', 1.0), ('샐러드 김밥', 1.0), ('수정과', 1.0), ('컨', 1.0), ('체크 원피스', 1.0), ('여성 여름 블라우스', 1.0), ('레코 브', 1.0), ('멜빵 바지', 1.0), ('나이키 레깅스', 1.0), ('뉴발란스 샌들', 1.0), ('남성 운동화', 1.0), ('웨 샌들', 1.0), ('샤넬 지갑', 1.0), ('칼린 가방', 1.0), ('토끼 크다 록스', 1.0), ('셀린느 트리 오페', 1.0), ('해물 수제비', 1.0), ('오징어 볶음', 1.0), ('주꾸미 볶음', 1.0), ('도토리묵 무치다', 1.0), ('구기자 차', 1.0), ('초 간장', 1.0), ('왕 갈비탕', 1.0), ('여름 자켓', 1.0), ('전어 무치다', 1.0), ('땀복', 1.0), ('팩', 1.0), ('바바라 샌들', 1.0), ('우거지 해장국', 1.0), ('고구마 튀김', 1.0), ('메종 마르지 엘라 가방', 1.0), ('막 양산', 1.0), ('남자 슬랙스', 1.0), ('여성 여름 잠옷', 1.0), ('샤넬 샌들', 1.0), ('항아리 수제비', 1.0), ('파자마', 1.0), ('소고기 샤브샤브', 1.0), ('트렁크 팬티', 1.0), ('콩잎 장아찌', 1.0), ('솔트 워터 샌들', 1.0), ('김치 만두', 0.9995391515652737), ('강된장', 0.9962180723195845), ('베네통', 0.9917128925668207), ('생선 구이', 0.9882407469751234), ('블라우스', 0.9873300188601247), ('코다리 찜', 0.9806157263089271), ('폴로 랄프 로렌', 0.9795153797192397), ('컷 원피스', 0.9722373420947522), ('막창구이', 0.9719124795752921), ('절편', 0.9709039551084426), ('부대찌개', 0.9618127735174612), ('써스데이 아일랜드 스커트', 0.9570663473942007), ('여성 써다 캡', 0.9537717547667257), ('굴 보쌈', 0.953728176806163), ('세인트제임스', 0.9533552237726985), ('지오다노', 0.9519600806843594), ('여름 샌들', 0.9519600806843594), ('남자 벨트', 0.9511443707715858), ('오프 화이트 팔', 0.949172760404789), ('나이키 스포츠 브라', 0.9487561163001419), ('테바 샌들', 0.9487561163001419), ('발렌티노 신발', 0.9487561163001419), ('굴 무치다', 0.9487561163001419), ('훈제오리 보쌈', 0.9487561163001419), ('아디다스 울트라 부스트', 0.9482380846265381), ('돼지껍데기 볶음', 0.9470014574537735), ('티셔츠', 0.9434926443666274), ('몽클레어 티', 0.9421623888206017), ('티셔츠', 0.9421623888206017), ('도치 두루치기', 0.9421623888206017), ('명란젓', 0.9421623888206017), ('오클리 선글라스', 0.9418538980615265), ('진주 비빔밥', 0.9405377191277903), ('스트랩 샌들', 0.9404454314332782), ('남성 티', 0.938889716953912), ('에블린 속옷', 0.938889716953912), ('카드 지갑', 0.938889716953912), ('휠라 운동화', 0.938889716953912), ('몽블랑 벨트', 0.938889716953912), ('표고버섯 볶음', 0.938889716953912), ('낙지 찜', 0.938889716953912), ('마늘 종 장아찌', 0.9231122393962101), ('버버리 가방', 0.9225334040677261), ('판도라 반지', 0.9196401282826052), ('등심 구이', 0.9176051948383631), ('쥐치 채 볶음', 0.915338675228621), ('오이 미역 초무 침', 0.9150706117408501), ('꽁치 김치찌개', 0.9137458005208695), ('도트 원피스', 0.9116472945604686), ('나이키 사카이', 0.9100967653180206), ('닭칼국수', 0.9084820335602649), ('모자', 0.9021524079403938), ('미꾸라지 튀김', 0.8997586725289876), ('배추 전', 0.8997586725289876), ('재첩국', 0.8986429317416723), ('양념 장어구이', 0.8961819892006568), ('굴밥', 0.8961819892006568), ('감자 떡', 0.896154385894792), ('약과', 0.8959155101614312), ('포스', 0.8952601888782651), ('구찌 크로스', 0.8952601888782651), ('소 샌들', 0.8952601888782651), ('여름 가방', 0.8952601888782651), ('실내 슬리퍼', 0.8952601888782651), ('메밀 전병', 0.8952601888782651), ('우거지 갈비탕', 0.8950490142096996), ('프라다 호보', 0.8947470283984902), ('하이 웨스트 청바지', 0.893282822938033), ('러브 앤쇼', 0.893282822938033), ('호박 전', 0.893282822938033), ('녹두 시루떡', 0.8928561722529695), ('순대 국밥', 0.8928010818060801), ('생선회', 0.8919344878132353), ('머', 0.8829071665436123), ('숄더', 0.8826302155985005), ('무 말랭이 장아찌', 0.8787027278126618), ('나시 원피스', 0.8666692165386567), ('캉골 에코', 0.8659555050681667), ('시금치 나물', 0.8598312051275191), ('데코 원피스', 0.8584624272054492), ('루즈 앤 라운지', 0.8548543443877851), ('토 리버 치', 0.8535605823623308), ('총각김치', 0.8516422433736056), ('발렌티노 클러치', 0.8483391238524586), ('북어 조림', 0.8459753549073844), ('티파니 목걸이', 0.8433435339041029), ('메트로 시티 가방', 0.8428026002416206), ('도미 뱃살 데리야끼', 0.8426181930211546), ('참치 김밥', 0.8412671678170104), ('쟁반 국수', 0.8217006792415519), ('컨 버스 척 테일러', 0.8204346464439901), ('로브', 0.8108746266174406), ('오프 숄더 원피스', 0.8079685070751673), ('쿨 티셔츠', 0.8065940008356566), ('매실장아찌', 0.8059012615801469), ('나이키 운동화', 0.7995384170487552), ('세 이르다 원피스', 0.7850033976973407), ('나이키 코르 테', 0.7777969353417488), ('복국', 0.7570509937623473), ('써다 캡', 0.7530134694434967), ('한우 해초 샤브', 0.7460750032780225), ('소고기 김밥', 0.7444025833972497), ('동태 탕', 0.7274161439225767), ('여름 슬랙스', 0.7226722476468702), ('', 0.7199887487542862), ('주먹밥', 0.7170315314875663), ('플라스틱 아일랜드 블라우스', 0.7062720744999615), ('열무 냉면', 0.7036489337175531), ('나이키 데이브레이크 써밋 화이트', 0.6994925755012706), ('여름 샌들', 0.6985532870691767), ('구찌', 0.6495897585021766), ('레디', 0.6171052264221631), ('나이키 쪼리', 0.6122423477194635), ('야채 튀김', 0.5969313541490693), ('남성 슬리퍼', 0.5941250045475143), ('톰 브라운 클러치', 0.5881858839773044), ('소고기 전골', 0.5780488057920509), ('여성 여름 모자', 0.5703587529170343), ('감탄 브라', 0.528191132901154), ('모과차', 0.5262475579771131)], [('구찌 시계', 1.0), ('남자 부 트레이닝', 1.0), ('여성 린넨 원피스', 1.0), ('코스 원피스', 1.0), ('생로랑 가방', 1.0), ('케네 스레이 디 블라우스', 1.0), ('버버리 포이베', 1.0), ('셔츠', 1.0), ('나이키 에어 맥스', 1.0), ('부추 무치다', 1.0), ('나이키', 1.0), ('복 샤브샤브', 1.0), ('롤 삼계탕', 1.0), ('닭갈비', 1.0), ('나이키 에어 맥스', 1.0), ('미역국', 1.0), ('롱 스커트', 1.0), ('양념 갈비', 1.0), ('자라 원피스', 1.0), ('버뮤다 팬츠', 1.0), ('타미힐피거 카라 티', 1.0), ('여성 바람막이', 1.0), ('토 리버 치 원피스', 1.0), ('토 리버 치 샌들', 1.0), ('키플링 팩', 1.0), ('아식스 운동화', 1.0), ('젠틀 몬스터 선글라스', 1.0), ('부각', 1.0), ('파전', 1.0), ('뚝배기 불고기', 1.0), ('작', 1.0), ('톰 브라운 티', 1.0), ('점프 슈트', 1.0), ('모조 스핀 블라우스', 1.0), ('헤지 스반 티', 1.0), ('여성 벙거지 모자', 1.0), ('마크 제이콥 스 가방', 1.0), ('프라다 파우치', 1.0), ('떡갈비', 1.0), ('황태 해장국', 1.0), ('자라', 1.0), ('여성 반바지', 1.0), ('발렌시아 가방', 1.0), ('솔트 워터', 1.0), ('우산', 1.0), ('아디다스 아딜 렛 크다', 1.0), ('비비안 웨스트우드 지갑', 1.0), ('컨버스뮬', 1.0), ('오징어 불고기', 1.0), ('가래떡', 1.0), ('채소 죽', 1.0), ('광어 매운탕', 1.0), ('우럭 조림', 1.0), ('구찌 선글라스', 1.0), ('우엉 조림', 1.0), ('잡채', 1.0), ('베스 띠 베다 원피스', 1.0), ('리츠 팬츠', 1.0), ('갈치 젓', 1.0), ('나이키 바람막이', 1.0), ('뉴발란스 슬리퍼', 1.0), ('톰 브라운 셔츠', 1.0), ('양념치킨', 1.0), ('리복 운동화', 1.0), ('모 두다 냄비', 1.0), ('된장 샤브샤브', 1.0), ('여성 원피스', 1.0), ('퍼프 블라우스', 1.0), ('크다 록스 터 레인', 1.0), ('샤틴 원피스', 1.0), ('누룽지 닭백숙', 1.0), ('족발', 1.0), ('팩', 1.0), ('판도라 팔찌', 1.0), ('톰 브라운 카드 지갑', 1.0), ('발렌시아', 1.0), ('김치 김밥', 1.0), ('두릅 장아찌', 1.0), ('더덕 장아찌', 1.0), ('스톤아일랜드 반바지', 1.0), ('돌솥비빔밥', 1.0), ('상추 겉절이', 1.0), ('겉절이', 1.0), ('강정', 1.0), ('신선로', 1.0), ('실내', 1.0), ('도토리묵 사발', 1.0), ('푸마 운동화', 1.0), ('르샵', 1.0), ('고추장', 1.0), ('오다 규생 등심 금구', 1.0), ('와이드 청바지', 1.0), ('꼴뚜기 젓', 0.9999454402771486), ('해물 죽', 0.99835577752695), ('펀칭 원피스', 0.996368469678493), ('쥬크 원피스', 0.9959744950160294), ('보브', 0.9953417203681592), ('프라다 버킷', 0.9951932425987913), ('회덮밥', 0.994661174369537), ('파텍필립', 0.9945288770084362), ('점프 슈트', 0.9926087227734353), ('여성 가디건', 0.992530422392578), ('라이프 워 크다', 0.992083244640134), ('계란말이', 0.9918443636331912), ('나이키 바지', 0.991375181380231), ('오징어채 볶음', 0.990874332328355), ('생강차', 0.9905952911488768), ('호보', 0.9905562599167255), ('죽순 채', 0.9883940805915167), ('부추 전', 0.9878325729090227), ('사골 우거지 갈비탕', 0.9874361282225117), ('뉴발란스', 0.987425292500789), ('자켓', 0.9872896975553052), ('몽블랑 지갑', 0.9872051248684189), ('콩 비지 탕', 0.986492621019237), ('메종 키츠네 에코', 0.9863928408419987), ('굴비 구이', 0.9863928408419987), ('두부김치', 0.9859248490830392), ('아디다스 슈퍼스타', 0.9857757467047381), ('미역 줄기 볶음', 0.9857400763630311), ('갈비찜', 0.9857392528696481), ('여성 장화', 0.9853758255939314), ('생 이굴 칼국수', 0.9847398566451624), ('취나물', 0.9847398566451624), ('목걸이', 0.9847375958880319), ('누룽지', 0.9847375958880319), ('미쏘', 0.9846192548235537), ('꼬리 찜', 0.984544419030105), ('도미 구이', 0.9845260799371026), ('팔찌', 0.9845085504900657), ('청국장 찌개', 0.9844479619435658), ('고등어 구이', 0.9843679142796683), ('슬립', 0.9842998408762673), ('비프 커틀릿', 0.984280156864467), ('프라다 미니', 0.9838302215979383), ('입생로랑 카드 지갑', 0.9832188574786228), ('힙색', 0.983048189104133), ('황태 찜', 0.9825618594938899), ('커플 커틀렛', 0.9821596174412152), ('제육 덮다 밥', 0.9817527833047053), ('토트', 0.9817179777915053), ('얼 크다 수제비', 0.9815392691987191), ('코치 크로스', 0.9813499178216816), ('소고기 국밥', 0.9811973199149298), ('육개장', 0.9808786916428835), ('베네통 원피스', 0.980146751558352), ('두부 새우젓 국', 0.9793261150567129), ('샤카 웨어', 0.9790974349067197), ('방 오리 찜', 0.9789389068603574), ('간장', 0.9787416695472886), ('린넨 자켓', 0.978533559560195), ('조개 젓', 0.9778290193193458), ('플라워 원피스', 0.9774802405141232), ('미나 리전', 0.9773085344012948), ('파래 무치다', 0.9751627079059394), ('참나물', 0.9750417889955509), ('피어싱', 0.9738093544617381), ('홍합 미역국', 0.9736234704529726), ('기다 국수', 0.972691892956007), ('크다 록스 라이트 라이드 크다 로그', 0.9723499144152071), ('보브 원피스', 0.972255825851126), ('발렌티노 샌들', 0.971911430623701), ('우산', 0.9718554403371421), ('참게 매운탕', 0.9714834271375452), ('남성로 퍼', 0.9713459309186951), ('달걀 국', 0.9711286543142279), ('전복죽', 0.9710089138247615), ('리츠 원피스', 0.9699799386965277), ('치킨 데리야키', 0.9689910696477231), ('뉴에라 티', 0.9685546452792082), ('남자 슬링', 0.9676317596197718), ('복 맑은 탕', 0.9672449097611163), ('해물 칼국수', 0.967011759735657), ('뉴발란스 쪼리', 0.965552583683062), ('브라', 0.9652448821581208), ('우렁 된장 비빔밥', 0.9644869290577608), ('린넨 롱 원피스', 0.9644538939397239), ('프라다 크로스', 0.9642783084491668), ('젠 티셔츠', 0.9639683634722334), ('크다 록스 바 밴드', 0.9629144803200168), ('베네통 티셔츠', 0.9622941980397459), ('자청 반바지', 0.9612787993134025), ('헤지 스 여성 티셔츠', 0.9597313528060586), ('슬립 온', 0.9592146664022835), ('조기 찜', 0.9571251614867045), ('대구 맑은 탕', 0.9562812109382546), ('여름 청바지', 0.9548871460015476), ('나이키 줌 플라이', 0.954563589665587), ('크다 록스 비츠', 0.9544816035929671), ('삼계탕', 0.9544816035929671), ('소머리국밥', 0.952824707687177), ('묵밥', 0.952061983620744), ('돼지고기 두루치기', 0.95203923938413), ('우거지 사골 국밥', 0.9481070178942513), ('집게 핀', 0.9480319309134467), ('핏플랍 쪼리', 0.946537007856475), ('국', 0.9456921713846345), ('앤 블라우스', 0.945363390008622), ('스케 쳐스', 0.9436731457271482), ('회 냉면', 0.9431185012810294)], [('부추기다', 1.0), ('더틸 버리다 원피스', 1.0), ('타미힐피거 원피스', 1.0), ('어죽', 1.0), ('롱 원피스', 1.0), ('루이비통 크로스', 1.0), ('메종 마르지 엘라', 1.0), ('휴대폰 가방', 1.0), ('에르메스 가방', 1.0), ('안전', 1.0), ('노각 무치다', 1.0), ('닭백숙', 1.0), ('황태 구이', 1.0), ('채 만두', 1.0), ('페 라가 시계', 1.0), ('셀프 웨딩드레스', 1.0), ('컷', 1.0), ('나이키 슬리퍼', 1.0), ('디스커버리 슬리퍼', 1.0), ('닭꼬치 구이', 1.0), ('닭 마리', 1.0), ('순대볶음', 1.0), ('소고기 버섯 전골', 1.0), ('보웬', 1.0), ('잡채 덮다 밥', 1.0), ('지프 티', 1.0), ('비씨 비지 원피스', 1.0), ('참치 김치찌개', 1.0), ('나물 장아찌', 1.0), ('열무 비빔밥', 1.0), ('락포트 여성화', 1.0), ('남자 크로스', 1.0), ('버켄스 탁 에바', 1.0), ('이선', 1.0), ('깻잎 나물 볶음', 1.0), ('디올 카드 지갑', 1.0), ('토앤토', 1.0), ('버킷 햇', 1.0), ('오이 무치다', 1.0), ('토 리버 치 가방', 1.0), ('오징어 젓', 1.0), ('포 라이터', 1.0), ('보쌈김치', 1.0), ('삼치 구이', 1.0), ('반지', 1.0), ('위생 팬티', 1.0), ('여성 샌들', 1.0), ('블라우스', 1.0), ('일본 닭다리 채다', 1.0), ('콩나물 무치다', 1.0), ('메종 키츠네', 1.0), ('아바이순대', 1.0), ('닭 곰탕', 1.0), ('토란 국', 1.0), ('아귀찜', 1.0), ('써스데이 아일랜드 원피스', 1.0), ('남자 셔츠', 1.0), ('막장', 1.0), ('여성 로퍼', 1.0), ('슈 콤마 보다 샌들', 1.0), ('물만두', 1.0), ('청포묵 무치다', 1.0), ('골든 스', 1.0), ('곰칫국', 1.0), ('통굽 샌들', 1.0), ('찜닭', 1.0), ('고기국수', 1.0), ('보테가베네타 클러치', 1.0), ('컨 버스', 1.0), ('궁 떡볶이', 1.0), ('하바 아나스 쪼리', 1.0), ('민 어탕', 1.0), ('남자 슬립 온', 1.0), ('제시 뉴욕', 1.0), ('티렌', 1.0), ('비츠 세트', 1.0), ('여성 가방', 1.0), ('남자 여름 바지', 1.0), ('바스락 원피스', 1.0), ('블라우스 셔츠', 1.0), ('쌈장', 1.0), ('낙지 샤브샤브', 1.0), ('자동 우산', 1.0), ('나이키 운동화', 1.0), ('컨 버스 척 테일러', 1.0), ('남성 클러치', 1.0), ('남성 나이키 운동화', 1.0), ('게스 청바지', 1.0), ('와이드 팬츠', 1.0), ('캉골백팩', 1.0), ('꼼데가르송컨 버스', 1.0), ('아일랜드 슬리퍼', 1.0), ('셔츠 원피스', 1.0), ('스와로브스키 목걸이', 1.0), ('샤넬', 1.0), ('매실 차', 1.0), ('아디다스 반바지', 1.0), ('정', 1.0), ('여름 가디건', 1.0), ('케네 스레이 디 원피스', 1.0), ('화전', 1.0), ('남성 카라 티셔츠', 1.0), ('속옷', 1.0), ('폴로 카라 티', 1.0), ('자리 물회', 1.0), ('퍼프 원피스', 1.0), ('캉골 슬링', 1.0), ('물 오징어 불고기', 1.0), ('보다 스팍스', 1.0), ('닥터마틴 테리', 1.0), ('달래 무치다', 1.0), ('닥스 양산', 1.0), ('조이 스 원피스', 1.0), ('사골 우거지 해장국', 1.0), ('춧잎 나물', 1.0), ('귀걸이', 1.0), ('조개 구이', 1.0), ('솔트 워터 슬리퍼', 1.0), ('잡곡 밥', 1.0), ('브라 렛', 1.0), ('남자 서류가방', 1.0), ('버섯 전', 1.0), ('머 운동화', 1.0), ('고트 원피스', 1.0), ('국수 전골', 1.0), ('슬랙스', 1.0), ('차다 살떡', 1.0), ('냉장고바지', 1.0), ('가자미 조림', 1.0), ('남성 여름 정장', 1.0), ('쇼퍼', 1.0), ('화이트 원피스', 1.0), ('어구', 1.0), ('보테가베네타 가방', 1.0), ('병어 구이', 1.0), ('나이키 에어포스', 1.0), ('도다리 쑥국', 1.0), ('빈폴 가방', 1.0), ('해장국', 1.0), ('린넨 셔츠', 1.0), ('말고기 샤브샤브', 1.0), ('포 메다 카멜 레 샌들', 1.0), ('뉴발란스', 1.0), ('나이키 신발', 1.0), ('헬렌 카민 스키', 1.0), ('스커트', 1.0), ('녹차 우럭 샤브샤브', 1.0), ('속옷', 1.0), ('니트', 1.0), ('시루떡', 1.0), ('반스', 1.0), ('팔찌', 1.0), ('캉골 버킷 햇', 1.0), ('여성 여름 트레이닝 세트', 1.0), ('사각팬티', 1.0), ('호박죽', 1.0), ('트 위드 자켓', 1.0), ('초 국수', 1.0), ('빈대떡', 1.0), ('머위 나물 볶음', 1.0), ('여성 여름 조끼', 1.0), ('얼 큰칼 국수', 1.0), ('굴국밥', 1.0), ('프릴 블라우스', 1.0), ('발렌시아', 1.0), ('보테가베네타 카세트', 1.0), ('물회', 1.0), ('군 만두', 1.0), ('크다 록스 클래식 크다 로그', 1.0), ('보냉', 1.0), ('발찌', 1.0), ('로엠 블라우스', 1.0), ('뮬', 1.0), ('바싹 불고기', 1.0), ('양푼 김치찌개', 1.0), ('생 이굴 국', 1.0), ('냉이 된장국', 1.0), ('나이키 드라이 핏 팔', 1.0), ('고트', 1.0), ('미역냉국', 1.0), ('팔찌', 1.0), ('낙지 철판 볶음', 1.0), ('라코스테 원피스', 1.0), ('여성 운동화', 1.0), ('묵은지 고등어 조림', 1.0), ('아디다스 샌들', 1.0), ('녹차', 1.0), ('제육 볶음', 1.0), ('홀복', 1.0), ('여성 여름 자켓', 1.0), ('도리 뱅뱅', 1.0), ('갓김치', 1.0), ('맵다 닭발 볶음', 1.0), ('쉬즈 미스', 1.0), ('흑임자 죽', 1.0), ('루이비통 클러치', 1.0), ('안경 테', 1.0), ('캐리어', 1.0), ('치마 바지', 1.0), ('장 우산', 1.0)]]\n"
          ],
          "name": "stdout"
        }
      ]
    },
    {
      "cell_type": "code",
      "metadata": {
        "id": "cKh9uXlDrPpi",
        "colab": {
          "base_uri": "https://localhost:8080/",
          "height": 606
        },
        "outputId": "72c14f65-7712-459e-a40d-63e55b1c00bf"
      },
      "source": [
        "from soyclustering import visualize_pairwise_distance\n",
        "\n",
        "# visualize pairwise distance matrix\n",
        "fig = visualize_pairwise_distance(centers, max_dist=.7, sort=True)"
      ],
      "execution_count": 38,
      "outputs": [
        {
          "output_type": "display_data",
          "data": {
            "image/png": "[encoded data removed]",
            "text/plain": [
              "<Figure size 750x750 with 1 Axes>"
            ]
          },
          "metadata": {
            "tags": [],
            "needs_background": "light"
          }
        }
      ]
    },
    {
      "cell_type": "code",
      "metadata": {
        "id": "CKCIMbucrPsO",
        "colab": {
          "base_uri": "https://localhost:8080/",
          "height": 606
        },
        "outputId": "cf50ad6b-6a70-4d7a-866d-a385a56906ef"
      },
      "source": [
        "from soyclustering import merge_close_clusters\n",
        "\n",
        "group_centers, groups = merge_close_clusters(centers, labels, max_dist=.5)\n",
        "fig = visualize_pairwise_distance(group_centers, max_dist=.7, sort=True)"
      ],
      "execution_count": 39,
      "outputs": [
        {
          "output_type": "display_data",
          "data": {
            "image/png": "[encoded data removed]",
            "text/plain": [
              "<Figure size 750x750 with 1 Axes>"
            ]
          },
          "metadata": {
            "tags": [],
            "needs_background": "light"
          }
        }
      ]
    },
    {
      "cell_type": "code",
      "metadata": {
        "id": "e7ePfnwGrPuy"
      },
      "source": [
        ""
      ],
      "execution_count": null,
      "outputs": []
    },
    {
      "cell_type": "code",
      "metadata": {
        "id": "Ctp1PvG-rPxJ"
      },
      "source": [
        ""
      ],
      "execution_count": null,
      "outputs": []
    },
    {
      "cell_type": "code",
      "metadata": {
        "id": "DPb_Nsa6rPzl"
      },
      "source": [
        ""
      ],
      "execution_count": null,
      "outputs": []
    },
    {
      "cell_type": "code",
      "metadata": {
        "id": "ePNfAJXkrP2b"
      },
      "source": [
        ""
      ],
      "execution_count": null,
      "outputs": []
    },
    {
      "cell_type": "code",
      "metadata": {
        "id": "5SQu4Fw2rP4n"
      },
      "source": [
        ""
      ],
      "execution_count": null,
      "outputs": []
    }
  ]
}